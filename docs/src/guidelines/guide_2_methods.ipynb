{
 "cells": [
  {
   "cell_type": "markdown",
   "metadata": {},
   "source": [
    "# Contribution's guideline: methods"
   ]
  },
  {
   "cell_type": "markdown",
   "metadata": {},
   "source": [
    "Thank you very much for considering contributing to the methods collection of **NetworkCommons**! For methods, it is especially important that inputs and outputs are compatible with the rest of the package, the purpose is stated and the assumptions of the method are clear."
   ]
  },
  {
   "cell_type": "markdown",
   "metadata": {},
   "source": [
    "## 1. Method information\n",
    "* Experimental design: number of samples, number of experiments (if applicable), confounding factors\n",
    "* Data production and processing: tools used, how the data processing was performed (if applicable).\n",
    "* Files: number and type of files, with a small description of their contents.\n",
    "* Link to the database from which the data was retrieved.\n",
    "* Link to the dataset publication\n",
    "* Path information explaining the structure of the data directories\n",
    "This information should be appended to the existing YAML file in `networkcommons/data/datasets.yaml`\n",
    "\n",
    "An example of this can be found below:"
   ]
  }
 ],
 "metadata": {
  "language_info": {
   "name": "python"
  }
 },
 "nbformat": 4,
 "nbformat_minor": 2
}
