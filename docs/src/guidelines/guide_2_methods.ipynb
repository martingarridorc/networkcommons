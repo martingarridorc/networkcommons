{
 "cells": [
  {
   "cell_type": "markdown",
   "metadata": {},
   "source": [
    "# Contribution's guideline: Methods"
   ]
  },
  {
   "cell_type": "markdown",
   "metadata": {},
   "source": [
    "Thank you very much for considering contributing to the methods collection of **NetworkCommons**! For methods, it is especially important that inputs and outputs are compatible with the rest of the package, the purpose is stated and the assumptions of the method are clear."
   ]
  },
  {
   "cell_type": "markdown",
   "metadata": {},
   "source": [
    "## 1. Method information\n",
    "In the `methods.rst` file, contributors should add:\n",
    "\n",
    "* The description of the method\n",
    "* A figure showcasing the basics (if possible)\n",
    "* Input/output definition\n",
    "* Link to publication and repository (if available)"
   ]
  },
  {
   "cell_type": "markdown",
   "metadata": {},
   "source": [
    "## 2. Method API"
   ]
  },
  {
   "cell_type": "markdown",
   "metadata": {},
   "source": []
  },
  {
   "cell_type": "code",
   "execution_count": 1,
   "metadata": {},
   "outputs": [],
   "source": [
    "import networkcommons as nc"
   ]
  },
  {
   "cell_type": "code",
   "execution_count": 2,
   "metadata": {},
   "outputs": [
    {
     "data": {
      "text/html": [
       "<div>\n",
       "<style scoped>\n",
       "    .dataframe tbody tr th:only-of-type {\n",
       "        vertical-align: middle;\n",
       "    }\n",
       "\n",
       "    .dataframe tbody tr th {\n",
       "        vertical-align: top;\n",
       "    }\n",
       "\n",
       "    .dataframe thead th {\n",
       "        text-align: right;\n",
       "    }\n",
       "</style>\n",
       "<table border=\"1\" class=\"dataframe\">\n",
       "  <thead>\n",
       "    <tr style=\"text-align: right;\">\n",
       "      <th></th>\n",
       "      <th>name</th>\n",
       "      <th>description</th>\n",
       "      <th>publication_link</th>\n",
       "      <th>detailed_description</th>\n",
       "    </tr>\n",
       "  </thead>\n",
       "  <tbody>\n",
       "    <tr>\n",
       "      <th>decryptm</th>\n",
       "      <td>DecryptM</td>\n",
       "      <td>Drug perturbation proteomics and phosphoproteomics data</td>\n",
       "      <td>https://doi.org/10.1126/science.ade3925</td>\n",
       "      <td>This dataset contains the profiling of 31 cancer drugs in 13 human cancer cell line models resulted in 1.8 million dose-response curves, including 47,502 regulated phosphopeptides, 7316 ubiquitinylated peptides, and 546 regulated acetylated peptides.</td>\n",
       "    </tr>\n",
       "    <tr>\n",
       "      <th>panacea</th>\n",
       "      <td>Panacea</td>\n",
       "      <td>Pancancer Analysis of Chemical Entity Activity RNA-Seq data</td>\n",
       "      <td>https://doi.org/10.1016/j.xcrm.2021.100492</td>\n",
       "      <td>PANACEA contains dose-response and perturbational profiles for 32 kinase inhibitors in 11 cancer cell lines, in addition to a DMSO control. Originally, this resource served as the basis for a DREAM Challenge assessing the accuracy and sensitivity of computational algorithms for de novo drug polypharmacology predictions.</td>\n",
       "    </tr>\n",
       "    <tr>\n",
       "      <th>CPTAC</th>\n",
       "      <td>CPTAC</td>\n",
       "      <td>Clinical Proteomic Tumor Analysis Consortium data</td>\n",
       "      <td>https://doi.org/10.1158/2159-8290.CD-13-0219</td>\n",
       "      <td>This dataset contains data from the Clinical Proteomic Tumor Analysis Consortium. It includes various cancer types and proteomic data.</td>\n",
       "    </tr>\n",
       "    <tr>\n",
       "      <th>NCI60</th>\n",
       "      <td>NCI60</td>\n",
       "      <td>NCI-60 cell line data</td>\n",
       "      <td>https://doi.org/10.1038/nrc1951</td>\n",
       "      <td>This dataset contains data from the NCI-60 cell line panel. It includes three files: TF activities from transcriptomics data, metabolite abundances and gene reads.</td>\n",
       "    </tr>\n",
       "  </tbody>\n",
       "</table>\n",
       "</div>"
      ],
      "text/plain": [
       "              name  \\\n",
       "decryptm  DecryptM   \n",
       "panacea    Panacea   \n",
       "CPTAC        CPTAC   \n",
       "NCI60        NCI60   \n",
       "\n",
       "                                                          description  \\\n",
       "decryptm      Drug perturbation proteomics and phosphoproteomics data   \n",
       "panacea   Pancancer Analysis of Chemical Entity Activity RNA-Seq data   \n",
       "CPTAC               Clinical Proteomic Tumor Analysis Consortium data   \n",
       "NCI60                                           NCI-60 cell line data   \n",
       "\n",
       "                                      publication_link  \\\n",
       "decryptm       https://doi.org/10.1126/science.ade3925   \n",
       "panacea     https://doi.org/10.1016/j.xcrm.2021.100492   \n",
       "CPTAC     https://doi.org/10.1158/2159-8290.CD-13-0219   \n",
       "NCI60                  https://doi.org/10.1038/nrc1951   \n",
       "\n",
       "                                                                                                                                                                                                                                                                                                                       detailed_description  \n",
       "decryptm                                                                         This dataset contains the profiling of 31 cancer drugs in 13 human cancer cell line models resulted in 1.8 million dose-response curves, including 47,502 regulated phosphopeptides, 7316 ubiquitinylated peptides, and 546 regulated acetylated peptides.  \n",
       "panacea   PANACEA contains dose-response and perturbational profiles for 32 kinase inhibitors in 11 cancer cell lines, in addition to a DMSO control. Originally, this resource served as the basis for a DREAM Challenge assessing the accuracy and sensitivity of computational algorithms for de novo drug polypharmacology predictions.  \n",
       "CPTAC                                                                                                                                                                                                This dataset contains data from the Clinical Proteomic Tumor Analysis Consortium. It includes various cancer types and proteomic data.  \n",
       "NCI60                                                                                                                                                                   This dataset contains data from the NCI-60 cell line panel. It includes three files: TF activities from transcriptomics data, metabolite abundances and gene reads.  "
      ]
     },
     "execution_count": 2,
     "metadata": {},
     "output_type": "execute_result"
    }
   ],
   "source": [
    "nc.data.omics.datasets()"
   ]
  },
  {
   "cell_type": "code",
   "execution_count": null,
   "metadata": {},
   "outputs": [],
   "source": []
  }
 ],
 "metadata": {
  "kernelspec": {
   "display_name": "networkcommons-DX9y6Uxu-py3.10",
   "language": "python",
   "name": "python3"
  },
  "language_info": {
   "codemirror_mode": {
    "name": "ipython",
    "version": 3
   },
   "file_extension": ".py",
   "mimetype": "text/x-python",
   "name": "python",
   "nbconvert_exporter": "python",
   "pygments_lexer": "ipython3",
   "version": "3.10.12"
  }
 },
 "nbformat": 4,
 "nbformat_minor": 2
}
