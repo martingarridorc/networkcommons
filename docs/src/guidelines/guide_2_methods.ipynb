{
 "cells": [
  {
   "cell_type": "markdown",
   "metadata": {},
   "source": [
    "# Contribution's guideline: Methods"
   ]
  },
  {
   "cell_type": "markdown",
   "metadata": {},
   "source": [
    "Thank you very much for considering contributing to the methods collection of **NetworkCommons**! For methods, it is especially important that inputs and outputs are compatible with the rest of the package, the purpose is stated and the assumptions of the method are clear."
   ]
  },
  {
   "cell_type": "markdown",
   "metadata": {},
   "source": [
    "## 1. API implementation"
   ]
  },
  {
   "cell_type": "markdown",
   "metadata": {},
   "source": [
    "* Every new method should be implemented in a separate file (e.g `_moon.py`) inside `/networkcommons/methods/`. \n",
    "* Contributors can then implement their own set of functionalities and expose those necessary to the public API via the `__all__` variable (see other files for examples).\n",
    "* The input of the overall pipeline must be at least a `Network` object, and its overall output should return at least a `Network` object containing the contextualised network. This does not apply to intermediate functions (e.g `Network` --function 1--> `pd.DataFrame` --function 2--> `Network`) in case of a pipeline containing several functions, such as MOON."
   ]
  },
  {
   "cell_type": "markdown",
   "metadata": {},
   "source": [
    "## 2. Documentation"
   ]
  },
  {
   "cell_type": "markdown",
   "metadata": {},
   "source": [
    "In the `./docs/src/methods.rst` file, contributors should add:\n",
    "\n",
    "* The description of the method\n",
    "* A figure showcasing the basics (if possible)\n",
    "* Input/output definition\n",
    "* Link to publication and repository (if available)"
   ]
  },
  {
   "cell_type": "markdown",
   "metadata": {},
   "source": [
    "Functions should be documented using [Google style Python docstrings](https://sphinxcontrib-napoleon.readthedocs.io/en/latest/example_google.html)."
   ]
  },
  {
   "cell_type": "markdown",
   "metadata": {},
   "source": [
    "In `./docs/src/api.rst`, contributors should add a new documentation module that contains the new classes/functions implemented:"
   ]
  },
  {
   "cell_type": "markdown",
   "metadata": {},
   "source": [
    "    New Method\n",
    "    ~~~~\n",
    "    .. module::networkcommons.methods\n",
    "    .. currentmodule:: networkcommons\n",
    "\n",
    "    .. autosummary::\n",
    "        :toctree: api\n",
    "        :recursive:\n",
    "\n",
    "        methods.run_shortest_paths\n",
    "        methods.run_sign_consistency\n",
    "        methods.run_reachability_filter\n",
    "        methods.run_all_paths\n",
    "        methods.compute_all_paths\n",
    "        methods.add_pagerank_scores\n",
    "        methods.compute_ppr_overlap"
   ]
  },
  {
   "cell_type": "markdown",
   "metadata": {},
   "source": []
  }
 ],
 "metadata": {
  "kernelspec": {
   "display_name": "networkcommons-DX9y6Uxu-py3.10",
   "language": "python",
   "name": "python3"
  },
  "language_info": {
   "codemirror_mode": {
    "name": "ipython",
    "version": 3
   },
   "file_extension": ".py",
   "mimetype": "text/x-python",
   "name": "python",
   "nbconvert_exporter": "python",
   "pygments_lexer": "ipython3",
   "version": "3.10.12"
  }
 },
 "nbformat": 4,
 "nbformat_minor": 2
}
