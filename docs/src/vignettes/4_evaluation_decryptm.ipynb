{
 "cells": [
  {
   "cell_type": "markdown",
   "metadata": {},
   "source": [
    "# Vignette 4: Sensitive response to drug perturbation using phosphoproteomics"
   ]
  },
  {
   "cell_type": "markdown",
   "metadata": {},
   "source": [
    "The aim of this vignette is to explore a new way of evaluating the networks. In this setting, we assume that the networks that better contextualise the perturbation will have a higher average pEC50 in the nodes included in the solution network, compared to the ones not included. On the contrary, the networks which are not able to contextualise the perturbation will not show differences in the EC50 values of the nodes included or excluded."
   ]
  },
  {
   "cell_type": "code",
   "execution_count": 1,
   "metadata": {},
   "outputs": [],
   "source": [
    "import networkcommons as nc\n",
    "import pandas as pd\n",
    "import decoupler as dc"
   ]
  },
  {
   "cell_type": "markdown",
   "metadata": {},
   "source": [
    "## 1. Data processing"
   ]
  },
  {
   "cell_type": "markdown",
   "metadata": {},
   "source": [
    "To showcase this strategy, we will use data from the [DecryptM](../datasets.html#decryptm) resource, a compendium of 14 different experiments comprising 4 different proteomics profiles and 31 different drugs. \n",
    "\n",
    "> Jana Zecha et al., Decrypting drug actions and protein modifications by dose- and time-resolved proteomics. *Science 380,93-101(2023)*. https://doi.org/10.1126/science.ade3925\n",
    "\n",
    "To see in a nutshell the available experiments from the resource, we can use `nc.data.omics.decryptm_datasets`\n"
   ]
  },
  {
   "cell_type": "markdown",
   "metadata": {},
   "source": [
    "<div class=\"alert alert-info\">\n",
    "\n",
    "**Note**\n",
    "    \n",
    "This is just an example, these steps should change depending on the data.\n",
    "\n",
    "</div> "
   ]
  },
  {
   "cell_type": "markdown",
   "metadata": {},
   "source": [
    "For the sake of simplicity, we will focus on one drug targeting EGFR. We get the 3 EGFR inhibitors"
   ]
  },
  {
   "cell_type": "code",
   "execution_count": 2,
   "metadata": {},
   "outputs": [
    {
     "data": {
      "text/html": [
       "<div>\n",
       "<style scoped>\n",
       "    .dataframe tbody tr th:only-of-type {\n",
       "        vertical-align: middle;\n",
       "    }\n",
       "\n",
       "    .dataframe tbody tr th {\n",
       "        vertical-align: top;\n",
       "    }\n",
       "\n",
       "    .dataframe thead th {\n",
       "        text-align: right;\n",
       "    }\n",
       "</style>\n",
       "<table border=\"1\" class=\"dataframe\">\n",
       "  <thead>\n",
       "    <tr style=\"text-align: right;\">\n",
       "      <th></th>\n",
       "      <th>Modified sequence</th>\n",
       "      <th>Experiment</th>\n",
       "      <th>N duplicates</th>\n",
       "      <th>Sequence</th>\n",
       "      <th>Length</th>\n",
       "      <th>Missed cleavages</th>\n",
       "      <th>Proteins</th>\n",
       "      <th>Leading proteins</th>\n",
       "      <th>Gene names</th>\n",
       "      <th>Protein names</th>\n",
       "      <th>...</th>\n",
       "      <th>R2</th>\n",
       "      <th>Curve RMSE</th>\n",
       "      <th>Log EC50 error</th>\n",
       "      <th>Curve slope error</th>\n",
       "      <th>Curve top error</th>\n",
       "      <th>Curve bottom error</th>\n",
       "      <th>EC50</th>\n",
       "      <th>pEC50</th>\n",
       "      <th>Curve effect size</th>\n",
       "      <th>Regulation</th>\n",
       "    </tr>\n",
       "  </thead>\n",
       "  <tbody>\n",
       "    <tr>\n",
       "      <th>0</th>\n",
       "      <td>(ac)AAAAAAAGDS(ph)DS(ph)WDADAFSVEDPVRK</td>\n",
       "      <td>ddPTM_A431_Gefitinib_30min_R1</td>\n",
       "      <td>1</td>\n",
       "      <td>AAAAAAAGDSDSWDADAFSVEDPVRK</td>\n",
       "      <td>26</td>\n",
       "      <td>1</td>\n",
       "      <td>O75822-2;O75822;O75822-3</td>\n",
       "      <td>O75822-2</td>\n",
       "      <td>EIF3J</td>\n",
       "      <td>Eukaryotic translation initiation factor 3 sub...</td>\n",
       "      <td>...</td>\n",
       "      <td>0.312473</td>\n",
       "      <td>0.056466</td>\n",
       "      <td>11221.931923</td>\n",
       "      <td>7.936189</td>\n",
       "      <td>871.584121</td>\n",
       "      <td>1158.653028</td>\n",
       "      <td>2.471293e-03</td>\n",
       "      <td>2.607076</td>\n",
       "      <td>2.379040</td>\n",
       "      <td>NaN</td>\n",
       "    </tr>\n",
       "    <tr>\n",
       "      <th>1</th>\n",
       "      <td>(ac)AAAAAAAGDS(ph)DSWDADAFSVEDPVR</td>\n",
       "      <td>ddPTM_A431_Afatinib_30min_R3</td>\n",
       "      <td>1</td>\n",
       "      <td>AAAAAAAGDSDSWDADAFSVEDPVR</td>\n",
       "      <td>25</td>\n",
       "      <td>0</td>\n",
       "      <td>O75822-2;O75822;O75822-3</td>\n",
       "      <td>O75822-2</td>\n",
       "      <td>EIF3J</td>\n",
       "      <td>Eukaryotic translation initiation factor 3 sub...</td>\n",
       "      <td>...</td>\n",
       "      <td>NaN</td>\n",
       "      <td>NaN</td>\n",
       "      <td>NaN</td>\n",
       "      <td>NaN</td>\n",
       "      <td>NaN</td>\n",
       "      <td>NaN</td>\n",
       "      <td>NaN</td>\n",
       "      <td>NaN</td>\n",
       "      <td>NaN</td>\n",
       "      <td>NaN</td>\n",
       "    </tr>\n",
       "    <tr>\n",
       "      <th>2</th>\n",
       "      <td>(ac)AAAAAAAGDS(ph)DSWDADAFSVEDPVR</td>\n",
       "      <td>ddPTM_A431_Gefitinib_30min_R4</td>\n",
       "      <td>1</td>\n",
       "      <td>AAAAAAAGDSDSWDADAFSVEDPVR</td>\n",
       "      <td>25</td>\n",
       "      <td>0</td>\n",
       "      <td>O75822-2;O75822;O75822-3</td>\n",
       "      <td>O75822-2</td>\n",
       "      <td>EIF3J</td>\n",
       "      <td>Eukaryotic translation initiation factor 3 sub...</td>\n",
       "      <td>...</td>\n",
       "      <td>NaN</td>\n",
       "      <td>NaN</td>\n",
       "      <td>NaN</td>\n",
       "      <td>NaN</td>\n",
       "      <td>NaN</td>\n",
       "      <td>NaN</td>\n",
       "      <td>NaN</td>\n",
       "      <td>NaN</td>\n",
       "      <td>NaN</td>\n",
       "      <td>NaN</td>\n",
       "    </tr>\n",
       "    <tr>\n",
       "      <th>3</th>\n",
       "      <td>(ac)AAAAAAAGDS(ph)DSWDADAFSVEDPVRK</td>\n",
       "      <td>ddPTM_A431_Afatinib_30min_R1</td>\n",
       "      <td>2</td>\n",
       "      <td>AAAAAAAGDSDSWDADAFSVEDPVRK</td>\n",
       "      <td>26</td>\n",
       "      <td>1</td>\n",
       "      <td>O75822-2;O75822;O75822-3</td>\n",
       "      <td>O75822-2</td>\n",
       "      <td>EIF3J</td>\n",
       "      <td>Eukaryotic translation initiation factor 3 sub...</td>\n",
       "      <td>...</td>\n",
       "      <td>0.525850</td>\n",
       "      <td>0.047043</td>\n",
       "      <td>0.167239</td>\n",
       "      <td>3.354840</td>\n",
       "      <td>0.011725</td>\n",
       "      <td>0.014125</td>\n",
       "      <td>3.778167e-08</td>\n",
       "      <td>7.422719</td>\n",
       "      <td>0.119437</td>\n",
       "      <td>NaN</td>\n",
       "    </tr>\n",
       "    <tr>\n",
       "      <th>4</th>\n",
       "      <td>(ac)AAAAAAAGDS(ph)DSWDADAFSVEDPVRK</td>\n",
       "      <td>ddPTM_A431_Afatinib_30min_R2</td>\n",
       "      <td>1</td>\n",
       "      <td>AAAAAAAGDSDSWDADAFSVEDPVRK</td>\n",
       "      <td>26</td>\n",
       "      <td>1</td>\n",
       "      <td>O75822-2;O75822;O75822-3</td>\n",
       "      <td>O75822-2</td>\n",
       "      <td>EIF3J</td>\n",
       "      <td>Eukaryotic translation initiation factor 3 sub...</td>\n",
       "      <td>...</td>\n",
       "      <td>0.696323</td>\n",
       "      <td>0.034528</td>\n",
       "      <td>0.558905</td>\n",
       "      <td>0.317307</td>\n",
       "      <td>0.012134</td>\n",
       "      <td>0.058948</td>\n",
       "      <td>3.733359e-07</td>\n",
       "      <td>6.427900</td>\n",
       "      <td>0.189958</td>\n",
       "      <td>NaN</td>\n",
       "    </tr>\n",
       "  </tbody>\n",
       "</table>\n",
       "<p>5 rows × 65 columns</p>\n",
       "</div>"
      ],
      "text/plain": [
       "                        Modified sequence                     Experiment  \\\n",
       "0  (ac)AAAAAAAGDS(ph)DS(ph)WDADAFSVEDPVRK  ddPTM_A431_Gefitinib_30min_R1   \n",
       "1       (ac)AAAAAAAGDS(ph)DSWDADAFSVEDPVR   ddPTM_A431_Afatinib_30min_R3   \n",
       "2       (ac)AAAAAAAGDS(ph)DSWDADAFSVEDPVR  ddPTM_A431_Gefitinib_30min_R4   \n",
       "3      (ac)AAAAAAAGDS(ph)DSWDADAFSVEDPVRK   ddPTM_A431_Afatinib_30min_R1   \n",
       "4      (ac)AAAAAAAGDS(ph)DSWDADAFSVEDPVRK   ddPTM_A431_Afatinib_30min_R2   \n",
       "\n",
       "   N duplicates                    Sequence  Length  Missed cleavages  \\\n",
       "0             1  AAAAAAAGDSDSWDADAFSVEDPVRK      26                 1   \n",
       "1             1   AAAAAAAGDSDSWDADAFSVEDPVR      25                 0   \n",
       "2             1   AAAAAAAGDSDSWDADAFSVEDPVR      25                 0   \n",
       "3             2  AAAAAAAGDSDSWDADAFSVEDPVRK      26                 1   \n",
       "4             1  AAAAAAAGDSDSWDADAFSVEDPVRK      26                 1   \n",
       "\n",
       "                   Proteins Leading proteins Gene names  \\\n",
       "0  O75822-2;O75822;O75822-3         O75822-2      EIF3J   \n",
       "1  O75822-2;O75822;O75822-3         O75822-2      EIF3J   \n",
       "2  O75822-2;O75822;O75822-3         O75822-2      EIF3J   \n",
       "3  O75822-2;O75822;O75822-3         O75822-2      EIF3J   \n",
       "4  O75822-2;O75822;O75822-3         O75822-2      EIF3J   \n",
       "\n",
       "                                       Protein names  ...        R2  \\\n",
       "0  Eukaryotic translation initiation factor 3 sub...  ...  0.312473   \n",
       "1  Eukaryotic translation initiation factor 3 sub...  ...       NaN   \n",
       "2  Eukaryotic translation initiation factor 3 sub...  ...       NaN   \n",
       "3  Eukaryotic translation initiation factor 3 sub...  ...  0.525850   \n",
       "4  Eukaryotic translation initiation factor 3 sub...  ...  0.696323   \n",
       "\n",
       "  Curve RMSE  Log EC50 error  Curve slope error  Curve top error  \\\n",
       "0   0.056466    11221.931923           7.936189       871.584121   \n",
       "1        NaN             NaN                NaN              NaN   \n",
       "2        NaN             NaN                NaN              NaN   \n",
       "3   0.047043        0.167239           3.354840         0.011725   \n",
       "4   0.034528        0.558905           0.317307         0.012134   \n",
       "\n",
       "   Curve bottom error          EC50     pEC50  Curve effect size  Regulation  \n",
       "0         1158.653028  2.471293e-03  2.607076           2.379040         NaN  \n",
       "1                 NaN           NaN       NaN                NaN         NaN  \n",
       "2                 NaN           NaN       NaN                NaN         NaN  \n",
       "3            0.014125  3.778167e-08  7.422719           0.119437         NaN  \n",
       "4            0.058948  3.733359e-07  6.427900           0.189958         NaN  \n",
       "\n",
       "[5 rows x 65 columns]"
      ]
     },
     "execution_count": 2,
     "metadata": {},
     "output_type": "execute_result"
    }
   ],
   "source": [
    "decryptm_curves = nc.data.omics.decryptm_table('3_EGFR_Inhibitors', 'Phosphoproteome', 'curves.txt')\n",
    "decryptm_curves.head()"
   ]
  },
  {
   "cell_type": "markdown",
   "metadata": {},
   "source": [
    "We first filter those fittings with a high R2. We define here an arbitrary threshold of 0.9"
   ]
  },
  {
   "cell_type": "code",
   "execution_count": 3,
   "metadata": {},
   "outputs": [],
   "source": [
    "filtered_df = decryptm_curves[decryptm_curves['R2']>0.9]"
   ]
  },
  {
   "cell_type": "markdown",
   "metadata": {},
   "source": [
    "Now, we can extract the information from each sample by splitting the Experiment column:"
   ]
  },
  {
   "cell_type": "code",
   "execution_count": 4,
   "metadata": {},
   "outputs": [
    {
     "name": "stderr",
     "output_type": "stream",
     "text": [
      "/tmp/ipykernel_16531/3695212997.py:1: SettingWithCopyWarning: \n",
      "A value is trying to be set on a copy of a slice from a DataFrame.\n",
      "Try using .loc[row_indexer,col_indexer] = value instead\n",
      "\n",
      "See the caveats in the documentation: https://pandas.pydata.org/pandas-docs/stable/user_guide/indexing.html#returning-a-view-versus-a-copy\n",
      "/tmp/ipykernel_16531/3695212997.py:1: SettingWithCopyWarning: \n",
      "A value is trying to be set on a copy of a slice from a DataFrame.\n",
      "Try using .loc[row_indexer,col_indexer] = value instead\n",
      "\n",
      "See the caveats in the documentation: https://pandas.pydata.org/pandas-docs/stable/user_guide/indexing.html#returning-a-view-versus-a-copy\n",
      "/tmp/ipykernel_16531/3695212997.py:1: SettingWithCopyWarning: \n",
      "A value is trying to be set on a copy of a slice from a DataFrame.\n",
      "Try using .loc[row_indexer,col_indexer] = value instead\n",
      "\n",
      "See the caveats in the documentation: https://pandas.pydata.org/pandas-docs/stable/user_guide/indexing.html#returning-a-view-versus-a-copy\n",
      "/tmp/ipykernel_16531/3695212997.py:1: SettingWithCopyWarning: \n",
      "A value is trying to be set on a copy of a slice from a DataFrame.\n",
      "Try using .loc[row_indexer,col_indexer] = value instead\n",
      "\n",
      "See the caveats in the documentation: https://pandas.pydata.org/pandas-docs/stable/user_guide/indexing.html#returning-a-view-versus-a-copy\n",
      "/tmp/ipykernel_16531/3695212997.py:1: SettingWithCopyWarning: \n",
      "A value is trying to be set on a copy of a slice from a DataFrame.\n",
      "Try using .loc[row_indexer,col_indexer] = value instead\n",
      "\n",
      "See the caveats in the documentation: https://pandas.pydata.org/pandas-docs/stable/user_guide/indexing.html#returning-a-view-versus-a-copy\n"
     ]
    }
   ],
   "source": [
    "filtered_df[['PTM', 'Cell_line', 'Drug', 'Time', 'Rep']] = filtered_df['Experiment'].str.split('_', expand=True)"
   ]
  },
  {
   "cell_type": "markdown",
   "metadata": {},
   "source": [
    "We can see which drug has the most fitted curves, which will be the one we will choose for this analysis. "
   ]
  },
  {
   "cell_type": "code",
   "execution_count": 5,
   "metadata": {},
   "outputs": [
    {
     "data": {
      "text/plain": [
       "Drug\n",
       "Afatinib     4054\n",
       "Gefitinib    1515\n",
       "Dasatinib    1368\n",
       "Name: count, dtype: int64"
      ]
     },
     "execution_count": 5,
     "metadata": {},
     "output_type": "execute_result"
    }
   ],
   "source": [
    "filtered_df['Drug'].value_counts()"
   ]
  },
  {
   "cell_type": "markdown",
   "metadata": {},
   "source": [
    "With 4054 fitted curves, we can continue the analysis focusing in Afatinib."
   ]
  },
  {
   "cell_type": "code",
   "execution_count": 6,
   "metadata": {},
   "outputs": [],
   "source": [
    "filtered_df = filtered_df[filtered_df['Drug'] == 'Afatinib']"
   ]
  },
  {
   "cell_type": "markdown",
   "metadata": {},
   "source": [
    "We binarise the Regulation column:"
   ]
  },
  {
   "cell_type": "code",
   "execution_count": 7,
   "metadata": {},
   "outputs": [],
   "source": [
    "filtered_df['Regulation'] = filtered_df['Regulation'].map({'up': 1, 'down': -1}).fillna(0)"
   ]
  },
  {
   "cell_type": "markdown",
   "metadata": {},
   "source": [
    "Now, since our prior knowledge network is detailed to the protein level, we need to summarise our phosphosite-specific information. For this, we can just calculate the average across phosphosites and replicates, per protein."
   ]
  },
  {
   "cell_type": "code",
   "execution_count": 8,
   "metadata": {},
   "outputs": [],
   "source": [
    "numeric_cols = filtered_df.select_dtypes(include=[float, int]).columns\n",
    "grouped_df = filtered_df.groupby(['PTM', 'Cell_line', 'Drug', 'Time', 'Gene names'])[numeric_cols].mean()\n",
    "grouped_df.reset_index(inplace=True)"
   ]
  },
  {
   "cell_type": "markdown",
   "metadata": {},
   "source": [
    "We discard those proteins which showed no response:"
   ]
  },
  {
   "cell_type": "code",
   "execution_count": 9,
   "metadata": {},
   "outputs": [],
   "source": [
    "grouped_df = grouped_df[grouped_df['Regulation'] != 0]"
   ]
  },
  {
   "cell_type": "code",
   "execution_count": 10,
   "metadata": {},
   "outputs": [],
   "source": [
    "collectri = dc.get_collectri()\n",
    "collectri_tfs = set(collectri.source)"
   ]
  },
  {
   "cell_type": "markdown",
   "metadata": {},
   "source": [
    "Now, we split our dataset in two. On one side, we will use the transcription factors (TFs) for the measurement layer (upregulated or downregulated). The rest of measurements which are not TFs will be used for the evaluation."
   ]
  },
  {
   "cell_type": "code",
   "execution_count": 11,
   "metadata": {},
   "outputs": [
    {
     "data": {
      "text/html": [
       "<div>\n",
       "<style scoped>\n",
       "    .dataframe tbody tr th:only-of-type {\n",
       "        vertical-align: middle;\n",
       "    }\n",
       "\n",
       "    .dataframe tbody tr th {\n",
       "        vertical-align: top;\n",
       "    }\n",
       "\n",
       "    .dataframe thead th {\n",
       "        text-align: right;\n",
       "    }\n",
       "</style>\n",
       "<table border=\"1\" class=\"dataframe\">\n",
       "  <thead>\n",
       "    <tr style=\"text-align: right;\">\n",
       "      <th></th>\n",
       "      <th>PTM</th>\n",
       "      <th>Cell_line</th>\n",
       "      <th>Drug</th>\n",
       "      <th>Time</th>\n",
       "      <th>Gene names</th>\n",
       "      <th>N duplicates</th>\n",
       "      <th>Length</th>\n",
       "      <th>Missed cleavages</th>\n",
       "      <th>Phospho (STY)</th>\n",
       "      <th>Max Score</th>\n",
       "      <th>...</th>\n",
       "      <th>R2</th>\n",
       "      <th>Curve RMSE</th>\n",
       "      <th>Log EC50 error</th>\n",
       "      <th>Curve slope error</th>\n",
       "      <th>Curve top error</th>\n",
       "      <th>Curve bottom error</th>\n",
       "      <th>EC50</th>\n",
       "      <th>pEC50</th>\n",
       "      <th>Curve effect size</th>\n",
       "      <th>Regulation</th>\n",
       "    </tr>\n",
       "  </thead>\n",
       "  <tbody>\n",
       "    <tr>\n",
       "      <th>37</th>\n",
       "      <td>ddPTM</td>\n",
       "      <td>A431</td>\n",
       "      <td>Afatinib</td>\n",
       "      <td>30min</td>\n",
       "      <td>AKNA</td>\n",
       "      <td>1.00</td>\n",
       "      <td>8.000000</td>\n",
       "      <td>0.000000</td>\n",
       "      <td>1.000000</td>\n",
       "      <td>97.565000</td>\n",
       "      <td>...</td>\n",
       "      <td>0.930210</td>\n",
       "      <td>0.079855</td>\n",
       "      <td>0.078054</td>\n",
       "      <td>0.326630</td>\n",
       "      <td>0.022948</td>\n",
       "      <td>0.021961</td>\n",
       "      <td>1.081113e-08</td>\n",
       "      <td>7.966129</td>\n",
       "      <td>-0.633375</td>\n",
       "      <td>-1.000000</td>\n",
       "    </tr>\n",
       "    <tr>\n",
       "      <th>77</th>\n",
       "      <td>ddPTM</td>\n",
       "      <td>A431</td>\n",
       "      <td>Afatinib</td>\n",
       "      <td>30min</td>\n",
       "      <td>ARHGAP35</td>\n",
       "      <td>1.25</td>\n",
       "      <td>15.416667</td>\n",
       "      <td>0.583333</td>\n",
       "      <td>1.166667</td>\n",
       "      <td>219.326917</td>\n",
       "      <td>...</td>\n",
       "      <td>0.951323</td>\n",
       "      <td>0.063784</td>\n",
       "      <td>0.113077</td>\n",
       "      <td>1.232567</td>\n",
       "      <td>0.022569</td>\n",
       "      <td>0.030057</td>\n",
       "      <td>1.907749e-07</td>\n",
       "      <td>7.873396</td>\n",
       "      <td>-0.673425</td>\n",
       "      <td>-0.833333</td>\n",
       "    </tr>\n",
       "    <tr>\n",
       "      <th>106</th>\n",
       "      <td>ddPTM</td>\n",
       "      <td>A431</td>\n",
       "      <td>Afatinib</td>\n",
       "      <td>30min</td>\n",
       "      <td>ATF7</td>\n",
       "      <td>1.20</td>\n",
       "      <td>15.400000</td>\n",
       "      <td>0.400000</td>\n",
       "      <td>1.600000</td>\n",
       "      <td>231.716000</td>\n",
       "      <td>...</td>\n",
       "      <td>0.939197</td>\n",
       "      <td>0.046872</td>\n",
       "      <td>2.402108</td>\n",
       "      <td>0.517590</td>\n",
       "      <td>0.020224</td>\n",
       "      <td>2.005207</td>\n",
       "      <td>2.000098e-03</td>\n",
       "      <td>6.252465</td>\n",
       "      <td>0.540893</td>\n",
       "      <td>-0.200000</td>\n",
       "    </tr>\n",
       "    <tr>\n",
       "      <th>113</th>\n",
       "      <td>ddPTM</td>\n",
       "      <td>A431</td>\n",
       "      <td>Afatinib</td>\n",
       "      <td>30min</td>\n",
       "      <td>ATRX</td>\n",
       "      <td>1.00</td>\n",
       "      <td>12.125000</td>\n",
       "      <td>1.000000</td>\n",
       "      <td>1.250000</td>\n",
       "      <td>205.422625</td>\n",
       "      <td>...</td>\n",
       "      <td>0.925583</td>\n",
       "      <td>0.059691</td>\n",
       "      <td>0.129673</td>\n",
       "      <td>0.607281</td>\n",
       "      <td>0.020850</td>\n",
       "      <td>0.023965</td>\n",
       "      <td>1.983393e-08</td>\n",
       "      <td>8.059884</td>\n",
       "      <td>-0.060007</td>\n",
       "      <td>-0.125000</td>\n",
       "    </tr>\n",
       "    <tr>\n",
       "      <th>128</th>\n",
       "      <td>ddPTM</td>\n",
       "      <td>A431</td>\n",
       "      <td>Afatinib</td>\n",
       "      <td>30min</td>\n",
       "      <td>BCL3</td>\n",
       "      <td>1.10</td>\n",
       "      <td>16.000000</td>\n",
       "      <td>1.000000</td>\n",
       "      <td>1.400000</td>\n",
       "      <td>131.791200</td>\n",
       "      <td>...</td>\n",
       "      <td>0.945352</td>\n",
       "      <td>0.093729</td>\n",
       "      <td>0.093656</td>\n",
       "      <td>0.186224</td>\n",
       "      <td>0.040301</td>\n",
       "      <td>0.036615</td>\n",
       "      <td>7.787948e-09</td>\n",
       "      <td>8.132247</td>\n",
       "      <td>-0.125451</td>\n",
       "      <td>-0.400000</td>\n",
       "    </tr>\n",
       "  </tbody>\n",
       "</table>\n",
       "<p>5 rows × 60 columns</p>\n",
       "</div>"
      ],
      "text/plain": [
       "       PTM Cell_line      Drug   Time Gene names  N duplicates     Length  \\\n",
       "37   ddPTM      A431  Afatinib  30min       AKNA          1.00   8.000000   \n",
       "77   ddPTM      A431  Afatinib  30min   ARHGAP35          1.25  15.416667   \n",
       "106  ddPTM      A431  Afatinib  30min       ATF7          1.20  15.400000   \n",
       "113  ddPTM      A431  Afatinib  30min       ATRX          1.00  12.125000   \n",
       "128  ddPTM      A431  Afatinib  30min       BCL3          1.10  16.000000   \n",
       "\n",
       "     Missed cleavages  Phospho (STY)   Max Score  ...        R2  Curve RMSE  \\\n",
       "37           0.000000       1.000000   97.565000  ...  0.930210    0.079855   \n",
       "77           0.583333       1.166667  219.326917  ...  0.951323    0.063784   \n",
       "106          0.400000       1.600000  231.716000  ...  0.939197    0.046872   \n",
       "113          1.000000       1.250000  205.422625  ...  0.925583    0.059691   \n",
       "128          1.000000       1.400000  131.791200  ...  0.945352    0.093729   \n",
       "\n",
       "     Log EC50 error  Curve slope error  Curve top error  Curve bottom error  \\\n",
       "37         0.078054           0.326630         0.022948            0.021961   \n",
       "77         0.113077           1.232567         0.022569            0.030057   \n",
       "106        2.402108           0.517590         0.020224            2.005207   \n",
       "113        0.129673           0.607281         0.020850            0.023965   \n",
       "128        0.093656           0.186224         0.040301            0.036615   \n",
       "\n",
       "             EC50     pEC50  Curve effect size  Regulation  \n",
       "37   1.081113e-08  7.966129          -0.633375   -1.000000  \n",
       "77   1.907749e-07  7.873396          -0.673425   -0.833333  \n",
       "106  2.000098e-03  6.252465           0.540893   -0.200000  \n",
       "113  1.983393e-08  8.059884          -0.060007   -0.125000  \n",
       "128  7.787948e-09  8.132247          -0.125451   -0.400000  \n",
       "\n",
       "[5 rows x 60 columns]"
      ]
     },
     "execution_count": 11,
     "metadata": {},
     "output_type": "execute_result"
    }
   ],
   "source": [
    "measurements = grouped_df[grouped_df['Gene names'].isin(collectri_tfs)]\n",
    "measurements.head()"
   ]
  },
  {
   "cell_type": "code",
   "execution_count": 12,
   "metadata": {},
   "outputs": [
    {
     "data": {
      "text/plain": [
       "[('ABLIM3', 8.038036722142818),\n",
       " ('ACACA', 7.919001347352594),\n",
       " ('ACIN1', 8.51245270397656),\n",
       " ('ADAM17', 8.088225031254964),\n",
       " ('ADAR', 8.209162778966169)]"
      ]
     },
     "execution_count": 12,
     "metadata": {},
     "output_type": "execute_result"
    }
   ],
   "source": [
    "ec50_values = grouped_df[~grouped_df['Gene names'].isin(collectri_tfs)]\n",
    "ec50_dict = dict(zip(grouped_df['Gene names'], grouped_df['pEC50']))\n",
    "list(ec50_dict.items())[:5]"
   ]
  },
  {
   "cell_type": "markdown",
   "metadata": {},
   "source": [
    "## 2. Network inference"
   ]
  },
  {
   "cell_type": "markdown",
   "metadata": {},
   "source": [
    "Afatinib is an EGFR inhibitor, therefore:"
   ]
  },
  {
   "cell_type": "code",
   "execution_count": 13,
   "metadata": {},
   "outputs": [],
   "source": [
    "source_dict = {'EGFR': -1}"
   ]
  },
  {
   "cell_type": "markdown",
   "metadata": {},
   "source": [
    "We get the top 30 most sensitive TFs."
   ]
  },
  {
   "cell_type": "code",
   "execution_count": 14,
   "metadata": {},
   "outputs": [
    {
     "data": {
      "text/html": [
       "<div>\n",
       "<style scoped>\n",
       "    .dataframe tbody tr th:only-of-type {\n",
       "        vertical-align: middle;\n",
       "    }\n",
       "\n",
       "    .dataframe tbody tr th {\n",
       "        vertical-align: top;\n",
       "    }\n",
       "\n",
       "    .dataframe thead th {\n",
       "        text-align: right;\n",
       "    }\n",
       "</style>\n",
       "<table border=\"1\" class=\"dataframe\">\n",
       "  <thead>\n",
       "    <tr style=\"text-align: right;\">\n",
       "      <th></th>\n",
       "      <th>PTM</th>\n",
       "      <th>Cell_line</th>\n",
       "      <th>Drug</th>\n",
       "      <th>Time</th>\n",
       "      <th>Gene names</th>\n",
       "      <th>N duplicates</th>\n",
       "      <th>Length</th>\n",
       "      <th>Missed cleavages</th>\n",
       "      <th>Phospho (STY)</th>\n",
       "      <th>Max Score</th>\n",
       "      <th>...</th>\n",
       "      <th>R2</th>\n",
       "      <th>Curve RMSE</th>\n",
       "      <th>Log EC50 error</th>\n",
       "      <th>Curve slope error</th>\n",
       "      <th>Curve top error</th>\n",
       "      <th>Curve bottom error</th>\n",
       "      <th>EC50</th>\n",
       "      <th>pEC50</th>\n",
       "      <th>Curve effect size</th>\n",
       "      <th>Regulation</th>\n",
       "    </tr>\n",
       "  </thead>\n",
       "  <tbody>\n",
       "    <tr>\n",
       "      <th>842</th>\n",
       "      <td>ddPTM</td>\n",
       "      <td>A431</td>\n",
       "      <td>Afatinib</td>\n",
       "      <td>30min</td>\n",
       "      <td>PRDM2</td>\n",
       "      <td>1.000000</td>\n",
       "      <td>13.666667</td>\n",
       "      <td>1.666667</td>\n",
       "      <td>1.000</td>\n",
       "      <td>134.239000</td>\n",
       "      <td>...</td>\n",
       "      <td>0.949568</td>\n",
       "      <td>0.037548</td>\n",
       "      <td>0.062783</td>\n",
       "      <td>0.626373</td>\n",
       "      <td>0.014489</td>\n",
       "      <td>0.010526</td>\n",
       "      <td>3.730985e-09</td>\n",
       "      <td>8.517237</td>\n",
       "      <td>-0.315815</td>\n",
       "      <td>-0.666667</td>\n",
       "    </tr>\n",
       "    <tr>\n",
       "      <th>440</th>\n",
       "      <td>ddPTM</td>\n",
       "      <td>A431</td>\n",
       "      <td>Afatinib</td>\n",
       "      <td>30min</td>\n",
       "      <td>GTF2I</td>\n",
       "      <td>1.000000</td>\n",
       "      <td>12.000000</td>\n",
       "      <td>0.000000</td>\n",
       "      <td>1.000</td>\n",
       "      <td>190.340000</td>\n",
       "      <td>...</td>\n",
       "      <td>0.904881</td>\n",
       "      <td>0.055291</td>\n",
       "      <td>0.336246</td>\n",
       "      <td>0.089480</td>\n",
       "      <td>0.055151</td>\n",
       "      <td>0.053456</td>\n",
       "      <td>3.447195e-09</td>\n",
       "      <td>8.462534</td>\n",
       "      <td>-0.579194</td>\n",
       "      <td>-1.000000</td>\n",
       "    </tr>\n",
       "    <tr>\n",
       "      <th>702</th>\n",
       "      <td>ddPTM</td>\n",
       "      <td>A431</td>\n",
       "      <td>Afatinib</td>\n",
       "      <td>30min</td>\n",
       "      <td>NFKB2</td>\n",
       "      <td>1.166667</td>\n",
       "      <td>10.500000</td>\n",
       "      <td>1.000000</td>\n",
       "      <td>1.000</td>\n",
       "      <td>134.772667</td>\n",
       "      <td>...</td>\n",
       "      <td>0.932795</td>\n",
       "      <td>0.082991</td>\n",
       "      <td>0.090126</td>\n",
       "      <td>0.311328</td>\n",
       "      <td>0.031325</td>\n",
       "      <td>0.024432</td>\n",
       "      <td>5.672754e-09</td>\n",
       "      <td>8.299710</td>\n",
       "      <td>-0.725181</td>\n",
       "      <td>-0.666667</td>\n",
       "    </tr>\n",
       "    <tr>\n",
       "      <th>401</th>\n",
       "      <td>ddPTM</td>\n",
       "      <td>A431</td>\n",
       "      <td>Afatinib</td>\n",
       "      <td>30min</td>\n",
       "      <td>FOSL1</td>\n",
       "      <td>1.125000</td>\n",
       "      <td>21.500000</td>\n",
       "      <td>0.500000</td>\n",
       "      <td>1.875</td>\n",
       "      <td>205.533750</td>\n",
       "      <td>...</td>\n",
       "      <td>0.945748</td>\n",
       "      <td>0.058362</td>\n",
       "      <td>6.639999</td>\n",
       "      <td>18467.850949</td>\n",
       "      <td>0.023147</td>\n",
       "      <td>0.017798</td>\n",
       "      <td>5.756543e-09</td>\n",
       "      <td>8.292248</td>\n",
       "      <td>-0.445742</td>\n",
       "      <td>-0.625000</td>\n",
       "    </tr>\n",
       "    <tr>\n",
       "      <th>449</th>\n",
       "      <td>ddPTM</td>\n",
       "      <td>A431</td>\n",
       "      <td>Afatinib</td>\n",
       "      <td>30min</td>\n",
       "      <td>HDGF</td>\n",
       "      <td>1.000000</td>\n",
       "      <td>20.250000</td>\n",
       "      <td>1.250000</td>\n",
       "      <td>1.000</td>\n",
       "      <td>249.792500</td>\n",
       "      <td>...</td>\n",
       "      <td>0.935801</td>\n",
       "      <td>0.090145</td>\n",
       "      <td>0.070853</td>\n",
       "      <td>0.601999</td>\n",
       "      <td>0.029607</td>\n",
       "      <td>0.025005</td>\n",
       "      <td>6.117711e-09</td>\n",
       "      <td>8.276623</td>\n",
       "      <td>-0.748182</td>\n",
       "      <td>-1.000000</td>\n",
       "    </tr>\n",
       "  </tbody>\n",
       "</table>\n",
       "<p>5 rows × 60 columns</p>\n",
       "</div>"
      ],
      "text/plain": [
       "       PTM Cell_line      Drug   Time Gene names  N duplicates     Length  \\\n",
       "842  ddPTM      A431  Afatinib  30min      PRDM2      1.000000  13.666667   \n",
       "440  ddPTM      A431  Afatinib  30min      GTF2I      1.000000  12.000000   \n",
       "702  ddPTM      A431  Afatinib  30min      NFKB2      1.166667  10.500000   \n",
       "401  ddPTM      A431  Afatinib  30min      FOSL1      1.125000  21.500000   \n",
       "449  ddPTM      A431  Afatinib  30min       HDGF      1.000000  20.250000   \n",
       "\n",
       "     Missed cleavages  Phospho (STY)   Max Score  ...        R2  Curve RMSE  \\\n",
       "842          1.666667          1.000  134.239000  ...  0.949568    0.037548   \n",
       "440          0.000000          1.000  190.340000  ...  0.904881    0.055291   \n",
       "702          1.000000          1.000  134.772667  ...  0.932795    0.082991   \n",
       "401          0.500000          1.875  205.533750  ...  0.945748    0.058362   \n",
       "449          1.250000          1.000  249.792500  ...  0.935801    0.090145   \n",
       "\n",
       "     Log EC50 error  Curve slope error  Curve top error  Curve bottom error  \\\n",
       "842        0.062783           0.626373         0.014489            0.010526   \n",
       "440        0.336246           0.089480         0.055151            0.053456   \n",
       "702        0.090126           0.311328         0.031325            0.024432   \n",
       "401        6.639999       18467.850949         0.023147            0.017798   \n",
       "449        0.070853           0.601999         0.029607            0.025005   \n",
       "\n",
       "             EC50     pEC50  Curve effect size  Regulation  \n",
       "842  3.730985e-09  8.517237          -0.315815   -0.666667  \n",
       "440  3.447195e-09  8.462534          -0.579194   -1.000000  \n",
       "702  5.672754e-09  8.299710          -0.725181   -0.666667  \n",
       "401  5.756543e-09  8.292248          -0.445742   -0.625000  \n",
       "449  6.117711e-09  8.276623          -0.748182   -1.000000  \n",
       "\n",
       "[5 rows x 60 columns]"
      ]
     },
     "execution_count": 14,
     "metadata": {},
     "output_type": "execute_result"
    }
   ],
   "source": [
    "measurements = measurements.sort_values('pEC50', ascending=False)\n",
    "measurements = measurements.head(30)\n",
    "measurements.head()"
   ]
  },
  {
   "cell_type": "code",
   "execution_count": 15,
   "metadata": {},
   "outputs": [],
   "source": [
    "target_dict = dict(zip(measurements['Gene names'], measurements['Regulation']))"
   ]
  },
  {
   "cell_type": "markdown",
   "metadata": {},
   "source": [
    "Now we compute the contextualised networks using four different topological methods: shortest paths and all paths, with and without sign consistency."
   ]
  },
  {
   "cell_type": "code",
   "execution_count": 16,
   "metadata": {},
   "outputs": [],
   "source": [
    "network_df = nc.data.network.get_omnipath()\n",
    "network = nc.utils.network_from_df(network_df)"
   ]
  },
  {
   "cell_type": "markdown",
   "metadata": {},
   "source": [
    "Now, we will perform network inference with some topology methods and CORNETO-Carnival."
   ]
  },
  {
   "cell_type": "code",
   "execution_count": 17,
   "metadata": {},
   "outputs": [],
   "source": [
    "network_dict = {}"
   ]
  },
  {
   "cell_type": "markdown",
   "metadata": {},
   "source": [
    "<div class=\"alert alert-warning\">\n",
    "\n",
    "**Warning**\n",
    "    \n",
    "The following code block uses CORNETO, a package specialised in Integer Linear programming for network inference. Some CORNETO methods (such as Carnival) depend on GUROBI, a third-party solver that holds a commercial license. Therefore, in order to run this part of the code, you will have to install a license in your system. Please check their home page for more information. \n",
    "\n",
    "</div>"
   ]
  },
  {
   "cell_type": "code",
   "execution_count": 19,
   "metadata": {},
   "outputs": [
    {
     "name": "stdout",
     "output_type": "stream",
     "text": [
      "(CORNETO) Sep 10 02:03:51 PM - INFO    : 1/1 inputs mapped to the graph\n",
      "(CORNETO) Sep 10 02:03:51 PM - INFO    : 21/30 outputs mapped to the graph\n",
      "(CORNETO) Sep 10 02:03:51 PM - INFO    : Pruning the graph with size: V x E = (4946, 13172)...\n",
      "(CORNETO) Sep 10 02:03:51 PM - INFO    : Finished. Final size: V x E = (1187, 5792).\n",
      "(CORNETO) Sep 10 02:03:51 PM - INFO    : 1/1 inputs after pruning.\n",
      "(CORNETO) Sep 10 02:03:51 PM - INFO    : 13/21 outputs after pruning.\n",
      "(CORNETO) Sep 10 02:03:51 PM - INFO    : Converting into a flow graph...\n",
      "(CORNETO) Sep 10 02:03:51 PM - INFO    : Creating a network flow problem...\n",
      "(CORNETO) Sep 10 02:03:52 PM - INFO    : Preprocess completed.\n",
      "(CVXPY) Sep 10 02:03:52 PM: Your problem has 26932 variables, 65577 constraints, and 0 parameters.\n",
      "(CVXPY) Sep 10 02:03:52 PM: It is compliant with the following grammars: DCP, DQCP\n",
      "(CVXPY) Sep 10 02:03:52 PM: (If you need to solve this problem multiple times, but with different data, consider using parameters.)\n",
      "(CVXPY) Sep 10 02:03:52 PM: CVXPY will first compile your problem; then, it will invoke a numerical solver to obtain a solution.\n",
      "(CVXPY) Sep 10 02:03:52 PM: Your problem is compiled with the CPP canonicalization backend.\n",
      "(CVXPY) Sep 10 02:03:52 PM: Compiling problem (target solver=GUROBI).\n",
      "(CVXPY) Sep 10 02:03:52 PM: Reduction chain: CvxAttr2Constr -> Qp2SymbolicQp -> QpMatrixStuffing -> GUROBI\n",
      "(CVXPY) Sep 10 02:03:52 PM: Applying reduction CvxAttr2Constr\n",
      "(CVXPY) Sep 10 02:03:52 PM: Applying reduction Qp2SymbolicQp\n",
      "(CVXPY) Sep 10 02:03:52 PM: Applying reduction QpMatrixStuffing\n",
      "(CVXPY) Sep 10 02:03:52 PM: Applying reduction GUROBI\n",
      "(CVXPY) Sep 10 02:03:52 PM: Finished problem compilation (took 1.270e-01 seconds).\n",
      "(CVXPY) Sep 10 02:03:52 PM: Invoking solver GUROBI  to obtain a solution.\n",
      "(CVXPY) Sep 10 02:04:07 PM: Problem status: optimal\n",
      "(CVXPY) Sep 10 02:04:07 PM: Optimal value: 9.363e+00\n",
      "(CVXPY) Sep 10 02:04:07 PM: Compilation took 1.270e-01 seconds\n",
      "(CVXPY) Sep 10 02:04:07 PM: Solver (including time spent in interface) took 1.493e+01 seconds\n",
      "(CORNETO) Sep 10 02:04:07 PM - INFO    : Finished in 16.04 s.\n"
     ]
    }
   ],
   "source": [
    "network_dict['corneto_network'] = nc.methods.run_corneto_carnival(network, source_dict, target_dict, betaWeight=0.01, solver='GUROBI')"
   ]
  },
  {
   "cell_type": "code",
   "execution_count": 20,
   "metadata": {},
   "outputs": [],
   "source": [
    "network_dict['shortest_paths'], shortest_paths = nc.methods.run_shortest_paths(network, source_dict, target_dict)"
   ]
  },
  {
   "cell_type": "code",
   "execution_count": 21,
   "metadata": {},
   "outputs": [],
   "source": [
    "network_dict['shortest_paths_sc'], shortest_paths_sc = nc.methods.run_sign_consistency(network, shortest_paths, source_dict, target_dict)"
   ]
  },
  {
   "cell_type": "code",
   "execution_count": 22,
   "metadata": {},
   "outputs": [],
   "source": [
    "network_dict['all_paths'], all_paths = nc.methods.run_all_paths(network, source_dict, target_dict, depth_cutoff=5)"
   ]
  },
  {
   "cell_type": "code",
   "execution_count": 23,
   "metadata": {},
   "outputs": [],
   "source": [
    "network_dict['all_paths_sc'], all_paths_sc = nc.methods.run_sign_consistency(network, all_paths, source_dict, target_dict)"
   ]
  },
  {
   "cell_type": "markdown",
   "metadata": {},
   "source": [
    "## 3. Evaluation using sensitivity to perturbation"
   ]
  },
  {
   "cell_type": "markdown",
   "metadata": {},
   "source": [
    "Finally, we can assess whether these networks contain a differential share of highly sensitive nodes, which will be our evaluation metric. For more information, please check the [Evaluation strategies details page](../benchmarks.html#phosphorylation-sensitivity-to-drug-perturbation)."
   ]
  },
  {
   "cell_type": "code",
   "execution_count": 24,
   "metadata": {},
   "outputs": [],
   "source": [
    "ec50_eval_results = nc.eval.get_metric_from_networks(network_dict, nc.eval.get_ec50_evaluation, ec50_dict=ec50_dict)"
   ]
  },
  {
   "cell_type": "code",
   "execution_count": 25,
   "metadata": {},
   "outputs": [
    {
     "data": {
      "image/png": "[encoded data removed]",
      "text/plain": [
       "<Figure size 1000x600 with 1 Axes>"
      ]
     },
     "execution_count": 25,
     "metadata": {},
     "output_type": "execute_result"
    },
    {
     "data": {
      "image/png": "[encoded data removed]",
      "text/plain": [
       "<Figure size 1000x600 with 1 Axes>"
      ]
     },
     "metadata": {},
     "output_type": "display_data"
    }
   ],
   "source": [
    "nc.visual.plot_scatter(\n",
    "    ec50_eval_results,\n",
    "    x_col='diff_EC50',  \n",
    "    y_col='coverage',\n",
    "    size_col=None,\n",
    "    hue_col='method',\n",
    "    numeric_cols=None,\n",
    "    style_col=None,\n",
    "    xlabel='Difference in average -log(EC50) scores',  \n",
    "    ylabel='Coverage',  \n",
    "    title='Coverage vs Difference in average sensitivity scores',  \n",
    "    figsize=(10, 6),  \n",
    ")  "
   ]
  },
  {
   "cell_type": "markdown",
   "metadata": {},
   "source": [
    "Both corneto and shortest paths + sign consistency had the highest difference between EC50 values of nodes included and excluded of the solution networks. In addition, the corneto network has almost double coverage than the rest of the networks. Therefore, we would consider the corneto network a better performer, taking both dimensions into account."
   ]
  }
 ],
 "metadata": {
  "kernelspec": {
   "display_name": "networkcommons-DX9y6Uxu-py3.10",
   "language": "python",
   "name": "python3"
  },
  "language_info": {
   "codemirror_mode": {
    "name": "ipython",
    "version": 3
   },
   "file_extension": ".py",
   "mimetype": "text/x-python",
   "name": "python",
   "nbconvert_exporter": "python",
   "pygments_lexer": "ipython3",
   "version": "3.10.12"
  }
 },
 "nbformat": 4,
 "nbformat_minor": 2
}
