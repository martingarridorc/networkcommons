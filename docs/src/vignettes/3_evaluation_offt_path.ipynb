{
 "cells": [
  {
   "cell_type": "markdown",
   "metadata": {},
   "source": [
    "# Vignette 3: Evaluating methods under two scenarios: offtarget recovery and pathway activity"
   ]
  },
  {
   "cell_type": "markdown",
   "metadata": {},
   "source": [
    "Welcome to our third vignette! Here we assume you already know the basics of `Networkcommons`. If you don't, please check our [first vignette](1_quickstart.html), where we contextualise a simple network, and our [second vignette](2_multiple_methods.html), where we apply different methods to a problem and visualise the different solution networks."
   ]
  },
  {
   "cell_type": "markdown",
   "metadata": {},
   "source": [
    "In this vignette, we will start exploring how we can evaluate the different methods used for network contextualisation. As already hinted at the end of the second vignette, it is not trivial how to decide which method performs better. In `Networkcommons`, we have included four strategies to do so, whose details can be found in this [section](../benchmarks.html). \n",
    "\n",
    "Here, we will showcase two of them: [offtarget recovery](../benchmarks.html#offtarget-recovery) and [pathway enrichment analysis](../benchmarks.html#pathway-enrichment-analysis). In the first one, we aim to recover as many drug offtargets as possible, while in the latter setting, the components of a perturbed pathway should be overrepresented in the solution networks."
   ]
  },
  {
   "cell_type": "code",
   "execution_count": 1,
   "metadata": {},
   "outputs": [],
   "source": [
    "import networkcommons as nc\n",
    "import pandas as pd\n",
    "import decoupler as dc"
   ]
  },
  {
   "cell_type": "markdown",
   "metadata": {},
   "source": [
    "## 1. Loading preprocessed transcriptomics data"
   ]
  },
  {
   "cell_type": "markdown",
   "metadata": {},
   "source": [
    "Like in the previous vignettes, we will use a specific contrast from the [PANACEA](../datasets.html#panacea) (Afatinib versus DMSO in ASPC cell line) to extract the transcription factors that are dysregulated in this scenario. We will skip the explanation of the data processing, but it can be found in the [PANACEA data section](../datasets.html#panacea). Here, we will use H1793 cells treated with neratinib (an EGFR inhibitor) vs DMSO as control."
   ]
  },
  {
   "cell_type": "code",
   "execution_count": 2,
   "metadata": {},
   "outputs": [],
   "source": [
    "# downstream layer\n",
    "dc_estimates = nc.data.omics.panacea_tables(cell_line='H1793', drug='NERATINIB', type='TF_scores')\n",
    "dc_estimates.set_index('items', inplace=True)\n",
    "measurements = nc.utils.targetlayer_formatter(dc_estimates, act_col='act')\n",
    "\n",
    "# upstream layer\n",
    "source_df = pd.DataFrame({'source': ['EGFR'], \n",
    "                          'sign': [-1]}, columns=['source', 'sign'])\n",
    "source_df.set_index('source', inplace=True)\n",
    "sources = source_df['sign'].to_dict()"
   ]
  },
  {
   "cell_type": "markdown",
   "metadata": {},
   "source": [
    "## 2. Network inference"
   ]
  },
  {
   "cell_type": "markdown",
   "metadata": {},
   "source": [
    "Now we have our sources and targets, we will import the PKN from OmniPath:"
   ]
  },
  {
   "cell_type": "code",
   "execution_count": 3,
   "metadata": {},
   "outputs": [],
   "source": [
    "network = nc.data.network.get_omnipath()\n",
    "graph = nc.utils.network_from_df(network)"
   ]
  },
  {
   "cell_type": "markdown",
   "metadata": {},
   "source": [
    "Now, we will contextualise different subnetworks using different methods."
   ]
  },
  {
   "cell_type": "code",
   "execution_count": 4,
   "metadata": {},
   "outputs": [
    {
     "name": "stdout",
     "output_type": "stream",
     "text": [
      "(CORNETO) Sep 10 01:59:50 PM - INFO    : 1/1 inputs mapped to the graph\n",
      "(CORNETO) Sep 10 01:59:50 PM - INFO    : 17/25 outputs mapped to the graph\n",
      "(CORNETO) Sep 10 01:59:50 PM - INFO    : Pruning the graph with size: V x E = (4946, 13172)...\n",
      "(CORNETO) Sep 10 01:59:50 PM - INFO    : Finished. Final size: V x E = (1188, 5786).\n",
      "(CORNETO) Sep 10 01:59:50 PM - INFO    : 1/1 inputs after pruning.\n",
      "(CORNETO) Sep 10 01:59:50 PM - INFO    : 12/17 outputs after pruning.\n",
      "(CORNETO) Sep 10 01:59:50 PM - INFO    : Converting into a flow graph...\n",
      "(CORNETO) Sep 10 01:59:51 PM - INFO    : Creating a network flow problem...\n",
      "(CORNETO) Sep 10 01:59:51 PM - INFO    : Preprocess completed.\n",
      "(CVXPY) Sep 10 01:59:51 PM: Your problem has 26879 variables, 65436 constraints, and 0 parameters.\n",
      "(CVXPY) Sep 10 01:59:51 PM: It is compliant with the following grammars: DCP, DQCP\n",
      "(CVXPY) Sep 10 01:59:51 PM: (If you need to solve this problem multiple times, but with different data, consider using parameters.)\n",
      "(CVXPY) Sep 10 01:59:51 PM: CVXPY will first compile your problem; then, it will invoke a numerical solver to obtain a solution.\n",
      "(CVXPY) Sep 10 01:59:51 PM: Your problem is compiled with the CPP canonicalization backend.\n",
      "(CVXPY) Sep 10 01:59:51 PM: Compiling problem (target solver=GUROBI).\n",
      "(CVXPY) Sep 10 01:59:51 PM: Reduction chain: CvxAttr2Constr -> Qp2SymbolicQp -> QpMatrixStuffing -> GUROBI\n",
      "(CVXPY) Sep 10 01:59:51 PM: Applying reduction CvxAttr2Constr\n",
      "(CVXPY) Sep 10 01:59:51 PM: Applying reduction Qp2SymbolicQp\n",
      "(CVXPY) Sep 10 01:59:51 PM: Applying reduction QpMatrixStuffing\n",
      "(CVXPY) Sep 10 01:59:51 PM: Applying reduction GUROBI\n",
      "(CVXPY) Sep 10 01:59:51 PM: Finished problem compilation (took 1.544e-01 seconds).\n",
      "(CVXPY) Sep 10 01:59:51 PM: Invoking solver GUROBI  to obtain a solution.\n",
      "(CVXPY) Sep 10 02:00:04 PM: Problem status: optimal\n",
      "(CVXPY) Sep 10 02:00:04 PM: Optimal value: 1.336e+01\n",
      "(CVXPY) Sep 10 02:00:04 PM: Compilation took 1.544e-01 seconds\n",
      "(CVXPY) Sep 10 02:00:04 PM: Solver (including time spent in interface) took 1.267e+01 seconds\n",
      "(CORNETO) Sep 10 02:00:04 PM - INFO    : Finished in 14.11 s.\n"
     ]
    }
   ],
   "source": [
    "# topological methods\n",
    "shortest_path_network, shortest_paths_list = nc.methods.run_shortest_paths(graph, sources, measurements)\n",
    "shortest_sc_network, shortest_sc_list = nc.methods.run_sign_consistency(shortest_path_network, shortest_paths_list, sources, measurements)\n",
    "all_paths_network, all_paths_list = nc.methods.run_all_paths(graph, sources, measurements, depth_cutoff=3)\n",
    "allpaths_sc_network, allpaths_sc_list = nc.methods.run_sign_consistency(all_paths_network, all_paths_list, sources, measurements)\n",
    "\n",
    "\n",
    "# diffusion-like methods\n",
    "ppr_network = nc.methods.add_pagerank_scores(graph, sources, measurements, personalize_for='source')\n",
    "ppr_network = nc.methods.add_pagerank_scores(ppr_network, sources, measurements, personalize_for='target')\n",
    "ppr_network = nc.methods.compute_ppr_overlap(ppr_network, percentage=1)\n",
    "shortest_ppr_network, shortest_ppr_list = nc.methods.run_shortest_paths(ppr_network, sources, measurements)\n",
    "shortest_sc_ppr_network, shortest_sc_ppr_list = nc.methods.run_sign_consistency(shortest_ppr_network, shortest_ppr_list, sources, measurements)\n",
    "\n",
    "# ILP-based\n",
    "corneto_network = nc.methods.run_corneto_carnival(graph, sources, measurements, betaWeight=0.01, solver='GUROBI')"
   ]
  },
  {
   "cell_type": "markdown",
   "metadata": {},
   "source": [
    "We will now store the networks in a dictionary to ease handling. "
   ]
  },
  {
   "cell_type": "code",
   "execution_count": 5,
   "metadata": {},
   "outputs": [],
   "source": [
    "# we include all the networks in a dictionary with custom labels\n",
    "networks = {\n",
    "    'shortest_path': shortest_path_network,\n",
    "    'shortest_path_sc': shortest_sc_network,\n",
    "    'all_paths': all_paths_network,\n",
    "    'all_paths_sc': allpaths_sc_network,\n",
    "    'shortest_ppr_network': shortest_ppr_network,\n",
    "    'shortest_ppr_sc_network': shortest_sc_ppr_network,\n",
    "    'corneto': corneto_network\n",
    "}"
   ]
  },
  {
   "cell_type": "markdown",
   "metadata": {},
   "source": [
    "## 3. Evaluation strategy using pathway enrichment analysis"
   ]
  },
  {
   "cell_type": "markdown",
   "metadata": {},
   "source": [
    "Now, we are ready to start the evaluation of the networks. We will follow here a very intuitive approach: if a network contextualises properly a given perturbation, a large share of members of the perturbed pathway will appear in the solution network. Therefore, we will perform Overrepresentation analysis between the members of these networks, and a gene set from [Biocarta](https://www.gsea-msigdb.org/gsea/msigdb/cards/BIOCARTA_EGF_PATHWAY) containing the members of the EGF canonical pathway, in addition to an alternative pathway involving SMRT inhibition by the Tyrosine-Kinase signalling pathway. If the network contextualises properly, the affected pathway(s) will have a higher ORA score (they will be ranked higher than other pathways). You can find more details about this strategy in the [Evaluation strategies details page](../benchmarks.html#pathway-enrichment-analysis)."
   ]
  },
  {
   "cell_type": "markdown",
   "metadata": {},
   "source": [
    "First, we neet the pathway signatures from BioCarta, which are available in the MSigDB database."
   ]
  },
  {
   "cell_type": "code",
   "execution_count": 6,
   "metadata": {},
   "outputs": [
    {
     "name": "stderr",
     "output_type": "stream",
     "text": [
      "/tmp/ipykernel_15858/126159575.py:3: SettingWithCopyWarning: \n",
      "A value is trying to be set on a copy of a slice from a DataFrame\n",
      "\n",
      "See the caveats in the documentation: https://pandas.pydata.org/pandas-docs/stable/user_guide/indexing.html#returning-a-view-versus-a-copy\n",
      "/tmp/ipykernel_15858/126159575.py:4: SettingWithCopyWarning: \n",
      "A value is trying to be set on a copy of a slice from a DataFrame\n",
      "\n",
      "See the caveats in the documentation: https://pandas.pydata.org/pandas-docs/stable/user_guide/indexing.html#returning-a-view-versus-a-copy\n"
     ]
    }
   ],
   "source": [
    "signatures = dc.get_resource('MSigDB', organism='human')\n",
    "biocarta_elements = signatures[signatures['collection'] == 'biocarta_pathways']\n",
    "biocarta_elements.rename(columns={'geneset': 'source', 'genesymbol': 'target'}, inplace=True)\n",
    "biocarta_elements.drop_duplicates(inplace=True)"
   ]
  },
  {
   "cell_type": "code",
   "execution_count": 7,
   "metadata": {},
   "outputs": [],
   "source": [
    "ora_results = nc.eval.get_metric_from_networks(networks, nc.eval.run_ora, net=biocarta_elements)"
   ]
  },
  {
   "cell_type": "code",
   "execution_count": 8,
   "metadata": {},
   "outputs": [
    {
     "data": {
      "image/png": "[encoded data removed]",
      "text/plain": [
       "<Figure size 700x400 with 1 Axes>"
      ]
     },
     "metadata": {},
     "output_type": "display_data"
    },
    {
     "data": {
      "text/plain": [
       "<Figure size 640x480 with 0 Axes>"
      ]
     },
     "execution_count": 8,
     "metadata": {},
     "output_type": "execute_result"
    },
    {
     "data": {
      "text/plain": [
       "<Figure size 640x480 with 0 Axes>"
      ]
     },
     "metadata": {},
     "output_type": "display_data"
    }
   ],
   "source": [
    "nc.visual.create_rank_heatmap(ora_results, ['BIOCARTA_EGF_PATHWAY', 'BIOCARTA_EGFR_SMRTE_PATHWAY'], render=True)"
   ]
  },
  {
   "cell_type": "markdown",
   "metadata": {},
   "source": [
    "Almost all methods correctly identified the perturbed pathway. Shortest paths performed best, while ILP-based corneto performed worst under this assumption."
   ]
  },
  {
   "cell_type": "markdown",
   "metadata": {},
   "source": [
    "## 4. Evaluation strategy using offtarget recovery"
   ]
  },
  {
   "cell_type": "markdown",
   "metadata": {},
   "source": [
    "A second evaluation strategy we can use is based on the recovery of offtarget(s) in the solution networks. Here, we assume that the measurements we use as downstream values are a product not only of the perturbation of the primary drug target, but also of the perturbation of one or more offtarget nodes. Therefore, a network that can accurately contextualise these effects, will have a higher share of offtargets among the subnetwork nodes. You can find more details about this setting in the [Evaluation strategies details page](../benchmarks.html#offtarget-recovery)."
   ]
  },
  {
   "cell_type": "markdown",
   "metadata": {},
   "source": [
    "In this specific case, we want to evaluate whether the networks contain the offtarget MAPKAPK2, as contained in the PANACEA gold standard."
   ]
  },
  {
   "cell_type": "code",
   "execution_count": 9,
   "metadata": {},
   "outputs": [],
   "source": [
    "panacea_gold_standard = nc.data.omics.panacea_gold_standard()\n",
    "neratinib_offtargets = panacea_gold_standard[(panacea_gold_standard['cmpd'] == 'NERATINIB') & (~panacea_gold_standard['target'].isin(sources.keys()))].target.tolist()"
   ]
  },
  {
   "cell_type": "code",
   "execution_count": 10,
   "metadata": {},
   "outputs": [],
   "source": [
    "offtarget_res = nc.eval.get_metric_from_networks(networks, nc.eval.get_recovered_offtargets, offtargets=neratinib_offtargets)"
   ]
  },
  {
   "cell_type": "code",
   "execution_count": 11,
   "metadata": {},
   "outputs": [
    {
     "data": {
      "text/html": [
       "<div>\n",
       "<style scoped>\n",
       "    .dataframe tbody tr th:only-of-type {\n",
       "        vertical-align: middle;\n",
       "    }\n",
       "\n",
       "    .dataframe tbody tr th {\n",
       "        vertical-align: top;\n",
       "    }\n",
       "\n",
       "    .dataframe thead th {\n",
       "        text-align: right;\n",
       "    }\n",
       "</style>\n",
       "<table border=\"1\" class=\"dataframe\">\n",
       "  <thead>\n",
       "    <tr style=\"text-align: right;\">\n",
       "      <th></th>\n",
       "      <th>n_offtargets</th>\n",
       "      <th>perc_offtargets</th>\n",
       "      <th>network</th>\n",
       "      <th>type</th>\n",
       "      <th>method</th>\n",
       "    </tr>\n",
       "  </thead>\n",
       "  <tbody>\n",
       "    <tr>\n",
       "      <th>0</th>\n",
       "      <td>0</td>\n",
       "      <td>0.0</td>\n",
       "      <td>shortest_path</td>\n",
       "      <td>real</td>\n",
       "      <td>shortest_path</td>\n",
       "    </tr>\n",
       "    <tr>\n",
       "      <th>1</th>\n",
       "      <td>0</td>\n",
       "      <td>0.0</td>\n",
       "      <td>shortest_path_sc</td>\n",
       "      <td>real</td>\n",
       "      <td>shortest_path_sc</td>\n",
       "    </tr>\n",
       "    <tr>\n",
       "      <th>2</th>\n",
       "      <td>0</td>\n",
       "      <td>0.0</td>\n",
       "      <td>all_paths</td>\n",
       "      <td>real</td>\n",
       "      <td>all_paths</td>\n",
       "    </tr>\n",
       "    <tr>\n",
       "      <th>3</th>\n",
       "      <td>0</td>\n",
       "      <td>0.0</td>\n",
       "      <td>all_paths_sc</td>\n",
       "      <td>real</td>\n",
       "      <td>all_paths_sc</td>\n",
       "    </tr>\n",
       "    <tr>\n",
       "      <th>4</th>\n",
       "      <td>0</td>\n",
       "      <td>0.0</td>\n",
       "      <td>shortest_ppr_network</td>\n",
       "      <td>real</td>\n",
       "      <td>shortest_ppr_network</td>\n",
       "    </tr>\n",
       "    <tr>\n",
       "      <th>5</th>\n",
       "      <td>0</td>\n",
       "      <td>0.0</td>\n",
       "      <td>shortest_ppr_sc_network</td>\n",
       "      <td>real</td>\n",
       "      <td>shortest_ppr_sc_network</td>\n",
       "    </tr>\n",
       "    <tr>\n",
       "      <th>6</th>\n",
       "      <td>0</td>\n",
       "      <td>0.0</td>\n",
       "      <td>corneto</td>\n",
       "      <td>real</td>\n",
       "      <td>corneto</td>\n",
       "    </tr>\n",
       "  </tbody>\n",
       "</table>\n",
       "</div>"
      ],
      "text/plain": [
       "   n_offtargets  perc_offtargets                  network  type  \\\n",
       "0             0              0.0            shortest_path  real   \n",
       "1             0              0.0         shortest_path_sc  real   \n",
       "2             0              0.0                all_paths  real   \n",
       "3             0              0.0             all_paths_sc  real   \n",
       "4             0              0.0     shortest_ppr_network  real   \n",
       "5             0              0.0  shortest_ppr_sc_network  real   \n",
       "6             0              0.0                  corneto  real   \n",
       "\n",
       "                    method  \n",
       "0            shortest_path  \n",
       "1         shortest_path_sc  \n",
       "2                all_paths  \n",
       "3             all_paths_sc  \n",
       "4     shortest_ppr_network  \n",
       "5  shortest_ppr_sc_network  \n",
       "6                  corneto  "
      ]
     },
     "execution_count": 11,
     "metadata": {},
     "output_type": "execute_result"
    }
   ],
   "source": [
    "offtarget_res"
   ]
  },
  {
   "cell_type": "markdown",
   "metadata": {},
   "source": [
    "Unfortunately, none of them managed to recover this effect. This might be due to several reasons, but the main limitation is that only offtargets that are reachable from the source node can be considered. Everything not reachable from the source cannot be part of a solution network. In addition, having only one offtarget greatly reduces the statistical power to draw conclusions here (is this one offtarget missing just per chance, or is there a mechanistic explanation behind?). While this approach can be useful in some situations, it is equally important to assess whether the results might be biased or not in every case."
   ]
  },
  {
   "cell_type": "markdown",
   "metadata": {},
   "source": [
    "And that was it for now! We hope you found this tutorial helpful. We focused here on strategies to evaluate the networks, showcasing two of them.\n",
    "However, this is just the beginning! We aim to expand this collection of tools and methods by incorporating more data sources, methods, evaluation strategies and visualizations.\n",
    "\n",
    "If you have any questions or feedback, or you would like to contribute, please reach out!. In addition, check our Contribution guidelines for [Data](../guidelines/guide_1_data.html), [Methods](../guidelines/guide_2_methods.html) and [Evaluation strategies](../guidelines/guide_3_eval.html)."
   ]
  }
 ],
 "metadata": {
  "kernelspec": {
   "display_name": "networkcommons-DX9y6Uxu-py3.10",
   "language": "python",
   "name": "python3"
  },
  "language_info": {
   "codemirror_mode": {
    "name": "ipython",
    "version": 3
   },
   "file_extension": ".py",
   "mimetype": "text/x-python",
   "name": "python",
   "nbconvert_exporter": "python",
   "pygments_lexer": "ipython3",
   "version": "3.10.12"
  }
 },
 "nbformat": 4,
 "nbformat_minor": 2
}
