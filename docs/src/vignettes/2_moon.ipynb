{
 "cells": [
  {
   "cell_type": "markdown",
   "metadata": {},
   "source": [
    "# Vignette 2: MOON"
   ]
  },
  {
   "cell_type": "markdown",
   "metadata": {},
   "source": [
    "In this vignette, we are going to use MOON (Dugourd et al. in preparation) to iteratively compute enrichment scores for a prior knowledge network, taking metabolic measurements and signalling cascades as inputs. "
   ]
  },
  {
   "cell_type": "code",
   "execution_count": 1,
   "metadata": {},
   "outputs": [],
   "source": [
    "import networkcommons as nc\n",
    "import decoupler as dc\n",
    "import pandas as pd\n",
    "import networkx as nx"
   ]
  },
  {
   "cell_type": "markdown",
   "metadata": {},
   "source": [
    "## 1. Input preparation"
   ]
  },
  {
   "cell_type": "markdown",
   "metadata": {},
   "source": [
    "We first import the network, and check it does not contain unsigned interactions or self loops"
   ]
  },
  {
   "cell_type": "code",
   "execution_count": 2,
   "metadata": {},
   "outputs": [
    {
     "name": "stdout",
     "output_type": "stream",
     "text": [
      "/home/victo/networkcommons/docs/src/vignettes\n"
     ]
    }
   ],
   "source": [
    "!pwd"
   ]
  },
  {
   "cell_type": "code",
   "execution_count": 3,
   "metadata": {},
   "outputs": [],
   "source": [
    "meta_network_df = pd.read_csv('../../../data/moon/meta_network.sif', sep='\\t')"
   ]
  },
  {
   "cell_type": "code",
   "execution_count": 4,
   "metadata": {},
   "outputs": [],
   "source": [
    "meta_network_df = meta_network_df.drop_duplicates(subset=['source', 'target', 'sign'], keep='first')\n",
    "meta_network_df = meta_network_df.drop_duplicates(subset=['source', 'target'], keep=False)"
   ]
  },
  {
   "cell_type": "markdown",
   "metadata": {},
   "source": [
    "We create the graph representation from our DataFrame"
   ]
  },
  {
   "cell_type": "code",
   "execution_count": 5,
   "metadata": {},
   "outputs": [],
   "source": [
    "meta_network = nc.utils.network_from_df(meta_network_df, directed=True)"
   ]
  },
  {
   "cell_type": "code",
   "execution_count": 6,
   "metadata": {},
   "outputs": [],
   "source": [
    "meta_network = nc.methods.meta_network_cleanup(meta_network) # equals R"
   ]
  },
  {
   "cell_type": "markdown",
   "metadata": {},
   "source": [
    "We then download a dataset and read inputs:"
   ]
  },
  {
   "cell_type": "code",
   "execution_count": 7,
   "metadata": {},
   "outputs": [],
   "source": [
    "moon_data = nc.data.omics.moon()"
   ]
  },
  {
   "cell_type": "code",
   "execution_count": 8,
   "metadata": {},
   "outputs": [
    {
     "data": {
      "text/plain": [
       "{'sig':         TF     value\n",
       " 0       AR  1.156582\n",
       " 1    BACH1  2.399881\n",
       " 2    CEBPA  3.687354\n",
       " 3    CREB1  0.829149\n",
       " 4     CTCF  2.914983\n",
       " 5     E2F1  4.989779\n",
       " 6     E2F4  3.972646\n",
       " 7     EGR1  6.337803\n",
       " 8     ELK1  0.444149\n",
       " 9    EPAS1  4.268129\n",
       " 10    ESR1  7.069928\n",
       " 11    ETS1  5.957844\n",
       " 12     FOS  5.009215\n",
       " 13   FOXA1  2.338539\n",
       " 14   FOXM1  1.206632\n",
       " 15   FOXO3 -0.772054\n",
       " 16   FOXP1  0.876896\n",
       " 17   GATA2  1.052240\n",
       " 18   GATA3  4.433932\n",
       " 19   HIF1A  2.503899\n",
       " 20   HNF4A  5.230794\n",
       " 21     JUN  4.310749\n",
       " 22    MITF  4.685015\n",
       " 23     MYC  0.761681\n",
       " 24   NFKB1  2.386302\n",
       " 25  PRDM14  2.602170\n",
       " 26    RARA  2.259669\n",
       " 27    RELA  3.635926\n",
       " 28   RUNX1  1.654963\n",
       " 29    SOX2  0.903587\n",
       " 30     SP1  2.073969\n",
       " 31     SP3  0.190111\n",
       " 32    SPI1  5.666462\n",
       " 33  SREBF1  1.577459\n",
       " 34   STAT1  2.219767\n",
       " 35   STAT2  0.092127\n",
       " 36   STAT3  1.241225\n",
       " 37    TAL1  2.968578\n",
       " 38  TFAP2A  0.182564\n",
       " 39  TFAP2C  7.987909\n",
       " 40    TP53  1.014723\n",
       " 41    USF1  2.194528\n",
       " 42     VDR  1.545408\n",
       " 43     YY1  1.521236\n",
       " 44  ZNF263  7.254531,\n",
       " 'metab':            metab     value  Unnamed: 2\n",
       " 0    HMDB0011747  0.401991         NaN\n",
       " 1    HMDB0000755 -0.142718         NaN\n",
       " 2    HMDB0000905 -1.244183         NaN\n",
       " 3    HMDB0000012 -0.967207         NaN\n",
       " 4    HMDB0001191 -0.631035         NaN\n",
       " ..           ...       ...         ...\n",
       " 133  HMDB0011720 -0.716155         NaN\n",
       " 134  HMDB0000883 -0.059923         NaN\n",
       " 135  HMDB0000292 -0.772272         NaN\n",
       " 136  HMDB0000299  1.132812         NaN\n",
       " 137  HMDB0002917 -1.728352         NaN\n",
       " \n",
       " [138 rows x 3 columns],\n",
       " 'rna':            gene     value\n",
       " 0        WASH7P -0.084246\n",
       " 1     LINC01128 -0.246712\n",
       " 2         NOC2L  0.508906\n",
       " 3        KLHL17 -0.001460\n",
       " 4          HES4 -0.281146\n",
       " ...         ...       ...\n",
       " 8252       CMC4 -0.029409\n",
       " 8253      BRCC3 -0.058883\n",
       " 8254       VBP1 -0.554804\n",
       " 8255      TMLHE -1.095530\n",
       " 8256       CD24  0.923448\n",
       " \n",
       " [8257 rows x 2 columns]}"
      ]
     },
     "execution_count": 8,
     "metadata": {},
     "output_type": "execute_result"
    }
   ],
   "source": [
    "moon_data"
   ]
  },
  {
   "cell_type": "code",
   "execution_count": 9,
   "metadata": {},
   "outputs": [],
   "source": [
    "sig_input = moon_data['sig'].set_index('TF')['value'].to_dict()\n",
    "rna_input = moon_data['rna'].set_index('gene')['value'].to_dict()\n",
    "metab_input = moon_data['metab'].set_index('metab')['value'].to_dict()"
   ]
  },
  {
   "cell_type": "markdown",
   "metadata": {},
   "source": [
    "For the metabolites, we add the compartment it's located in"
   ]
  },
  {
   "cell_type": "code",
   "execution_count": 10,
   "metadata": {},
   "outputs": [],
   "source": [
    "metab_input = nc.methods.prepare_metab_inputs(metab_input, [\"c\", \"m\"])"
   ]
  },
  {
   "cell_type": "code",
   "execution_count": 11,
   "metadata": {},
   "outputs": [],
   "source": [
    "meta_network = nc.methods.filter_pkn_expressed_genes(rna_input.keys(), meta_network)"
   ]
  },
  {
   "cell_type": "markdown",
   "metadata": {},
   "source": [
    "We filter out those inputs that cannot be mapped to the prior knowledge network"
   ]
  },
  {
   "cell_type": "code",
   "execution_count": 12,
   "metadata": {},
   "outputs": [],
   "source": [
    "sig_input = nc.methods.filter_input_nodes_not_in_pkn(sig_input, meta_network)\n",
    "meta_network = nc.methods.keep_controllable_neighbours(sig_input, meta_network)\n",
    "metab_input = nc.methods.filter_input_nodes_not_in_pkn(metab_input, meta_network)\n",
    "meta_network = nc.methods.keep_observable_neighbours(metab_input, meta_network)\n",
    "sig_input = nc.methods.filter_input_nodes_not_in_pkn(sig_input, meta_network)"
   ]
  },
  {
   "cell_type": "markdown",
   "metadata": {},
   "source": [
    "## 2. Network compression"
   ]
  },
  {
   "cell_type": "markdown",
   "metadata": {},
   "source": [
    "This is one of the most important parts of this vignette. Here, we aim to remove redundant information from the network, in order to reduce its size without compromising the information contained in it. A common example would be the following:"
   ]
  },
  {
   "cell_type": "markdown",
   "metadata": {},
   "source": [
    "<img src=\"./img/network_compr.png\" height=\"250\" />"
   ]
  },
  {
   "cell_type": "markdown",
   "metadata": {},
   "source": [
    "Here, the nodes B and C have been compressed into a single node, Parent of D. There is no loss of information because B and C regulate D in the same way (same edge sign), and A also regulates B and C the same way (same edge sign). However, in other cases, we would lose information:"
   ]
  },
  {
   "cell_type": "markdown",
   "metadata": {},
   "source": [
    "<img src=\"./img/network_compression_nocases.png\" height=\"250\" />"
   ]
  },
  {
   "cell_type": "markdown",
   "metadata": {},
   "source": [
    "In case 1, nodes B and C cannot be compressed because they exert opposite regulation onto D. If we compressed this situation, we would have a duplicated edge with opposite weights, which would create issues when computing the moon scores. Similarly in case 2, even B and C have the same edge signs towards D, A exert opposite regulation towards B and C. If we compressed B and C, we would have a duplicated edge between A and Parent of D, which poses similar issues as Case 1."
   ]
  },
  {
   "cell_type": "code",
   "execution_count": 13,
   "metadata": {},
   "outputs": [],
   "source": [
    "meta_network_compressed, signatures, dup_parents = nc.methods.compress_same_children(meta_network, sig_input, metab_input) # equals R"
   ]
  },
  {
   "cell_type": "markdown",
   "metadata": {},
   "source": [
    "We clean the network again in case some self loops arose"
   ]
  },
  {
   "cell_type": "code",
   "execution_count": 14,
   "metadata": {},
   "outputs": [],
   "source": [
    "meta_network_compressed = nc.methods.meta_network_cleanup(meta_network_compressed)"
   ]
  },
  {
   "cell_type": "markdown",
   "metadata": {},
   "source": [
    "## 3. MOON scoring"
   ]
  },
  {
   "cell_type": "markdown",
   "metadata": {},
   "source": [
    "Now it is time to compute the MOON scores from the compressed network. The network has been compressed by around a third of its original size, which increases computational efficiency. We will use the metabolic inputs and the signalling inputs to compute the MOON scores. After each optimisation, we check the sign consistency of the MOON scores, and remove those edges that turn out to be incoherent (the real TF enrichment scores are compared against the computed MOON scores and the sign of the edge). If there are incoherent edges, the function computes the MOON scores on the reduced network. The loop continues until it reaches a maximum number of tries (in our example, 10) or there are no incoherent edges left."
   ]
  },
  {
   "cell_type": "markdown",
   "metadata": {},
   "source": [
    "We can get now the GRN from DoRothEA, filtering by levels of confidence A and B."
   ]
  },
  {
   "cell_type": "code",
   "execution_count": 15,
   "metadata": {},
   "outputs": [],
   "source": [
    "tf_regn = dc.get_dorothea(levels = ['A', 'B'])"
   ]
  },
  {
   "cell_type": "code",
   "execution_count": 16,
   "metadata": {},
   "outputs": [],
   "source": [
    "moon_network = meta_network_compressed.copy()"
   ]
  },
  {
   "cell_type": "code",
   "execution_count": 18,
   "metadata": {},
   "outputs": [
    {
     "name": "stdout",
     "output_type": "stream",
     "text": [
      "Iteration count: 1\n",
      "Iteration count: 2\n",
      "Iteration count: 3\n",
      "Iteration count: 4\n",
      "Iteration count: 5\n",
      "Optimisation iteration 1 - Before: 12714, After: 12669\n",
      "Iteration count: 1\n",
      "Iteration count: 2\n",
      "Iteration count: 3\n",
      "Iteration count: 4\n",
      "Iteration count: 5\n",
      "Optimisation iteration 2 - Before: 12669, After: 12665\n",
      "Iteration count: 1\n",
      "Iteration count: 2\n",
      "Iteration count: 3\n",
      "Iteration count: 4\n",
      "Iteration count: 5\n",
      "Optimisation iteration 3 - Before: 12665, After: 12665\n",
      "MOON: Solution converged after 3 iterations\n"
     ]
    }
   ],
   "source": [
    "moon_res, moon_network = nc.methods.run_moon(\n",
    "    meta_network_compressed,\n",
    "    sig_input,\n",
    "    metab_input,\n",
    "    tf_regn,\n",
    "    rna_input,\n",
    "    n_layers=6,\n",
    "    method='ulm',\n",
    "    max_iter=10)"
   ]
  },
  {
   "cell_type": "markdown",
   "metadata": {},
   "source": [
    "## 4. Decompression and solution network"
   ]
  },
  {
   "cell_type": "markdown",
   "metadata": {},
   "source": [
    "Once the MOON scores are computed, we need to restore the uncompressed nodes that were compressed in section 2. For this, we will use the signatures that we obtained when we compressed the network to map back the original nodes to the compressed ones. After that, we can retrieve a solution network that contains the nodes (with the subsequent MOON scores) that are in the vicinity of the signalling input(s) and are sign consistent in terms of signed interactions."
   ]
  },
  {
   "cell_type": "code",
   "execution_count": 19,
   "metadata": {},
   "outputs": [],
   "source": [
    "moon_res_dec = nc.methods.decompress_moon_result(moon_res, signatures, dup_parents, meta_network_compressed)"
   ]
  },
  {
   "cell_type": "markdown",
   "metadata": {},
   "source": [
    "Now, we perform the decompression of the network, mapping the compressed nodes to their original components."
   ]
  },
  {
   "cell_type": "markdown",
   "metadata": {},
   "source": [
    "FInally, we reduce the solution network by removing incoherent edges and filtering for nodes with moon scores higher than 1. We retrieve a networkx.DiGraph that we will visualise, and an attributes dataframe with the moon scores."
   ]
  },
  {
   "cell_type": "code",
   "execution_count": 20,
   "metadata": {},
   "outputs": [],
   "source": [
    "res_network, att = nc.methods.reduce_solution_network(moon_res_dec, meta_network, 1, sig_input, rna_input) # equals R"
   ]
  },
  {
   "cell_type": "markdown",
   "metadata": {},
   "source": [
    "As an optional step, we can translate the HMDB identifiers to more readable names (e.g HMDB0000122 is Glucose)."
   ]
  },
  {
   "cell_type": "code",
   "execution_count": 22,
   "metadata": {},
   "outputs": [],
   "source": [
    "mapping_dict = pd.read_csv(\"../../../data/moon/hmdb_mapper_vec.csv\", header=0).set_index('HMDB_id')['name'].to_dict()"
   ]
  },
  {
   "cell_type": "code",
   "execution_count": 23,
   "metadata": {},
   "outputs": [],
   "source": [
    "translated_network, att_translated = nc.methods.translate_res(res_network, att, mapping_dict)"
   ]
  },
  {
   "cell_type": "markdown",
   "metadata": {},
   "source": [
    "The resulted network can be used now for visualization purposes, or further studying of the topology can be conducted, as shown in Vignette 1. Since the network is quite big, it will not be shown in this notebook."
   ]
  }
 ],
 "metadata": {
  "kernelspec": {
   "display_name": "networkcommons",
   "language": "python",
   "name": "python3"
  },
  "language_info": {
   "codemirror_mode": {
    "name": "ipython",
    "version": 3
   },
   "file_extension": ".py",
   "mimetype": "text/x-python",
   "name": "python",
   "nbconvert_exporter": "python",
   "pygments_lexer": "ipython3",
   "version": "3.10.12"
  }
 },
 "nbformat": 4,
 "nbformat_minor": 2
}
