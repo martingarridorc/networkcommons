{
 "cells": [
  {
   "cell_type": "code",
   "execution_count": 1,
   "metadata": {},
   "outputs": [],
   "source": [
    "import networkcommons as nc"
   ]
  },
  {
   "cell_type": "code",
   "execution_count": 2,
   "metadata": {},
   "outputs": [],
   "source": [
    "network_datafile = 'data/network_collectri.sif'\n",
    "network = nc.read_network_from_file(network_datafile)"
   ]
  },
  {
   "cell_type": "code",
   "execution_count": 8,
   "metadata": {},
   "outputs": [],
   "source": [
    "shortest_path_network, shortest_paths_list = nc.shortest_paths(network, ['EGFR', 'EGF'], ['MAPKAPK2', 'MAPK1'])"
   ]
  },
  {
   "cell_type": "code",
   "execution_count": 9,
   "metadata": {},
   "outputs": [
    {
     "data": {
      "text/plain": [
       "[['EGFR', 'MAP2K1', 'MAPK3', 'MAPKAPK2'],\n",
       " ['EGFR', 'MAP2K1', 'MAPK1', 'MAPKAPK2'],\n",
       " ['EGFR', 'MAP2K1', 'MAPK1'],\n",
       " ['EGF', 'EGFR', 'MAP2K1', 'MAPK3', 'MAPKAPK2'],\n",
       " ['EGF', 'EGFR', 'MAP2K1', 'MAPK1', 'MAPKAPK2'],\n",
       " ['EGF', 'EGFR', 'MAP2K1', 'MAPK1']]"
      ]
     },
     "execution_count": 9,
     "metadata": {},
     "output_type": "execute_result"
    }
   ],
   "source": [
    "shortest_paths_list"
   ]
  },
  {
   "cell_type": "code",
   "execution_count": null,
   "metadata": {},
   "outputs": [],
   "source": []
  }
 ],
 "metadata": {
  "kernelspec": {
   "display_name": "mthesis",
   "language": "python",
   "name": "python3"
  },
  "language_info": {
   "codemirror_mode": {
    "name": "ipython",
    "version": 3
   },
   "file_extension": ".py",
   "mimetype": "text/x-python",
   "name": "python",
   "nbconvert_exporter": "python",
   "pygments_lexer": "ipython3",
   "version": "3.10.13"
  }
 },
 "nbformat": 4,
 "nbformat_minor": 2
}
