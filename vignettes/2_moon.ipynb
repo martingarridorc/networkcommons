{
 "cells": [
  {
   "cell_type": "markdown",
   "metadata": {},
   "source": [
    "# Vignette 2: MOON"
   ]
  },
  {
   "cell_type": "markdown",
   "metadata": {},
   "source": [
    "In this vignette, we are going to use MOON (Dugourd et al. in preparation) to iteratively compute enrichment scores for a prior knowledge network, taking metabolic measurements and signalling cascades as inputs. "
   ]
  },
  {
   "cell_type": "code",
   "execution_count": 1,
   "metadata": {},
   "outputs": [
    {
     "name": "stderr",
     "output_type": "stream",
     "text": [
      "/home/victo/.local/lib/python3.10/site-packages/tqdm/auto.py:22: TqdmWarning: IProgress not found. Please update jupyter and ipywidgets. See https://ipywidgets.readthedocs.io/en/stable/user_install.html\n",
      "  from .autonotebook import tqdm as notebook_tqdm\n"
     ]
    }
   ],
   "source": [
    "import networkcommons as nc\n",
    "import decoupler as dc\n",
    "import pandas as pd\n",
    "import networkx as nx"
   ]
  },
  {
   "cell_type": "markdown",
   "metadata": {},
   "source": [
    "We first import the network, and check it does not contain unsigned interactions or self loops"
   ]
  },
  {
   "cell_type": "code",
   "execution_count": 2,
   "metadata": {},
   "outputs": [],
   "source": [
    "meta_network_df = pd.read_csv('../data/moon/meta_network.sif', sep='\\t')"
   ]
  },
  {
   "cell_type": "code",
   "execution_count": 3,
   "metadata": {},
   "outputs": [],
   "source": [
    "meta_network_df = meta_network_df.drop_duplicates(subset=['source', 'target', 'sign'], keep='first') # implement averaging in meta network\n",
    "meta_network_df = meta_network_df.drop_duplicates(subset=['source', 'target'], keep=False)"
   ]
  },
  {
   "cell_type": "code",
   "execution_count": 4,
   "metadata": {},
   "outputs": [],
   "source": [
    "meta_network = nc.network_from_df(meta_network_df, directed=True)"
   ]
  },
  {
   "cell_type": "code",
   "execution_count": 5,
   "metadata": {},
   "outputs": [],
   "source": [
    "meta_network = nc.meta_network_cleanup(meta_network) # equals R"
   ]
  },
  {
   "cell_type": "markdown",
   "metadata": {},
   "source": [
    "We read inputs:"
   ]
  },
  {
   "cell_type": "code",
   "execution_count": 6,
   "metadata": {},
   "outputs": [],
   "source": [
    "sig_input = pd.read_csv(\"../data/moon/cosmos_sig_input.tsv\", sep=\"\\t\", header=0, index_col=0).value.to_dict()\n",
    "rna_input = pd.read_csv(\"../data/moon/cosmos_rna_input.tsv\", sep=\"\\t\", header=0, index_col=0).value.to_dict()\n",
    "metab_input = pd.read_csv(\"../data/moon/cosmos_metab_input.tsv\", sep=\"\\t\", header=0, index_col=0).value.to_dict()"
   ]
  },
  {
   "cell_type": "markdown",
   "metadata": {},
   "source": [
    "For the metabolites, we add the compartment it's located"
   ]
  },
  {
   "cell_type": "code",
   "execution_count": 7,
   "metadata": {},
   "outputs": [
    {
     "name": "stdout",
     "output_type": "stream",
     "text": [
      "Adding compartment codes.\n"
     ]
    }
   ],
   "source": [
    "metab_input = nc.prepare_metab_inputs(metab_input, [\"c\", \"m\"]) # same as R"
   ]
  },
  {
   "cell_type": "code",
   "execution_count": 8,
   "metadata": {},
   "outputs": [
    {
     "name": "stdout",
     "output_type": "stream",
     "text": [
      "MOON: removing unexpressed nodes from PKN...\n"
     ]
    },
    {
     "name": "stdout",
     "output_type": "stream",
     "text": [
      "MOON: 13090 nodes removed\n"
     ]
    }
   ],
   "source": [
    "meta_network = nc.filter_pkn_expressed_genes(rna_input.keys(), meta_network) # equals R"
   ]
  },
  {
   "cell_type": "markdown",
   "metadata": {},
   "source": [
    "We filter out those inputs that cannot be mapped to the prior knowledge network"
   ]
  },
  {
   "cell_type": "code",
   "execution_count": 10,
   "metadata": {},
   "outputs": [
    {
     "name": "stdout",
     "output_type": "stream",
     "text": [
      "COSMOS: 17 input/measured nodes are not inPKN anymore: ['AR', 'CEBPA', 'ESR1', 'FOS', 'FOXA1', 'FOXP1', 'GATA2', 'GATA3', 'HNF4A', 'MITF', 'PRDM14', 'SOX2', 'SPI1', 'TAL1', 'TFAP2C', 'VDR', 'ZNF263']\n"
     ]
    },
    {
     "name": "stdout",
     "output_type": "stream",
     "text": [
      "COSMOS: 154 input/measured nodes are not inPKN anymore: ['Metab__HMDB0011747_c', 'Metab__HMDB0000755_c', 'Metab__HMDB0000355_c', 'Metab__HMDB0000479_c', 'Metab__HMDB0000807_c', 'Metab__HMDB0003464_c', 'Metab__HMDB0000076_c', 'Metab__HMDB0003701_c', 'Metab__HMDB0001494_c', 'Metab__HMDB0000462_c', 'Metab__HMDB0001548_c', 'Metab__HMDB0001893_c', 'Metab__HMDB0000646_c', 'Metab__HMDB0001352_c', 'Metab__HMDB0000902_c', 'Metab__HMDB0000030_c', 'Metab__HMDB0001847_c', 'Metab__HMDB0000062_c', 'Metab__HMDB0000562_c', 'Metab__HMDB0001151_c', 'Metab__HMDB0000283_c', 'Metab__HMDB0000622_c', 'Metab__HMDB0011737_c', 'Metab__HMDB0011741_c', 'Metab__HMDB0000625_c', 'Metab__HMDB0003466_c', 'Metab__HMDB0000130_c', 'Metab__HMDB0000965_c', 'Metab__HMDB0000213_c', 'Metab__HMDB0000715_c', 'Metab__HMDB0004041_c', 'Metab__HMDB0000086_c', 'Metab__HMDB0002320_c', 'Metab__HMDB0000691_c', 'Metab__HMDB0000169_c', 'Metab__HMDB0001078_c', 'Metab__HMDB0001389_c', 'Metab__HMDB0000853_c', 'Metab__HMDB0031018_c', 'Metab__HMDB0001015_c', 'Metab__HMDB0001539_c', 'Metab__HMDB0004825_c', 'Metab__HMDB0000207_c', 'Metab__HMDB0000472_c', 'Metab__HMDB0000210_c', 'Metab__HMDB0001429_c', 'Metab__HMDB0002243_c', 'Metab__HMDB0000245_c', 'Metab__HMDB0001545_c', 'Metab__HMDB0000250_c', 'Metab__HMDB0000232_c', 'Metab__HMDB0000126_c', 'Metab__HMDB0000956_c', 'Metab__HMDB0000251_c', 'Metab__HMDB0002231_c', 'Metab__HMDB0001124_c', 'Metab__HMDB0000306_c', 'Metab__HMDB0011720_c', 'Metab__HMDB0011747_m', 'Metab__HMDB0000755_m', 'Metab__HMDB0000905_m', 'Metab__HMDB0000012_m', 'Metab__HMDB0001294_m', 'Metab__HMDB0000355_m', 'Metab__HMDB0000479_m', 'Metab__HMDB0000807_m', 'Metab__HMDB0000272_m', 'Metab__HMDB0003464_m', 'Metab__HMDB0000267_m', 'Metab__HMDB0001173_m', 'Metab__HMDB0000076_m', 'Metab__HMDB0003701_m', 'Metab__HMDB0001316_m', 'Metab__HMDB0001494_m', 'Metab__HMDB0000034_m', 'Metab__HMDB0000462_m', 'Metab__HMDB0001548_m', 'Metab__HMDB0001893_m', 'Metab__HMDB0001123_m', 'Metab__HMDB0000646_m', 'Metab__HMDB0000052_m', 'Metab__HMDB0001352_m', 'Metab__HMDB0000902_m', 'Metab__HMDB0001847_m', 'Metab__HMDB0000062_m', 'Metab__HMDB0000562_m', 'Metab__HMDB0001151_m', 'Metab__HMDB0000283_m', 'Metab__HMDB0000099_m', 'Metab__HMDB0000742_m', 'Metab__HMDB0001321_m', 'Metab__HMDB0000622_m', 'Metab__HMDB0001049_m', 'Metab__HMDB0011737_m', 'Metab__HMDB0011741_m', 'Metab__HMDB0000625_m', 'Metab__HMDB0001401_m', 'Metab__HMDB0000132_m', 'Metab__HMDB0000133_m', 'Metab__HMDB0001397_m', 'Metab__HMDB0003466_m', 'Metab__HMDB0000177_m', 'Metab__HMDB0000130_m', 'Metab__HMDB0000965_m', 'Metab__HMDB0000157_m', 'Metab__HMDB0000195_m', 'Metab__HMDB0000211_m', 'Metab__HMDB0000213_m', 'Metab__HMDB0000715_m', 'Metab__HMDB0004041_m', 'Metab__HMDB0000086_m', 'Metab__HMDB0001851_m', 'Metab__HMDB0002320_m', 'Metab__HMDB0000691_m', 'Metab__HMDB0000169_m', 'Metab__HMDB0001078_m', 'Metab__HMDB0001389_m', 'Metab__HMDB0000853_m', 'Metab__HMDB0000230_m', 'Metab__HMDB0031018_m', 'Metab__HMDB0001015_m', 'Metab__HMDB0000220_m', 'Metab__HMDB0001325_m', 'Metab__HMDB0001406_m', 'Metab__HMDB0001539_m', 'Metab__HMDB0004825_m', 'Metab__HMDB0000207_m', 'Metab__HMDB0000218_m', 'Metab__HMDB0000472_m', 'Metab__HMDB0000210_m', 'Metab__HMDB0001429_m', 'Metab__HMDB0002243_m', 'Metab__HMDB0000245_m', 'Metab__HMDB0001545_m', 'Metab__HMDB0000250_m', 'Metab__HMDB0000232_m', 'Metab__HMDB0000618_m', 'Metab__HMDB0000126_m', 'Metab__HMDB0000247_m', 'Metab__HMDB0001257_m', 'Metab__HMDB0000956_m', 'Metab__HMDB0000251_m', 'Metab__HMDB0000806_m', 'Metab__HMDB0002231_m', 'Metab__HMDB0001124_m', 'Metab__HMDB0000929_m', 'Metab__HMDB0000306_m', 'Metab__HMDB0000300_m', 'Metab__HMDB0000289_m', 'Metab__HMDB0000296_m', 'Metab__HMDB0011720_m', 'Metab__HMDB0000292_m', 'Metab__HMDB0000299_m', 'Metab__HMDB0002917_m']\n",
      "COSMOS: 7 input/measured nodes are not inPKN anymore: ['CTCF', 'ELK1', 'EPAS1', 'ETS1', 'SREBF1', 'TFAP2A', 'USF1']\n"
     ]
    }
   ],
   "source": [
    "sig_input = nc.filter_input_nodes_not_in_pkn(sig_input, meta_network) # same as R\n",
    "meta_network = nc.keep_controllable_neighbours(sig_input, meta_network)  # same as R\n",
    "metab_input = nc.filter_input_nodes_not_in_pkn(metab_input, meta_network) # Same as R\n",
    "meta_network = nc.keep_observable_neighbours(metab_input, meta_network)\n",
    "sig_input = nc.filter_input_nodes_not_in_pkn(sig_input, meta_network) # same as R"
   ]
  },
  {
   "cell_type": "code",
   "execution_count": 12,
   "metadata": {},
   "outputs": [],
   "source": [
    "meta_network_compressed, signatures, dup_parents = nc.compress_same_children(meta_network, sig_input, metab_input) # equals R"
   ]
  },
  {
   "cell_type": "code",
   "execution_count": 13,
   "metadata": {},
   "outputs": [],
   "source": [
    "meta_network_compressed = nc.meta_network_cleanup(meta_network_compressed)"
   ]
  },
  {
   "cell_type": "markdown",
   "metadata": {},
   "source": [
    "Now, the network has been compressed by around a third of its original size, which increases computational efficiency without losing information.\n",
    "We can get now the GRN from DoRothEA, filtering by levels of confidence A and B."
   ]
  },
  {
   "cell_type": "code",
   "execution_count": 14,
   "metadata": {},
   "outputs": [
    {
     "data": {
      "text/html": [
       "<div>\n",
       "<style scoped>\n",
       "    .dataframe tbody tr th:only-of-type {\n",
       "        vertical-align: middle;\n",
       "    }\n",
       "\n",
       "    .dataframe tbody tr th {\n",
       "        vertical-align: top;\n",
       "    }\n",
       "\n",
       "    .dataframe thead th {\n",
       "        text-align: right;\n",
       "    }\n",
       "</style>\n",
       "<table border=\"1\" class=\"dataframe\">\n",
       "  <thead>\n",
       "    <tr style=\"text-align: right;\">\n",
       "      <th></th>\n",
       "      <th>source</th>\n",
       "      <th>confidence</th>\n",
       "      <th>target</th>\n",
       "      <th>weight</th>\n",
       "    </tr>\n",
       "  </thead>\n",
       "  <tbody>\n",
       "    <tr>\n",
       "      <th>0</th>\n",
       "      <td>MYC</td>\n",
       "      <td>A</td>\n",
       "      <td>TERT</td>\n",
       "      <td>1.0</td>\n",
       "    </tr>\n",
       "    <tr>\n",
       "      <th>1</th>\n",
       "      <td>LEF1</td>\n",
       "      <td>A</td>\n",
       "      <td>CCL7</td>\n",
       "      <td>1.0</td>\n",
       "    </tr>\n",
       "    <tr>\n",
       "      <th>2</th>\n",
       "      <td>LEF1</td>\n",
       "      <td>A</td>\n",
       "      <td>BIRC5</td>\n",
       "      <td>1.0</td>\n",
       "    </tr>\n",
       "    <tr>\n",
       "      <th>3</th>\n",
       "      <td>KLF6</td>\n",
       "      <td>A</td>\n",
       "      <td>LTC4S</td>\n",
       "      <td>1.0</td>\n",
       "    </tr>\n",
       "    <tr>\n",
       "      <th>4</th>\n",
       "      <td>KLF5</td>\n",
       "      <td>A</td>\n",
       "      <td>NOTCH1</td>\n",
       "      <td>1.0</td>\n",
       "    </tr>\n",
       "    <tr>\n",
       "      <th>...</th>\n",
       "      <td>...</td>\n",
       "      <td>...</td>\n",
       "      <td>...</td>\n",
       "      <td>...</td>\n",
       "    </tr>\n",
       "    <tr>\n",
       "      <th>15108</th>\n",
       "      <td>FOS</td>\n",
       "      <td>B</td>\n",
       "      <td>CREB5</td>\n",
       "      <td>0.5</td>\n",
       "    </tr>\n",
       "    <tr>\n",
       "      <th>15109</th>\n",
       "      <td>FOS</td>\n",
       "      <td>B</td>\n",
       "      <td>CRIM1</td>\n",
       "      <td>0.5</td>\n",
       "    </tr>\n",
       "    <tr>\n",
       "      <th>15110</th>\n",
       "      <td>FOS</td>\n",
       "      <td>B</td>\n",
       "      <td>CRYBG1</td>\n",
       "      <td>0.5</td>\n",
       "    </tr>\n",
       "    <tr>\n",
       "      <th>15111</th>\n",
       "      <td>FOS</td>\n",
       "      <td>B</td>\n",
       "      <td>CDK6</td>\n",
       "      <td>0.5</td>\n",
       "    </tr>\n",
       "    <tr>\n",
       "      <th>15112</th>\n",
       "      <td>ZNF740</td>\n",
       "      <td>B</td>\n",
       "      <td>SETD1B</td>\n",
       "      <td>0.5</td>\n",
       "    </tr>\n",
       "  </tbody>\n",
       "</table>\n",
       "<p>15113 rows × 4 columns</p>\n",
       "</div>"
      ],
      "text/plain": [
       "       source confidence  target  weight\n",
       "0         MYC          A    TERT     1.0\n",
       "1        LEF1          A    CCL7     1.0\n",
       "2        LEF1          A   BIRC5     1.0\n",
       "3        KLF6          A   LTC4S     1.0\n",
       "4        KLF5          A  NOTCH1     1.0\n",
       "...       ...        ...     ...     ...\n",
       "15108     FOS          B   CREB5     0.5\n",
       "15109     FOS          B   CRIM1     0.5\n",
       "15110     FOS          B  CRYBG1     0.5\n",
       "15111     FOS          B    CDK6     0.5\n",
       "15112  ZNF740          B  SETD1B     0.5\n",
       "\n",
       "[15113 rows x 4 columns]"
      ]
     },
     "execution_count": 14,
     "metadata": {},
     "output_type": "execute_result"
    }
   ],
   "source": [
    "tf_regn = dc.get_dorothea(levels = ['A', 'B'])\n",
    "tf_regn"
   ]
  },
  {
   "cell_type": "markdown",
   "metadata": {},
   "source": [
    "Now, we are ready to compute the moon scores on the compressed network, using the signalling network inputs and the metabolic measurements.\n",
    "The loop will run iteratively until the solution converges (there are no incoherent edges), or a maximum of 10 iterations happen."
   ]
  },
  {
   "cell_type": "code",
   "execution_count": 15,
   "metadata": {},
   "outputs": [],
   "source": [
    "moon_network = meta_network_compressed.copy()"
   ]
  },
  {
   "cell_type": "code",
   "execution_count": 16,
   "metadata": {},
   "outputs": [
    {
     "name": "stdout",
     "output_type": "stream",
     "text": [
      "Iteration count: 1\n",
      "Iteration count: 2\n",
      "Iteration count: 3\n",
      "Iteration count: 4\n"
     ]
    },
    {
     "name": "stdout",
     "output_type": "stream",
     "text": [
      "Iteration count: 5\n",
      "Attempt 1 - Before: 12714, After: 12669\n",
      "Iteration count: 1\n",
      "Iteration count: 2\n",
      "Iteration count: 3\n",
      "Iteration count: 4\n",
      "Iteration count: 5\n",
      "Attempt 2 - Before: 12669, After: 12665\n",
      "Iteration count: 1\n",
      "Iteration count: 2\n",
      "Iteration count: 3\n",
      "Iteration count: 4\n",
      "Iteration count: 5\n",
      "Attempt 3 - Before: 12665, After: 12665\n"
     ]
    }
   ],
   "source": [
    "# equals R\n",
    "before=1\n",
    "after=0\n",
    "i=0\n",
    "\n",
    "while before != after and i < 10:\n",
    "    before = len(moon_network.edges)\n",
    "    moon_res = nc.run_moon_core(sig_input, metab_input, moon_network, n_layers=6, statistic='ulm')\n",
    "    moon_network = nc.filter_incoherent_TF_target(moon_res, tf_regn, moon_network, rna_input)\n",
    "    after = len(moon_network.edges)\n",
    "    i += 1\n",
    "    print(f'Attempt {i} - Before: {before}, After: {after}')"
   ]
  },
  {
   "cell_type": "markdown",
   "metadata": {},
   "source": [
    "the differences here arise from different floats in the original network, which is then amplified after subsequent iterations"
   ]
  },
  {
   "cell_type": "markdown",
   "metadata": {},
   "source": [
    "Now, we perform the decompression of the network, mapping the compressed nodes to their original components."
   ]
  },
  {
   "cell_type": "code",
   "execution_count": 18,
   "metadata": {},
   "outputs": [],
   "source": [
    "moon_res_dec = nc.decompress_moon_result(moon_res, signatures, dup_parents, meta_network_compressed)"
   ]
  },
  {
   "cell_type": "markdown",
   "metadata": {},
   "source": [
    "FInally, we reduce the solution network by removing incoherent edges and filtering for nodes with moon scores higher than 1. We retrieve a networkx.DiGraph that we will visualise, and an attributes dataframe with the moon scores."
   ]
  },
  {
   "cell_type": "code",
   "execution_count": 20,
   "metadata": {},
   "outputs": [],
   "source": [
    "res_network, att = nc.reduce_solution_network(moon_res_dec, meta_network, 1, sig_input, rna_input) # equals R"
   ]
  },
  {
   "cell_type": "markdown",
   "metadata": {},
   "source": [
    "As an optional step, we can translate the HMDB identifiers to more readable names (e.g HMDB0000122 is Glucose)."
   ]
  },
  {
   "cell_type": "code",
   "execution_count": 22,
   "metadata": {},
   "outputs": [],
   "source": [
    "mapping_dict = pd.read_csv(\"../data/moon/hmdb_mapper_vec.csv\", header=0).set_index('HMDB_id')['name'].to_dict()"
   ]
  },
  {
   "cell_type": "code",
   "execution_count": 24,
   "metadata": {},
   "outputs": [],
   "source": [
    "translated_network, att_translated = nc.translate_res(res_network, att, mapping_dict)"
   ]
  }
 ],
 "metadata": {
  "kernelspec": {
   "display_name": "networkcommons",
   "language": "python",
   "name": "python3"
  },
  "language_info": {
   "codemirror_mode": {
    "name": "ipython",
    "version": 3
   },
   "file_extension": ".py",
   "mimetype": "text/x-python",
   "name": "python",
   "nbconvert_exporter": "python",
   "pygments_lexer": "ipython3",
   "version": "3.10.14"
  }
 },
 "nbformat": 4,
 "nbformat_minor": 2
}
