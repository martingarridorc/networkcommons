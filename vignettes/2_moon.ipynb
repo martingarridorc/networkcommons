{
 "cells": [
  {
   "cell_type": "code",
   "execution_count": 1,
   "metadata": {},
   "outputs": [
    {
     "name": "stderr",
     "output_type": "stream",
     "text": [
      "/home/victo/.local/lib/python3.10/site-packages/tqdm/auto.py:22: TqdmWarning: IProgress not found. Please update jupyter and ipywidgets. See https://ipywidgets.readthedocs.io/en/stable/user_install.html\n",
      "  from .autonotebook import tqdm as notebook_tqdm\n"
     ]
    }
   ],
   "source": [
    "import networkcommons as nc\n",
    "import decoupler as dc\n",
    "import pandas as pd\n",
    "import networkx as nx"
   ]
  },
  {
   "cell_type": "code",
   "execution_count": 2,
   "metadata": {},
   "outputs": [],
   "source": [
    "meta_network = nc.read_network_from_file(\"../data/moon/meta_network.sif\")"
   ]
  },
  {
   "cell_type": "code",
   "execution_count": 3,
   "metadata": {},
   "outputs": [
    {
     "data": {
      "text/plain": [
       "<networkx.classes.digraph.DiGraph at 0x7f84832faa10>"
      ]
     },
     "execution_count": 3,
     "metadata": {},
     "output_type": "execute_result"
    }
   ],
   "source": [
    "meta_network"
   ]
  },
  {
   "cell_type": "code",
   "execution_count": 4,
   "metadata": {},
   "outputs": [],
   "source": [
    "meta_network_post = nc.meta_network_cleanup(meta_network)"
   ]
  },
  {
   "cell_type": "code",
   "execution_count": 5,
   "metadata": {},
   "outputs": [
    {
     "data": {
      "text/plain": [
       "<networkx.classes.digraph.DiGraph at 0x7f84832cf1f0>"
      ]
     },
     "execution_count": 5,
     "metadata": {},
     "output_type": "execute_result"
    }
   ],
   "source": [
    "meta_network_post"
   ]
  },
  {
   "cell_type": "code",
   "execution_count": 6,
   "metadata": {},
   "outputs": [],
   "source": [
    "sig_input = pd.read_csv(\"../data/moon/cosmos_sig_input.tsv\", sep=\"\\t\", header=0, index_col=0).value.to_dict()\n",
    "rna_input = pd.read_csv(\"../data/moon/cosmos_rna_input.tsv\", sep=\"\\t\", header=0, index_col=0).value.to_dict()\n",
    "metab_input = pd.read_csv(\"../data/moon/cosmos_metab_input.tsv\", sep=\"\\t\", header=0, index_col=0).value.to_dict()"
   ]
  },
  {
   "cell_type": "code",
   "execution_count": 7,
   "metadata": {},
   "outputs": [
    {
     "name": "stdout",
     "output_type": "stream",
     "text": [
      "Adding compartment codes.\n"
     ]
    }
   ],
   "source": [
    "metab_input = nc.prepare_metab_inputs(metab_input, [\"c\", \"m\"])"
   ]
  },
  {
   "cell_type": "code",
   "execution_count": 8,
   "metadata": {},
   "outputs": [
    {
     "name": "stdout",
     "output_type": "stream",
     "text": [
      "MOON: removing unexpressed nodes from PKN...\n",
      "MOON: 13092 nodes removed\n"
     ]
    },
    {
     "data": {
      "text/plain": [
       "<networkx.classes.digraph.DiGraph at 0x7f84832cf1f0>"
      ]
     },
     "execution_count": 8,
     "metadata": {},
     "output_type": "execute_result"
    }
   ],
   "source": [
    "nc.filter_pkn_expressed_genes(rna_input.keys(), meta_network_post)"
   ]
  },
  {
   "cell_type": "code",
   "execution_count": 9,
   "metadata": {},
   "outputs": [
    {
     "data": {
      "text/plain": [
       "23323"
      ]
     },
     "execution_count": 9,
     "metadata": {},
     "output_type": "execute_result"
    }
   ],
   "source": [
    "len(meta_network_post.nodes)"
   ]
  },
  {
   "cell_type": "code",
   "execution_count": 10,
   "metadata": {},
   "outputs": [
    {
     "name": "stdout",
     "output_type": "stream",
     "text": [
      "COSMOS: 17 input/measured nodes are not inPKN anymore: {removed_nodes}\n"
     ]
    }
   ],
   "source": [
    "sig_input = nc.filter_input_nodes_not_in_pkn(sig_input, meta_network_post)\n"
   ]
  },
  {
   "cell_type": "code",
   "execution_count": 11,
   "metadata": {},
   "outputs": [],
   "source": [
    "meta_network_post_post = nc.keep_controllable_neighbours(sig_input, meta_network_post)"
   ]
  },
  {
   "cell_type": "code",
   "execution_count": 12,
   "metadata": {},
   "outputs": [
    {
     "data": {
      "text/plain": [
       "11333"
      ]
     },
     "execution_count": 12,
     "metadata": {},
     "output_type": "execute_result"
    }
   ],
   "source": [
    "len(meta_network_post_post.nodes)"
   ]
  },
  {
   "cell_type": "code",
   "execution_count": 13,
   "metadata": {},
   "outputs": [
    {
     "name": "stdout",
     "output_type": "stream",
     "text": [
      "COSMOS: 154 input/measured nodes are not inPKN anymore: {removed_nodes}\n"
     ]
    }
   ],
   "source": [
    "metab_input = nc.filter_input_nodes_not_in_pkn(metab_input, meta_network_post_post)"
   ]
  },
  {
   "cell_type": "code",
   "execution_count": 14,
   "metadata": {},
   "outputs": [],
   "source": [
    "meta_network_post_post_post = nc.keep_observable_neighbours(metab_input, meta_network_post_post)"
   ]
  },
  {
   "cell_type": "code",
   "execution_count": 15,
   "metadata": {},
   "outputs": [
    {
     "name": "stdout",
     "output_type": "stream",
     "text": [
      "COSMOS: 7 input/measured nodes are not inPKN anymore: {removed_nodes}\n"
     ]
    }
   ],
   "source": [
    "sig_input = nc.filter_input_nodes_not_in_pkn(sig_input, meta_network_post_post_post)"
   ]
  },
  {
   "cell_type": "code",
   "execution_count": 16,
   "metadata": {},
   "outputs": [],
   "source": [
    "meta_network_compressed, signatures, dup_parents = nc.compress_same_children(meta_network_post_post_post, sig_input, metab_input)"
   ]
  },
  {
   "cell_type": "code",
   "execution_count": 17,
   "metadata": {},
   "outputs": [],
   "source": [
    "meta_network_compressed = nc.meta_network_cleanup(meta_network_compressed)"
   ]
  },
  {
   "cell_type": "code",
   "execution_count": 18,
   "metadata": {},
   "outputs": [
    {
     "data": {
      "text/plain": [
       "5089"
      ]
     },
     "execution_count": 18,
     "metadata": {},
     "output_type": "execute_result"
    }
   ],
   "source": [
    "len(meta_network_compressed.nodes)"
   ]
  },
  {
   "cell_type": "code",
   "execution_count": 19,
   "metadata": {},
   "outputs": [
    {
     "data": {
      "text/html": [
       "<div>\n",
       "<style scoped>\n",
       "    .dataframe tbody tr th:only-of-type {\n",
       "        vertical-align: middle;\n",
       "    }\n",
       "\n",
       "    .dataframe tbody tr th {\n",
       "        vertical-align: top;\n",
       "    }\n",
       "\n",
       "    .dataframe thead th {\n",
       "        text-align: right;\n",
       "    }\n",
       "</style>\n",
       "<table border=\"1\" class=\"dataframe\">\n",
       "  <thead>\n",
       "    <tr style=\"text-align: right;\">\n",
       "      <th></th>\n",
       "      <th>source</th>\n",
       "      <th>target</th>\n",
       "      <th>weight</th>\n",
       "      <th>PMID</th>\n",
       "    </tr>\n",
       "  </thead>\n",
       "  <tbody>\n",
       "    <tr>\n",
       "      <th>0</th>\n",
       "      <td>MYC</td>\n",
       "      <td>TERT</td>\n",
       "      <td>1</td>\n",
       "      <td>10022128;10491298;10606235;10637317;10723141;1...</td>\n",
       "    </tr>\n",
       "    <tr>\n",
       "      <th>1</th>\n",
       "      <td>SPI1</td>\n",
       "      <td>BGLAP</td>\n",
       "      <td>1</td>\n",
       "      <td>10022617</td>\n",
       "    </tr>\n",
       "    <tr>\n",
       "      <th>2</th>\n",
       "      <td>SMAD3</td>\n",
       "      <td>JUN</td>\n",
       "      <td>1</td>\n",
       "      <td>10022869;12374795</td>\n",
       "    </tr>\n",
       "    <tr>\n",
       "      <th>3</th>\n",
       "      <td>SMAD4</td>\n",
       "      <td>JUN</td>\n",
       "      <td>1</td>\n",
       "      <td>10022869;12374795</td>\n",
       "    </tr>\n",
       "    <tr>\n",
       "      <th>4</th>\n",
       "      <td>STAT5A</td>\n",
       "      <td>IL2</td>\n",
       "      <td>1</td>\n",
       "      <td>10022878;11435608;17182565;17911616;22854263;2...</td>\n",
       "    </tr>\n",
       "    <tr>\n",
       "      <th>...</th>\n",
       "      <td>...</td>\n",
       "      <td>...</td>\n",
       "      <td>...</td>\n",
       "      <td>...</td>\n",
       "    </tr>\n",
       "    <tr>\n",
       "      <th>43173</th>\n",
       "      <td>NFKB</td>\n",
       "      <td>hsa-miR-143-3p</td>\n",
       "      <td>1</td>\n",
       "      <td>19472311</td>\n",
       "    </tr>\n",
       "    <tr>\n",
       "      <th>43174</th>\n",
       "      <td>AP1</td>\n",
       "      <td>hsa-miR-206</td>\n",
       "      <td>1</td>\n",
       "      <td>19721712</td>\n",
       "    </tr>\n",
       "    <tr>\n",
       "      <th>43175</th>\n",
       "      <td>NFKB</td>\n",
       "      <td>hsa-miR-21-5p</td>\n",
       "      <td>1</td>\n",
       "      <td>20813833;22387281</td>\n",
       "    </tr>\n",
       "    <tr>\n",
       "      <th>43176</th>\n",
       "      <td>NFKB</td>\n",
       "      <td>hsa-miR-224-5p</td>\n",
       "      <td>1</td>\n",
       "      <td>23474441;23988648</td>\n",
       "    </tr>\n",
       "    <tr>\n",
       "      <th>43177</th>\n",
       "      <td>AP1</td>\n",
       "      <td>hsa-miR-144</td>\n",
       "      <td>1</td>\n",
       "      <td>23546882</td>\n",
       "    </tr>\n",
       "  </tbody>\n",
       "</table>\n",
       "<p>43178 rows × 4 columns</p>\n",
       "</div>"
      ],
      "text/plain": [
       "       source          target  weight  \\\n",
       "0         MYC            TERT       1   \n",
       "1        SPI1           BGLAP       1   \n",
       "2       SMAD3             JUN       1   \n",
       "3       SMAD4             JUN       1   \n",
       "4      STAT5A             IL2       1   \n",
       "...       ...             ...     ...   \n",
       "43173    NFKB  hsa-miR-143-3p       1   \n",
       "43174     AP1     hsa-miR-206       1   \n",
       "43175    NFKB   hsa-miR-21-5p       1   \n",
       "43176    NFKB  hsa-miR-224-5p       1   \n",
       "43177     AP1     hsa-miR-144       1   \n",
       "\n",
       "                                                    PMID  \n",
       "0      10022128;10491298;10606235;10637317;10723141;1...  \n",
       "1                                               10022617  \n",
       "2                                      10022869;12374795  \n",
       "3                                      10022869;12374795  \n",
       "4      10022878;11435608;17182565;17911616;22854263;2...  \n",
       "...                                                  ...  \n",
       "43173                                           19472311  \n",
       "43174                                           19721712  \n",
       "43175                                  20813833;22387281  \n",
       "43176                                  23474441;23988648  \n",
       "43177                                           23546882  \n",
       "\n",
       "[43178 rows x 4 columns]"
      ]
     },
     "execution_count": 19,
     "metadata": {},
     "output_type": "execute_result"
    }
   ],
   "source": [
    "tf_regn = dc.get_collectri()\n",
    "tf_regn"
   ]
  },
  {
   "cell_type": "code",
   "execution_count": 20,
   "metadata": {},
   "outputs": [],
   "source": [
    "before=1\n",
    "after=0\n",
    "i=0\n",
    "\n",
    "while before != after and i < 10:\n",
    "    before = len(meta_network_compressed.nodes)\n",
    "    moon_res = nc.run_moon_core(sig_input, metab_input, meta_network_compressed, n_layers=100, statistic='wmean')\n",
    "    meta_network_compressed = nc.filter_incohrent_TF_target(moon_res, tf_regn, meta_network_compressed, rna_input)\n",
    "    after = len(meta_network_compressed.nodes)\n",
    "    i += 1"
   ]
  },
  {
   "cell_type": "code",
   "execution_count": 25,
   "metadata": {},
   "outputs": [],
   "source": [
    "moon_res.reset_index(inplace=True)\n",
    "moon_res.rename(columns={'index': 'source'}, inplace=True)\n"
   ]
  },
  {
   "cell_type": "code",
   "execution_count": 21,
   "metadata": {},
   "outputs": [],
   "source": [
    "compression_dict = {\"node_signatures\": signatures, \"duplicated_signatures\": dup_parents}"
   ]
  },
  {
   "cell_type": "code",
   "execution_count": 22,
   "metadata": {},
   "outputs": [
    {
     "data": {
      "text/plain": [
       "NodeView(('SPHK2', 'HDAC2', 'HDAC1', 'parent_of_Metab__sphs1p_c1', 'parent_of_Metab__HMDB0001383_c1', 'Metab__trpglugly_c', 'Gene7387__orphanReacTRPGLUGLYr', 'EGFR', 'PIK3CA', 'PIK3R2', 'CAV1', 'PLCG1', 'CYTH2', 'FRS2', 'VAV2', 'EPS15', 'TNK2', 'CTNNB1', 'HGS', 'STAT1', 'PLD2', 'PTPN1', 'PCNA', 'ARF6', 'PRKDC', 'GSTP1', 'ERBB2', 'CTNND1', 'CRK', 'BCAR1', 'HDAC6', 'EZR', 'STAT5B', 'PTK2', 'GRB2', 'NCK1', 'NCK2', 'SOS1', 'PLCG2', 'CBL', 'CCND1', 'E2F1', 'STAT3', 'CRKL', 'ERRFI1', 'SHC1', 'MAP2K1', 'parent_of_HRAS1_____KRAS1', 'parent_of_MAPK81', 'parent_of_CSK1', 'parent_of_MARCKS-1_____PPP3R11_____CAMK11_____CAMKK21_____PPP3CB1_____RIN11_____NRAS-1_____CAMK2G1_____UNC13B1_____ATP2B11_____RAC11_____PPP3CA1_____IQGAP11', 'parent_of_ACTR21_____ACTB1', 'Gene7400__orphanReacTRPVALASPr', 'Metab__HMDB0000883_c', 'Metab__HMDB0000191_c', 'Metab__HMDB0000929_c', 'Gene359__DEGS1', 'Metab__HMDB0001197_c', 'Metab__crm_hs_c', 'Gene207__BTD', 'Metab__HMDB0000182_m', 'Metab__HMDB0000030_m', 'Metab__tyrasparg_c', 'Gene7422__orphanReacTYRASPARGr', 'PEBP1', 'MAP3K7', 'CHUK', 'BRAF', 'RAF1', 'MAP4K4', 'Metab__2hiv_c', 'Gene4101__orphanReac2HIVte', 'parent_of_Metab__HMDB0000019_c1', 'Metab__HMDB0000998_n', 'parent_of_Metab__HMDB0001546_n1_____Metab__HMDB0001245_n1', 'parent_of_Metab__HMDB0001245_n1', 'parent_of_Metab__HMDB0000998_c1', 'Metab__HMDB0001043_x', 'parent_of_Metab__HMDB0006523_x1', 'Gene7113__orphanReacGLYHISASNr', 'Metab__HMDB0000123_c', 'Metab__HMDB0000168_c', 'Metab__HMDB0000177_c', 'PMAIP1', 'BAX', 'BCL2L1', 'MCL1', 'Metab__CE4806_m', 'parent_of_Metab__CE4801_m1', 'E2F3', 'TFDP1', 'CCNA2', 'GNB1', 'GNAS', 'Gene7345__ALDOA_reverse', 'Metab__HMDB0006534_c', 'Metab__HMDB0001176_g', 'Gene1375__ST3GAL2', 'Gene1373__ST3GAL2', 'parent_of_Metab__HMDB0000095_g1', 'parent_of_Metab__HMDB0000095_g1_____Metab__gd1a_hs_g1', 'Gene9063__GLS', 'Metab__HMDB0000051_m', 'Metab__HMDB0000148_m', 'Metab__HMDB0000227_e', 'parent_of_Metab__HMDB0000227_c1', 'Gene10572__orphanReacCRVSM31itr_reverse', 'Metab__crvsm31_c', 'Metab__M02612_m', 'parent_of_Metab__M00054_m1_____Metab__HMDB0001197_m1', 'parent_of_Metab__M02611_m1', 'Gene3437__orphanReacHISMETGLNr_reverse', 'Metab__hismetgln_c', 'HRAS', 'JUN', 'RASSF1', 'PIK3CB', 'RALGDS', 'MAPK8', 'ARAF', 'Gene3428__orphanReacALAARGGLYr', 'Metab__HMDB0000517_c', 'Metab__HMDB0000161_c', 'CREM', 'CREB1', 'Gene2443__ACOX1', 'Metab__dec24dicoa_m', 'Gene4741__FH', 'Metab__HMDB0000051_c', 'Metab__HMDB0000134_c', 'Gene1512__orphanReacXYLTt_reverse', 'Metab__HMDB0002917_e', 'Gene5777__CMPK1', 'Metab__HMDB0001201_n', 'Metab__HMDB0001245_n', 'Metab__M00658_m', 'Gene4777__COQ5', 'TOP1', 'parent_of_PCNA1', 'Metab__crm_hs_l', 'Gene5628__ASAH1', 'Metab__alahisala_c', 'parent_of_Metab__HMDB0000177_c1', 'Metab__HMDB0001426_c', 'Gene659__orphanReacFALDtm_reverse', 'CASP3', 'MAPK1', 'MAPK3', 'Gene1762__orphanReacr1421_reverse', 'PXN', 'Gene658__orphanReacFALDtly_reverse', 'ODC1', 'CASP9', 'parent_of_Metab__mlthf_c1', 'parent_of_Metab__HC02121_c1', 'parent_of_Metab__HMDB0000092_c1', 'parent_of_Metab__HMDB0062625_c1', 'parent_of_Metab__HMDB0001875_c1', 'APH1A', 'PSENEN', 'PSEN1', 'parent_of_NOTCH11_____NOTCH21', 'Metab__adrncoa_x', 'parent_of_Metab__HMDB0003125_x1_____Metab__HMDB0006523_x1', 'parent_of_Metab__dcsptn1coa_x1', 'parent_of_Metab__HMDB0060220_x1', 'parent_of_Metab__adrncoa_c1', 'Gene3442__orphanReacILEPROLYSr', 'Metab__HMDB0000172_c', 'Metab__HMDB0000182_c', 'Metab__HMDB0000162_c', 'Metab__HC01180_c', 'Gene9770__PFKL_reverse', 'Gene1618__PFKL_reverse', 'Gene3153__orphanReacPSERtr', 'Metab__HMDB0000272_e', 'Gene4733__CRAT_reverse', 'Metab__lnlncgcrn_r', 'Metab__HMDB0000641_m', 'Gene9691__orphanReacr0157', 'CTBP1', 'EP300', 'NRIP1', 'Metab__serphelys_c', 'Gene7365__orphanReacSERPHELYSr', 'Metab__HMDB0001149_e', 'parent_of_Metab__HMDB0001149_c1', 'Gene9186__orphanReacLNELDCt_reverse', 'Metab__lneldc_e', 'PPP2R5C', 'ATF1', 'CFL1', 'CAMK1', 'RPS6KB1', 'AKT1', 'GSK3A', 'BAD', 'Metab__HC02024_r', 'Gene1739__LIPA', 'Gene3632__ARG2', 'Metab__HMDB0000214_c', 'parent_of_Gene2341__PRDX6_reverse1', 'Metab__HMDB0000012_n', 'parent_of_Metab__HMDB0000012_c1', 'PPP2R1A', 'PPP2CA', 'PPP2CB', 'Metab__5dhf_c', 'Gene5487__orphanReac5DHFtl', 'parent_of_Metab__6dhf_c1', 'Gene5619__ARG2', 'Metab__HMDB0000214_m', 'Metab__HMDB0000294_m', 'BMPR2', 'ACVR1', 'BMPR1A', 'EGLN1', 'HIF1A', 'Gene6477__SLC25A20_reverse', 'Metab__c6crn_x', 'Metab__CE4794_m', 'parent_of_Metab__CE4792_m1', 'parent_of_Metab__HMDB0011123_m1', 'Gene3540__orphanReacTRPGLYVALr', 'Gene7312__orphanReacLYSARGLEUr_reverse', 'Metab__lysargleu_c', 'Gene1735__SOAT1', 'Metab__HC02023_r', 'Gene706__FPGS', 'Metab__6dhf_m', 'Gene9499__GNS', 'Metab__HMDB0001448_l', 'Metab__ksi_deg34_l', 'Metab__HMDB0001406_c', 'Gene7301__PNP_reverse', 'SIRT1', 'SIRT2', 'Metab__HMDB0001173_e', 'Gene2782__orphanReac5MTAte', 'Metab__ksii_core2_deg3_l', 'Gene9501__GNS', 'Gene1070__HEXA', 'Metab__CE5126_x', 'parent_of_Metab__pristcoa_x1', 'parent_of_Metab__CE5125_x1', 'Gene10316__ACOX1', 'Metab__HMDB0001197_m', 'Metab__CE2434_m', 'Gene3565__orphanReacTYRVALMETr_reverse', 'Metab__tyrvalmet_c', 'Gene7359__orphanReacPROASNCYSr_reverse', 'Metab__proasncys_c', 'Gene9640__orphanReacVALt5m', 'Metab__HMDB0000883_m', 'STK4', 'FOXO3', 'STK38', 'MAP2K4', 'LATS1', 'LATS2', 'parent_of_LATS11_____LATS21', 'Metab__CE2422_m', 'parent_of_Metab__CE0785_m1', 'parent_of_Metab__HMDB0012473_m1', 'Gene10531__CRAT', 'Metab__strdnccrn_r', 'Gene1319__GNS_reverse', 'Metab__ksi_deg21_l', 'Gene7427__orphanReacTYRTRPPHEr', 'Metab__HMDB0000158_c', 'Metab__HMDB0000159_c', 'Gene7105__orphanReacGLNHISLYSr_reverse', 'Metab__glnhislys_c', 'Metab__HMDB0000067_r', 'Gene8132__SOAT1', 'Gene4727__SOAT1', 'Gene8135__SOAT1', 'Gene8126__SOAT1', 'Gene4748__SOAT1', 'Gene9867__SOAT1', 'Gene4747__SOAT1', 'Gene4704__SOAT1', 'Gene4700__SOAT1', 'Gene8128__SOAT1', 'Gene4702__SOAT1', 'Gene8143__SOAT1', 'Gene9866__SOAT1', 'Gene8144__SOAT1', 'Gene8147__SOAT1', 'Gene8142__SOAT1', 'Gene4718__SOAT1', 'Gene8130__SOAT1', 'Gene4705__SOAT1', 'Gene4749__SOAT1', 'Gene4738__SOAT1', 'Gene4699__SOAT1', 'Gene4717__SOAT1', 'Gene8146__SOAT1', 'Gene8148__SOAT1', 'Gene4736__SOAT1', 'Gene4715__SOAT1', 'Gene1736__SOAT1', 'Gene8131__SOAT1', 'Gene9869__SOAT1', 'Gene4701__SOAT1', 'Gene8138__SOAT1', 'Gene4731__SOAT1', 'Gene8149__SOAT1', 'Gene8139__SOAT1', 'Gene9868__SOAT1', 'Gene8134__SOAT1', 'Gene9865__SOAT1', 'Gene4739__SOAT1', 'Gene4724__SOAT1', 'Gene4737__SOAT1', 'Gene8133__SOAT1', 'Gene1734__SOAT1', 'Gene8129__SOAT1', 'Gene8140__SOAT1', 'Gene8136__SOAT1', 'Gene8141__SOAT1', 'Gene4722__SOAT1', 'Gene8150__SOAT1', 'Gene8145__SOAT1', 'Gene8127__SOAT1', 'Gene4726__SOAT1', 'Gene8137__SOAT1', 'Gene4746__SOAT1', 'parent_of_Metab__HMDB0000067_m1', 'parent_of_Metab__HMDB0000067_l1', 'parent_of_Metab__HMDB0000067_c1', 'Metab__em3gacpail_hs_r', 'parent_of_Metab__dag_hs_r1', 'Metab__HMDB0062628_r', 'Gene1191__H6PD', 'parent_of_Metab__HMDB0001401_r1', 'Gene2970__orphanReacC05953t_TRANSPORTER1', 'Metab__HMDB0002752_e', 'Gene7354__orphanReacPHETRPLEUr', 'Metab__HMDB0000687_c', 'SOX9', 'RUNX2', 'Metab__phesertrp_c', 'Gene3488__orphanReacPHESERTRPr', 'Metab__hisglu_c', 'Gene3425__orphanReacHISGLUr', 'TK1', 'parent_of_Metab__HMDB0001227_c1', 'parent_of_Metab__HMDB0001409_c1', 'Gene9266__NAGA', 'Metab__Ser_Thr_l', 'Metab__udpacgal_l', 'Metab__M01389_c', 'parent_of_Metab__HMDB0003971_c1', 'parent_of_Metab__HMDB0001401_c1', 'Gene1037__orphanReacMI1P_Dtn_reverse', 'Metab__mi1p_D_c', 'Metab__HMDB0006267_x', 'parent_of_Metab__HMDB0006267_c1', 'parent_of_Metab__c226coa_x1', 'Metab__HMDB0001072_e', 'parent_of_Metab__HMDB0001072_c1', 'Metab__HMDB0003073_r', 'parent_of_Metab__HMDB0006368_r1', 'parent_of_Metab__HMDB0003073_c1', 'EIF3J', 'EIF4G2', 'Metab__HMDB0062424_c', 'Gene1239__PAICS', 'parent_of_Metab__HMDB0062575_c1', 'Gene6578__ECHS1_HADH_ACAA2', 'Metab__tdec4ecoa_m', 'SETD2', 'parent_of_Metab__HMDB0000939_c1_____Metab__M00213_c1', 'parent_of_Metab__Ntmelys_c1_____Metab__HMDB0000939_c1', 'parent_of_Metab__HMDB0000939_c1_____Metab__Ndmelys_c1', 'Metab__HC02070_c', 'parent_of_Metab__dhcrm_hs_c1', 'Metab__M03019_m', 'parent_of_Metab__M00172_m1', 'Metab__HMDB0001096_c', 'Gene5695__orphanReacCBPter', 'parent_of_Metab__hmcr_c1', 'Metab__biocyt_m', 'Metab__HMDB0000133_l', 'parent_of_Metab__HMDB0000133_c1', 'Metab__HMDB0001881_e', 'parent_of_Metab__HMDB0001881_c1', 'Gene9561__SUCLG1_SUCLG2', 'Metab__HMDB0001022_m', 'Metab__HMDB0001201_m', 'Gene9260__HEXA', 'Metab__cs_d_deg6_l', 'Metab__HMDB0000054_r', 'parent_of_Metab__HMDB0000054_c1', 'Gene7361__orphanReacPROGLULYSr_reverse', 'Metab__proglulys_c', 'Metab__thrtyrmet_c', 'Gene3532__orphanReacTHRTYRMETr', 'MAD1L1', 'MAD2L1', 'Gene9340__UMPS', 'Metab__HMDB0062643_c', 'Metab__HMDB0000226_c', 'ILK', 'AKT2', 'FN1', 'PDPK1', 'PPP1R14B', 'AKT3', 'GSK3B', 'Gene2586__ECI1', 'Metab__2decdicoa_m', 'Metab__cysleuthr_c', 'Gene3484__orphanReacCYSLEUTHRr', 'DIABLO', 'HTRA2', 'parent_of_CASP91', 'HSP90AA1', 'RIPK1', 'FANCC', 'BIRC5', 'TGFBR1', 'HSPD1', 'FLCN', 'PPP5C', 'TGFBR2', 'TP53', 'NR3C1', 'parent_of_TP53-1', 'Metab__HMDB0002356_c', 'Gene894__orphanReacHEXCt_reverse', 'parent_of_Metab__hexccoa_c1', 'Gene3448__orphanReacLEUASPLYSr', 'Metab__M01486_r', 'RALA', 'EXOC2', 'parent_of_CDC42-1_____RAC1-1', 'Metab__HMDB0000014_n', 'parent_of_Metab__HMDB0000014_c1', 'parent_of_Metab__HMDB0001202_n1', 'Gene7334__orphanReacPHEASNMETr', 'Metab__HMDB0000696_c', 'Gene7544__G6PD', 'Metab__HMDB0062628_c', 'Gene2209__ABCD1', 'Metab__HMDB0001064_x', 'Metab__HMDB0001426_m', 'Metab__HMDB0000094_c', 'parent_of_Metab__HMDB0000223_c1', 'parent_of_Metab__HMDB0000094_m1', 'parent_of_Metab__HMDB0000193_c1', 'Gene6544__ACADVL', 'Metab__docohepcoa_m', 'Metab__HMDB0001453_m', 'Gene2279__TST_reverse', 'Metab__HMDB0011733_c', 'Gene7064__orphanReacARGGLYGLYr', 'Gene2175__HSD17B4_reverse', 'Metab__HMDB0012477_x', 'Metab__HMDB0000218_e', 'parent_of_Metab__HMDB0000218_c1', 'Gene5768__orphanReacCYTDtn', 'Metab__HMDB0000089_n', 'CUL1', 'CDK2', 'SMAD3', 'CDKN1A', 'CDKN1B', 'Metab__M00954_c', 'Gene8187__NSDHL', 'Metab__sphmyln_hs_l', 'Gene9533__SMPD1', 'parent_of_Metab__sphmyln_hs_c1', 'XPA', 'RPA2', 'XPC', 'RPA1', 'DDB2', 'GTF2H1', 'Gene1764__orphanReacr1428', 'Metab__HMDB0001473_x', 'BNIP3', 'RHEB', 'Metab__sphs1p_e', 'parent_of_Metab__HMDB0000252_e1', 'F2R', 'GNA13', 'GNAQ', 'GNAI1', 'GNA12', 'Metab__ksi_deg10_l', 'Gene9242__HEXA', 'Gene9495__GNS_reverse', 'Gene6197__ACADM_reverse', 'Metab__CE4798_m', 'Metab__HMDB0001248_m', 'Metab__sphmyln_hs_e', 'parent_of_Metab__sphmyln_hs_l1', 'Metab__M01197_r', 'parent_of_Metab__M01191_r1', 'Gene1563__GMPR2', 'Metab__HMDB0000175_c', 'Gene3504__orphanReacGLUTHRLYSr', 'Metab__HMDB0000167_c', 'Metab__HMDB0000148_c', 'Metab__M01470_r', 'Gene8153__LIPA', 'Metab__HMDB0000050_l', 'parent_of_Metab__HMDB0000050_c1', 'Gene7100__orphanReacASPGLUr', 'Gene1340__orphanReacSer_Thrtg_reverse', 'Metab__CE4793_m', 'parent_of_Metab__HMDB0006368_m1', 'Metab__HMDB0000193_x', 'parent_of_Metab__HMDB0003974_x1', 'parent_of_Metab__HMDB0000208_x1', 'Metab__HMDB0001414_c', 'Gene1684__orphanReacr0907_reverse', 'Gene7326__SRM', 'parent_of_Metab__HMDB0001414_e1', 'Metab__CE5253_l', 'Gene4482__PRDX6', 'Gene4740__LIPA', 'Metab__HMDB0013123_r', 'Metab__dd5ecoa_m', 'Gene2598__ACADM_ECHS1_HADH_ACAA2', 'Metab__HMDB0001440_c', 'Gene5769__CMPK1', 'Gene5771__CMPK1', 'parent_of_Metab__HMDB0000960_c1', 'parent_of_Metab__HMDB0001440_n1', 'Metab__galgluside_hs_l', 'parent_of_Metab__galgluside_hs_c1', 'parent_of_Metab__HMDB0000143_l1_____Metab__gluside_hs_l1', 'Metab__HMDB0000267_e', 'Gene2783__orphanReac5OXPROt', 'Metab__HMDB0000288_g', 'parent_of_Metab__HMDB0000288_c1', 'CSK', 'LYN', 'YES1', 'FYN', 'SRC', 'ITCH', 'IRS1', 'NOTCH1', 'parent_of_RHOA-1_____RAC1-1', 'Metab__HMDB0000095_c', 'Gene9823__orphanReacr0886', 'Gene330__CMPK1', 'Gene241__CDIPT_reverse', 'parent_of_Metab__HMDB0000089_c1', 'parent_of_Metab__HMDB0000089_c1_____Metab__HMDB0001191_c1', 'parent_of_Metab__HMDB0001546_c1', 'parent_of_Metab__HMDB0001245_c1_____Metab__HMDB0001546_c1', 'Metab__gm1b_hs_c', 'parent_of_Metab__HMDB0000095_c1_____Metab__gd1a_hs_c1', 'RB1', 'RBL1', 'LDHA', 'parent_of_Metab__HMDB0000190_c1', 'parent_of_Metab__HMDB0000190_x1', 'parent_of_Metab__HMDB0001368_c1', 'parent_of_Metab__HMDB0000243_x1', 'parent_of_Metab__mercplac_c1', 'parent_of_Metab__HMDB0002329_c1', 'parent_of_Metab__2h3mv_c1', 'parent_of_Metab__HMDB0000008_c1', 'parent_of_Metab__HMDB0000005_c1', 'parent_of_Metab__2hiv_c1', 'parent_of_Metab__HMDB0000243_m1', 'parent_of_Metab__HMDB0000190_m1', 'parent_of_Metab__HMDB0000243_c1', 'parent_of_Metab__HMDB0000491_c1', 'PEA15', 'Gene1738__LIPA', 'Metab__HMDB0000207_r', 'TGM2', 'PPP3R1', 'STK3', 'EIF2A', 'CASP2', 'EIF2S2', 'EIF4EBP1', 'PIP4K2A', 'MDM2', 'KRT18', 'CAD', 'CASP7', 'PAK2', 'PSIP1', 'ROCK1', 'BRCA1', 'GSN', 'RELA', 'PIP5K1A', 'PKN1', 'BID', 'CASP6', 'PPP3CA', 'PARP1', 'ATG4D', 'parent_of_TUBB1', 'parent_of_EIF4E1', 'parent_of_RHOA-1', 'Metab__HMDB0001049_c', 'Gene1611__GGCT', 'parent_of_Metab__HMDB0000125_c1', 'Gene3510__orphanReacPROVALGLNr', 'Metab__HMDB0000641_c', 'Metab__ksii_core2_e', 'Gene955__orphanReacKSII_CORE2tly', 'Metab__Ntmelys_c', 'parent_of_Metab__HMDB0001325_c1', 'IKBKG', 'DAB2IP', 'NFKB1', 'MAP3K14', 'TAB3', 'ACTR2', 'ACVR1B', 'Gene3443__orphanReacILETRPTYRr', 'Metab__HMDB0000156_x', 'Gene2769__orphanReacMDHp', 'parent_of_Metab__HMDB0000156_c1', 'Metab__HMDB0002845_e', 'parent_of_Metab__HMDB0002845_c1', 'Gene3467__orphanReacMETPHEARGr', 'Metab__M01777_m', 'parent_of_Metab__HMDB0062214_m1', 'Metab__HC02020_r', 'Gene9870__LIPA', 'Gene10354__ACADM_ECHS1_HADH_ACAA2', 'Metab__HMDB0006404_m', 'TLN1', 'ITGA5', 'ITGB1', 'CAPN1', 'ITGB5', 'Metab__dag_hs_n', 'parent_of_Metab__pa_hs_n1', 'Gene10533__CRAT_reverse', 'Metab__dlnlcgcrn_r', 'Metab__CE4792_m', 'parent_of_Metab__CE4794_m1', 'parent_of_Metab__CE4790_m1', 'RDX', 'ARHGDIA', 'ACTB', 'Metab__cdpdag_hs_c', 'Gene1194__PGS1', 'Gene241__CDIPT', 'parent_of_Metab__HMDB0000095_c1', 'parent_of_Metab__cdpdag_hs_m1', 'Metab__HMDB0000156_m', 'parent_of_Metab__HMDB0000223_m1', 'parent_of_Metab__HMDB0000134_m1', 'Gene7336__orphanReacPHEGLNPHEr_reverse', 'Metab__pheglnphe_c', 'Gene7433__orphanReacVALTRPPHEr_reverse', 'Metab__valtrpphe_c', 'Metab__hs_l', 'Gene1321__GNS', 'Gene7109__orphanReacGLUARGLEUr_reverse', 'Metab__gluargleu_c', 'Metab__3mhis_e', 'parent_of_Metab__3mhis_c1', 'parent_of_Metab__HMDB0000214_e1', 'parent_of_Metab__HMDB0001414_c1', 'Gene9496__GNS_reverse', 'Metab__ksi_deg12_l', 'Metab__hs_deg5_l', 'Gene1326__GNS', 'Metab__HMDB0000725_e', 'parent_of_Metab__HMDB0000725_m1', 'KRAS', 'TCF3', 'GPX1', 'parent_of_Metab__HMDB0003337_c1', 'PRKAA1', 'KPNA2', 'PFKFB3', 'GAPDH', 'ULK1', 'RPTOR', 'HDAC7', 'KIF4A', 'MTOR', 'PRPS1', 'PRPS2', 'TSC2', 'GFPT1', 'PIAS1', 'PRKAB1', 'KLC2', 'CRTC2', 'NR2C2', 'Metab__ksi_deg29_l', 'parent_of_Metab__ksi_deg30_l1_____Metab__HMDB0000143_l1', 'Gene5771__CMPK1_reverse', 'Metab__HMDB0001202_c', 'Gene3423__orphanReacGLYTYRLYSr_reverse', 'Metab__glytyrlys_c', 'Metab__ksii_core2_deg6_l', 'Gene1071__HEXA', 'Gene1323__GNS', 'Metab__4hexdtricoa_m', 'Gene2692__ACADVL', 'Metab__CE5116_m', 'parent_of_Metab__CE5114_m1', 'Metab__M01492_r', 'Gene8392__LIPA', 'Metab__octe5coa_m', 'Gene2607__ACADM_ECHS1_HADH_ACAA2', 'TNIP1', 'Metab__lneldccoa_m', 'Gene2637__ACADVL_HADHA_HADHB', 'parent_of_Metab__lneldccrn_m1', 'parent_of_Metab__HMDB0001070_m1', 'RHOA', 'CDC42', 'RAC1', 'Metab__HMDB0000491_e', 'NCOR1', 'BCL6', 'HDAC3', 'RBPJ', 'TICAM1', 'PRKCD', 'parent_of_Metab__pail345p_hs_c1', 'Gene7058__orphanReacARGALAPHEr_reverse', 'Metab__argalaphe_c', 'Metab__HMDB0000244_e', 'parent_of_Metab__HMDB0000244_c1', 'Metab__HMDB0013025_r', 'parent_of_Metab__tethex3coa_r1', 'Metab__docohexcoa_m', 'Gene2588__DECR1', 'Metab__tetpent6coa_r', 'Metab__HMDB0000673_r', 'Metab__HMDB0002003_r', 'parent_of_Metab__ttccoa_r1', 'Metab__pail35p_hs_c', 'parent_of_Metab__pail3p_hs_c1', 'parent_of_Metab__pail5p_hs_c1', 'Metab__HMDB0000177_e', 'Gene3456__orphanReacASNASNARGr_reverse', 'Metab__asnasnarg_c', 'Metab__ksii_core4_l', 'parent_of_Metab__ksii_core4_deg1_l1', 'Metab__HMDB0000271_c', 'Gene6460__TPP1_reverse', 'NBN', 'CHEK2', 'PIKFYVE', 'parent_of_Metab__pail45p_hs_c1', 'Metab__HMDB0000222_e', 'parent_of_Metab__HMDB0000222_c1', 'Metab__c226crn_m', 'Gene228__CPT2', 'parent_of_Metab__c226crn_c1', 'Gene1317__GNS_reverse', 'Metab__ksi_deg15_l', 'Gene9100__orphanReacH2O2tn', 'Metab__HMDB0003125_n', 'Metab__HC01668_c', 'parent_of_Metab__HMDB0001275_c1', 'Gene6741__orphanReac2PGtr_reverse', 'Metab__HMDB0000362_e', 'RAN', 'KPNB1', 'RANBP3', 'TRAF3', 'TBK1', 'IKBKE', 'Metab__HMDB0000638_c', 'parent_of_Metab__HMDB0003571_c1', 'Gene3550__orphanReacTRPTHRILEr_reverse', 'Metab__trpthrile_c', 'Metab__ksi_deg11_l', 'parent_of_Metab__HMDB0000143_l1_____Metab__ksi_deg12_l1', 'Metab__provalgln_c', 'CCND3', 'CDK4', 'CCNE1', 'CDK6', 'RBL2', 'Gene3418__orphanReacGLYLYSPHEr_reverse', 'Metab__glylysphe_c', 'Metab__HMDB0001243_m', 'parent_of_Metab__CE4804_m1', 'parent_of_Metab__HMDB0001197_m1_____Metab__HMDB0001011_m1', 'parent_of_Metab__HMDB0001011_m1', 'NEK2', 'PPP1CC', 'Metab__HMDB0006547_e', 'parent_of_Metab__HMDB0006547_c1', 'Gene1195__orphanReacPHCHGSm', 'Metab__HMDB0006556_m', 'Metab__hiscyscys_c', 'Metab__HMDB0000097_g', 'parent_of_Metab__HMDB0000097_c1', 'Metab__HMDB0000518_c', 'NFE2L2', 'Gene1707__orphanReacr0994', 'Gene3145__orphanReac7KLITCHOLc', 'Gene6617__CPT2', 'Metab__octd11ecoa_m', 'Metab__HMDB0003377_m', 'Gene9162__SUCLG1_SUCLG2_reverse', 'parent_of_Metab__HMDB0006345_m1', 'Gene648__orphanReacFADH2tru', 'parent_of_Metab__HMDB0001197_x1', 'Metab__HMDB0001999_l', 'parent_of_Metab__HMDB0001999_c1', 'TRIB3', 'COPS6', 'Metab__HMDB0002177_r', 'parent_of_Metab__eicostetcoa_r1', 'Gene7364__orphanReacSERARGTRPr', 'Metab__HMDB0000187_c', 'Metab__valarggly_c', 'Gene7428__orphanReacVALARGGLYr', 'Gene3567__orphanReacVALPROTRPr_reverse', 'Metab__valprotrp_c', 'Gene7097__orphanReacASNTYRPHEr_reverse', 'Metab__asntyrphe_c', 'Metab__HMDB0004258_m', 'parent_of_Metab__CE2243_m1_____Metab__HMDB0001197_m1', 'parent_of_Metab__HMDB0001114_m1_____Metab__HMDB0001197_m1', 'parent_of_Metab__arachcrn_m1', 'Gene7371__orphanReacTHRTHRARGr_reverse', 'Metab__thrthrarg_c', 'Gene2978__orphanReac2OXOADPt_TRANSPORTER3_reverse', 'Metab__HMDB0000208_e', 'Gene3805__ATIC_reverse', 'Metab__HMDB0000972_c', 'Metab__HMDB0001517_c', 'Gene9494__CTSA_GLB1_GALNS_NEU1', 'Metab__ksi_deg5_l', 'Gene7307__orphanReacLEUALAARGr', 'Metab__hislysile_c', 'Gene3434__orphanReacHISLYSILEr', 'Metab__asphiscys_c', 'Gene3468__orphanReacASPHISCYSr', 'Metab__HMDB0006290_m', 'Gene2561__ACADVL_HADHA_HADHB', 'parent_of_Metab__lnlncacrn_m1', 'parent_of_Metab__M02637_m1', 'Gene289__orphanReacCSAPASEly', 'Metab__cs_a_l', 'Metab__glntrpglu_c', 'Gene7107__orphanReacGLNTRPGLUr', 'parent_of_Metab__HMDB0001448_l1_____Metab__cs_c_deg5_l1', 'Gene2589__DECR1', 'Metab__M00172_m', 'parent_of_Metab__M00849_m1', 'Gene8887__orphanReacGLYitr_reverse', 'Gene3540__orphanReacTRPGLYVALr_reverse', 'Gene3572__orphanReacTRPGLYASPr_reverse', 'Gene7113__orphanReacGLYHISASNr_reverse', 'Gene7330__orphanReacMETGLYARGr_reverse', 'Gene7096__orphanReacASNTYRGLYr_reverse', 'Gene7270__orphanReacGLYLYSCYSr_reverse', 'Gene7548__SHMT1_reverse', 'Gene3684__CNDP2_reverse', 'Gene7060__orphanReacARGCYSGLYr_reverse', 'Gene9078__orphanReacGLYtp', 'Gene3424__orphanReacGLYVALHISr_reverse', 'Gene3521__orphanReacSERGLYGLUr_reverse', 'Gene7387__orphanReacTRPGLUGLYr_reverse', 'Gene6521__orphanReacLEUGLYHYc_reverse', 'Gene7428__orphanReacVALARGGLYr_reverse', 'Gene3428__orphanReacALAARGGLYr_reverse', 'Gene7269__orphanReacGLYHISLYSr_reverse', 'Gene3441__orphanReacILEGLYARGr_reverse', 'Gene9431__GART', 'Gene7291__orphanReacHISGLYLYSr_reverse', 'Gene3430__orphanReacALAGLYLYSr_reverse', 'Gene7423__orphanReacTYRCYSGLYr_reverse', 'Gene7550__orphanReacGLYPHEHYc_reverse', 'parent_of_Metab__HMDB0000123_e1', 'parent_of_Metab__HMDB0000721_c1', 'parent_of_Metab__progly_c1', 'parent_of_Metab__HMDB0000123_m1', 'Metab__M01191_r', 'Metab__glnlyslys_c', 'parent_of_Metab__HMDB0000641_c1', 'Metab__HC02076_c', 'Gene10510__AGK', 'Gene7286__orphanReacHISARGCYSr_reverse', 'Metab__hisargcys_c', 'CREBBP', 'Metab__HMDB0000072_e', 'parent_of_Metab__HMDB0000072_c1', 'Gene7094__orphanReacASNPHEASPr_reverse', 'Metab__asnpheasp_c', 'ASAP1', 'ARF1', 'Metab__HMDB0000099_c', 'Gene6744__orphanReacCYST_Ltr_reverse', 'Metab__ga2_hs_c', 'Gene3467__orphanReacMETPHEARGr_reverse', 'Metab__metphearg_c', 'Metab__HMDB0000288_c', 'Gene146400002__orphanReacUDPGLCAtg', 'parent_of_Metab__HMDB0000288_r1', 'parent_of_Metab__HMDB0001191_c1_____Metab__HMDB0000296_c1', 'parent_of_Metab__HMDB0000296_c1', 'parent_of_Metab__HMDB0001245_c1', 'parent_of_Metab__HMDB0001508_c1', 'parent_of_Metab__HMDB0001201_c1', 'Gene7356__orphanReacPHETYRGLNr_reverse', 'Metab__phetyrgln_c', 'Metab__CE2441_m', 'parent_of_Metab__CE2442_m1', 'Gene3521__orphanReacSERGLYGLUr', 'Gene6526__ACADVL_HADHA_HADHB', 'Metab__3octdectecoa_m', 'MMP14', 'BSG', 'parent_of_AXIN11_____DVL11', 'Metab__HMDB0002917_c', 'parent_of_Metab__HMDB0000751_c1', 'parent_of_Metab__HMDB0000098_c1', 'Metab__M00806_m', 'parent_of_Metab__M00911_m1', 'parent_of_RHOA1', 'KAT8', 'FASN', 'Metab__cs_d_l', 'Gene1075__HEXA', 'Gene1329__CTSA_GLB1_GALNS_NEU1', 'Gene1166__SLC35B2', 'Metab__HMDB0001134_g', 'Metab__HMDB0003125_l', 'Gene4482__PRDX6_reverse', 'parent_of_Metab__HMDB0003125_c1', 'Gene4778__COQ7', 'Metab__M00770_m', 'FKBP8', 'Metab__HMDB0006559_m', 'parent_of_Metab__HMDB0006559_c1', 'Metab__CE5148_m', 'parent_of_Metab__CE5144_m1', 'Metab__metargleu_c', 'Gene7318__orphanReacMETARGLEUr', 'Metab__HMDB0000019_m', 'Gene9641__BCAT2_reverse', 'Gene1697__orphanReacSPMDtex2', 'Metab__HMDB0001257_e', 'IRF3', 'IRF1', 'Metab__HMDB0000223_m', 'Gene9388__PCK2', 'Gene5908__GOT2', 'Gene178__GOT2_reverse', 'parent_of_Metab__HMDB0000156_m1', 'Gene6539__ACADVL_HADHA_HADHB', 'Metab__5eipencoa_m', 'XPO1', 'RCC1', 'SMAD4', 'Metab__HMDB0001659_c', 'CAT', 'parent_of_Metab__HMDB0001659_m1', 'Metab__HMDB0000072_m', 'BTRC', 'FBXO5', 'WEE1', 'CDC25A', 'YAP1', 'parent_of_NFKB1-1', 'Metab__gm3_hs_c', 'Gene4357__B4GALNT1', 'Gene4355__NEU1', 'Gene9885__DHCR24', 'Metab__HMDB0006841_r', 'Metab__hmcr_e', 'Metab__hs_deg1_l', 'Gene1321__GNS_reverse', 'HMOX1', 'parent_of_Metab__HMDB0001008_c1_____Metab__HMDB0000692_c1', 'Metab__HMDB0000230_e', 'parent_of_Metab__HMDB0000230_c1', 'Gene3474__orphanReacCYSASNMETr', 'Metab__HMDB0000574_c', 'Metab__M00116_c', 'Gene8334__CPT1B', 'parent_of_Metab__M00115_c1', 'Gene6630__orphanReacMETTRANSc_reverse', 'Metab__HMDB0000243_c', 'HNRNPU', 'Metab__HMDB0000060_m', 'parent_of_Metab__HMDB0000254_m1', 'Gene3531__orphanReacTHRMETARGr_reverse', 'Gene3558__orphanReacTYRCYSTHRr_reverse', 'Gene7057__orphanReacALALYSTHRr_reverse', 'Gene3484__orphanReacCYSLEUTHRr_reverse', 'Gene3532__orphanReacTHRTYRMETr_reverse', 'Gene3435__orphanReacHISLYSTHRr_reverse', 'Gene7369__orphanReacTHRPHEARGr_reverse', 'Gene9892__orphanReacthr_mt', 'Gene7342__orphanReacPHETHRLYSr_reverse', 'Gene7098__orphanReacASNTYRTHRr_reverse', 'Gene3504__orphanReacGLUTHRLYSr_reverse', 'Gene7366__orphanReacTHRARGTYRr_reverse', 'Gene7426__orphanReacTYRTHRr_reverse', 'Gene3524__orphanReacTHRASNTYRr_reverse', 'Gene3525__orphanReacTHRGLNTYRr_reverse', 'Gene3486__orphanReacPHEPHETHRr_reverse', 'Gene7370__orphanReacTHRSERARGr_reverse', 'Gene7397__orphanReacTRPTHRGLUr_reverse', 'Gene3836__SDSL', 'Gene7065__orphanReacARGHISTHRr_reverse', 'Gene7367__orphanReacTHRGLNGLUr_reverse', 'Gene7111__orphanReacGLUTHRr_reverse', 'Gene3526__orphanReacTHRILEARGr_reverse', 'Gene3433__orphanReacARGALATHRr_reverse', 'Gene7368__orphanReacTHRHISHISr_reverse', 'Gene8417__THRA', 'Gene3453__orphanReacARGPROTHRr_reverse', 'Gene3509__orphanReacPROTRPTHRr_reverse', 'Gene7398__orphanReacTRPTHRTYRr_reverse', 'parent_of_Metab__HMDB0000167_e1', 'Metab__spc_hs_e', 'Gene9539__orphanReacSPC_HSt_reverse', 'Metab__M02612_r', 'Metab__ileasp_c', 'Gene7298__orphanReacILEASPr', 'Gene7285__PGLS', 'Metab__M01465_r', 'Metab__thrmetarg_c', 'Metab__HMDB0000990_m', 'parent_of_Metab__HMDB0000990_c1', 'Metab__HMDB0000289_c', 'Gene2341__PRDX6', 'ANAPC10', 'CDC16', 'ANAPC5', 'ANAPC11', 'ANAPC4', 'CDC23', 'ANAPC2', 'CDC27', 'ANAPC7', 'FZR1', 'ANAPC1', 'Metab__HMDB0000904_m', 'Gene256__SLC25A15', 'Metab__HMDB0000827_c', 'parent_of_Metab__HMDB0001114_c1', 'RARA', 'RXRA', 'THRA', 'EIF2AK2', 'Metab__HMDB0000731_c', 'Gene2807__orphanReacSFCYSc_reverse', 'Gene2811__orphanReacSFCYSe', 'Gene4751__LIPA', 'Metab__HMDB0000806_r', 'CTTN', 'parent_of_ACTB1', 'Gene2961__orphanReacACLYSHYc', 'Metab__HMDB0000042_c', 'SKI', 'SMAD1', 'SMAD2', 'parent_of_SMAD41', 'BIRC2', 'XIAP', 'EIF4E', 'Metab__HMDB0001003_c', 'parent_of_Metab__HMDB0001134_c1', 'Gene331__CMPK1', 'Metab__HMDB0001546_n', 'Metab__HMDB0001508_n', 'Gene2522__CPT1B', 'Metab__c51crn_c', 'Gene5592__GPT2_reverse', 'Metab__HMDB0000208_c', 'ATG13', 'RB1CC1', 'Gene1758__orphanReacr1384', 'Metab__HMDB0000299_c', 'Gene9705__AFMID', 'Metab__HMDB0001123_c', 'Metab__HMDB0000142_c', 'Gene7323__RFK', 'Metab__HMDB0001520_c', 'Metab__aspalaarg_c', 'Gene3457__orphanReacASPALAARGr', 'Metab__3dodtricoa_m', 'Gene2559__ECI1', 'DHCR24', 'Gene5820__DHCR24', 'Gene5818__DHCR24', 'Gene5819__DHCR24', 'DHCR7', 'Gene9806__DHCR24', 'parent_of_Metab__HMDB0000067_r1', 'parent_of_Metab__HMDB0001170_r1', 'Gene1483__CMPK1_reverse', 'Metab__HMDB0000288_n', 'Metab__HMDB0001273_n', 'Metab__HMDB0006889_m', 'parent_of_Metab__HC01459_m1', 'Metab__HMDB0003125_e', 'PCBP2', 'MAPKAPK2', 'STK11', 'NUP50', 'IER3', 'CEBPB', 'RPS6KA1', 'SP1', 'RGS19', 'PML', 'SPHK1', 'CASP8', 'RCAN1', 'CSNK2A1', 'ABI1', 'MAP2K3', 'PAK1', 'CDK1', 'XPO5', 'MYC', 'MAPKAPK5', 'PARVA', 'FGFR1', 'RUNX1', 'PFAS', 'TPR', 'ATP1A1', 'ARHGEF2', 'TAGLN2', 'RPS6KA4', 'PRKACA', 'KHDRBS1', 'CAPN2', 'TNFRSF1A', 'NCOA1', 'TSC1', 'RPS6KA3', 'GRB10', 'PTTG1', 'PCYT1A', 'MKNK1', 'PRDX6', 'SLC9A1', 'parent_of_SP11', 'parent_of_TP531', 'parent_of_PPP1CC1', 'parent_of_CCND11', 'parent_of_RAD211', 'Gene1683__orphanReacr0899', 'Metab__HMDB0000056_e', 'Metab__HMDB0001426_e', 'parent_of_Metab__HMDB0001426_c1', 'Metab__alpa_hs_c', 'parent_of_Metab__pa_hs_c1', 'Metab__HMDB0000267_c', 'Gene2783__orphanReac5OXPROt_reverse', 'Metab__3meacmp_r', 'Gene5313__orphanReac3MEACMPitr_reverse', 'Metab__core2_g', 'Metab__core6_l', 'Gene9268__orphanReacNAGLCAly', 'Metab__HMDB0000988_e', 'parent_of_Metab__HMDB0000988_c1', 'MAVS', 'Metab__M01238_r', 'parent_of_Metab__M01237_r1', 'PIAS3', 'RANBP2', 'RANGAP1', 'SUMO1', 'TNPO1', 'Gene8967__GPD2', 'Metab__HMDB0001473_c', 'Metab__HMDB0000795_c', 'parent_of_Metab__HMDB0000795_x1', 'Metab__HMDB0001532_m', 'Gene5812__orphanReacDGK2m', 'Metab__HMDB0001256_c', 'Gene8412__SMOX', 'Gene1002__orphanReacLYStn', 'Metab__HMDB0000182_n', 'Metab__HMDB0006290_c', 'parent_of_Metab__HMDB0001388_c1', 'parent_of_Metab__M02637_c1', 'parent_of_Metab__strdnccoa_c1', 'parent_of_Metab__lnlncacrn_c1', 'Metab__HMDB0001316_r', 'parent_of_Metab__HMDB0000618_r1', 'Metab__3octpencoa_m', 'Gene6524__ECI1', 'Gene7423__orphanReacTYRCYSGLYr', 'Metab__mercplac_c', 'Metab__argserser_c', 'parent_of_Metab__HMDB0000517_c1', 'Metab__HMDB0000189_c', 'Gene9770__PFKL', 'parent_of_Metab__HMDB0003335_c1_____Metab__man6p_c1', 'parent_of_Metab__HMDB0000175_c1', 'parent_of_Metab__HMDB0003335_c1', 'parent_of_Metab__HMDB0000189_n1', 'parent_of_Metab__HMDB0001401_c1_____Metab__HMDB0003335_c1', 'parent_of_Metab__HMDB0003971_c1_____Metab__HMDB0003335_c1', 'parent_of_Metab__HMDB0003335_c1_____Metab__gam6p_c1', 'Metab__tmndnccoa_r', 'Gene10532__CRAT', 'DAG1', 'parent_of_Metab__dag_hs_c1', 'parent_of_Metab__mi1p_D_c1_____Metab__dag_hs_c1', 'Metab__trptyrtyr_c', 'parent_of_Metab__HMDB0000929_c1', 'Metab__leualaarg_c', 'Gene4157__GBA2', 'Metab__crm_hs_e', 'Metab__HMDB0000122_e', 'Metab__HMDB0001129_c', 'parent_of_Metab__HMDB0001121_c1', 'Metab__HMDB0006267_r', 'Gene3153__orphanReacPSERtr_reverse', 'CSNK1A1', 'APC', 'FADD', 'AXIN1', 'PHLPP1', 'YWHAQ', 'MDM4', 'YWHAZ', 'IFNAR1', 'SMO', 'Gene3830__PFAS', 'Metab__HMDB0002305_c', 'ELAVL1', 'BAG2', 'HSF1', 'PLK1', 'SRF', 'HSPB1', 'parent_of_GADD45A1', 'parent_of_CFL1-1', 'DOK1', 'HNRNPK', 'ABL1', 'PRKCA', 'parent_of_PPP1CA-1', 'Gene7297__orphanReacILEASNHISr_reverse', 'Metab__ileasnhis_c', 'NLK', 'MAP2K7', 'HIPK2', 'MAPK14', 'Gene9616__GOT2', 'Metab__HMDB0000208_m', 'Metab__HMDB0000158_m', 'IRAK1', 'PELI3', 'TAB2', 'TAB1', 'Metab__HMDB0003229_r', 'parent_of_Metab__HMDB0003945_r1', 'Metab__hexccoa_c', 'Gene9120__orphanReacHEXCCOAtx', 'parent_of_Metab__HMDB0002356_c1', 'Metab__HMDB0000023_m', 'parent_of_Metab__HMDB0001172_m1', 'ASXL1', 'YWHAG', 'YWHAE', 'YWHAB', 'SFN', 'YWHAH', 'Metab__ksi_deg14_l', 'parent_of_Metab__HMDB0000143_l1_____Metab__ksi_deg15_l1', 'Gene7424__orphanReacTYRLEUARGr', 'Metab__M00804_m', 'parent_of_Metab__M00909_m1', 'Metab__HMDB0006528_r', 'parent_of_Metab__HMDB0006267_r1', 'Metab__cspg_e_e', 'Gene5756__orphanReacCSPG_Etly', 'Metab__trpglutyr_c', 'Gene3539__orphanReacTRPGLUTYRr', 'Metab__HMDB0000132_c', 'parent_of_Metab__HMDB0000085_c1', 'parent_of_Metab__HMDB0001397_c1', 'Metab__HMDB0001413_c', 'Gene9864__orphanReacr1159', 'Gene10572__orphanReacCRVSM31itr', 'parent_of_Metab__HMDB0001185_c1', 'Gene4714__LIPA', 'Metab__HMDB0002884_r', 'SPEN', 'Metab__HMDB0001414_m', 'Metab__lyscyshis_c', 'Gene3460__orphanReacLYSCYSHISr', 'Gene271__COQ6', 'Metab__2dp6mobq_m', 'Metab__dece4coa_x', 'Gene2251__ACOX1', 'Gene4656__ACOX1', 'Gene6397__ACOX1', 'parent_of_Metab__CE0693_x1', 'Gene3506__orphanReacPROPHEr_reverse', 'Metab__prophe_c', 'Gene6561__ACADM_ECHS1_HADH_ACAA2', 'Metab__HMDB0001088_m', 'VPS39', 'Gene6508__ACADVL_HADHA_HADHB', 'Metab__HMDB0006532_m', 'DGKD', 'Metab__bilglcur_r', 'parent_of_Metab__bilglcur_c1', 'Gene9070__GCAT', 'Metab__HMDB0006454_m', 'CABIN1', 'Gene6274__SCP2', 'Metab__HMDB0006292_x', 'Metab__HMDB0001275_x', 'Gene960__GLB1', 'Metab__HMDB0000143_e', 'Metab__HMDB0003945_r', 'Metab__Tn_antigen_l', 'Metab__HMDB0000215_l', 'MAP2K5', 'MAPK7', 'Gene4262__orphanReacCERT1tn', 'Gene7976__orphanReacCRMte_reverse', 'Gene1355__SGMS1', 'parent_of_Metab__crmp_hs_c1', 'parent_of_Metab__gluside_hs_c1', 'parent_of_Metab__HC02048_c1_____Metab__HMDB0000252_c1', 'Gene1320__GNS', 'Metab__ksi_deg25_l', 'Metab__HMDB0006523_c', 'parent_of_Metab__arachdcrn_c1', 'parent_of_Metab__HMDB0001043_c1', 'Metab__pheproarg_c', 'Gene3487__orphanReacPHEPROARGr', 'Gene6799__orphanReacHXCOAte', 'RIPK2', 'CFLAR', 'Metab__lneldc_c', 'parent_of_Metab__lneldccoa_c1', 'Metab__M01458_r', 'Metab__M00006_r', 'Gene7105__orphanReacGLNHISLYSr', 'Metab__ksii_core2_deg4_l', 'parent_of_Metab__HMDB0000215_l1_____Metab__ksii_core2_deg5_l1', 'parent_of_Metab__ksii_core2_deg3_l1', 'Gene3475__orphanReacPHELEUr', 'Gene6745__orphanReacDCMPtr_reverse', 'Metab__HMDB0001202_e', 'Gene7310__orphanReacLEUTRPARGr_reverse', 'Metab__leutrparg_c', 'Gene3457__orphanReacASPALAARGr_reverse', 'Gene2327__ACOX1_reverse', 'Metab__CE0849_m', 'Metab__HMDB0000122_c', 'Gene9049__SLC2A1', 'parent_of_Metab__HMDB0001401_c1_____Metab__HMDB0001508_c1', 'parent_of_Metab__HMDB0000122_e1', 'parent_of_Metab__HMDB0000122_r1', 'parent_of_Metab__HMDB0000247_c1', 'Metab__HMDB0000944_e', 'parent_of_Metab__HMDB0000944_c1', 'Gene844__orphanReacGLYOp', 'Metab__HMDB0003125_x', 'Metab__HMDB0000051_x', 'Metab__HMDB0000119_x', 'Gene9475__orphanReacRTOTALt_reverse', 'Metab__Rtotal_e', 'parent_of_Metab__udpacgal_l1', 'JAK1', 'PTPN11', 'STAT6', 'IRS2', 'TYK2', 'STAT2', 'Metab__HMDB0002212_c', 'Gene159__orphanReacARACHt_reverse', 'parent_of_Metab__HMDB0004258_c1', 'Metab__hexdtrcoa_m', 'Gene7096__orphanReacASNTYRGLYr', 'Metab__asplyshis_c', 'Gene7101__orphanReacASPLYSHISr', 'Gene3440__orphanReacILEGLNGLUr_reverse', 'Metab__ileglnglu_c', 'Metab__f1a_l', 'parent_of_Metab__f1a_e1', 'parent_of_Metab__f1a_g1', 'parent_of_Metab__core6_l1_____Metab__HMDB0000143_l1', 'Metab__HMDB0000005_c', 'Gene173100002__SLC16A1', 'GAMT', 'Gene756__GAMT_reverse', 'Gene756__GAMT', 'Metab__31dmt_r', 'parent_of_Metab__HMDB0001185_r1', 'parent_of_Metab__31dmt_c1', 'Metab__M01501_r', 'Metab__HMDB0000085_c', 'Gene358__orphanReacDGSNtm', 'Gene7322__PNP', 'parent_of_Metab__dgmp_c1', 'Metab__3mhis_c', 'Gene298300002__orphanReac3MHISt1', 'Gene6581__orphanReac3MHISc_reverse', 'Metab__pail5p_hs_c', 'parent_of_Metab__pail35p_hs_c1', 'Metab__M01464_r', 'Gene8388__LIPA', 'Metab__HMDB0000263_m', 'Metab__protrplys_c', 'Gene7362__orphanReacPROTRPLYSr', 'MARK2', 'SIK2', 'SIK3', 'Gene9316__ITPA', 'Metab__HMDB0006555_c', 'Metab__HMDB0000133_c', 'Gene9087__SLC29A1_reverse', 'Gene9089__SLC29A3_reverse', 'Gene3756__PNP', 'Metab__HMDB0002719_c', 'Gene3425__orphanReacHISGLUr_reverse', 'FANCE', 'Metab__HMDB0001999_e', 'Metab__5dhf_l', 'Metab__lysgluglu_c', 'parent_of_Metab__HMDB0000182_c1', 'parent_of_RHOA1_____ARHGAP11', 'PRKCI', 'NUMB', 'ECT2', 'Metab__pgp_hs_m', 'Gene7486__orphanReacPGP_hs_tm', 'parent_of_Metab__pglyc_hs_m1', 'Metab__HMDB0000273_m', 'parent_of_Metab__HMDB0000273_c1', 'Metab__dgmp_m', 'Gene1496__orphanReacUTPtn', 'Metab__HMDB0000285_n', 'Metab__ocdececrn_c', 'parent_of_Metab__octd11ecoa_c1', 'parent_of_Metab__ocdececrn_m1', 'Gene6579__ECI1', 'Metab__tddedi2coa_m', 'Gene3572__orphanReacTRPGLYASPr', 'Gene10362__ACADVL_HADHA_HADHB', 'Metab__tridcoa_m', 'DVL1', 'Metab__HMDB0000517_e', 'Gene983__CPT2', 'Metab__HMDB0001064_m', 'Metab__vacccoa_r', 'Metab__HMDB0000060_c', 'Gene7381__AACS', 'parent_of_Metab__HMDB0000060_e1', 'parent_of_Metab__HMDB0000060_x1', 'parent_of_Metab__HMDB0000060_m1', 'PELP1', 'NPM1', 'PPP1CA', 'RBBP8', 'DLG1', 'SKP2', 'CCP110', 'FOXM1', 'CDKN2D', 'ID3', 'PRDX1', 'CHEK1', 'parent_of_BRCA11', 'parent_of_PRKACA-1_____PRKACB-1', 'Metab__M01510_r', 'Gene4750__LIPA', 'Metab__HMDB0001659_m', 'Gene9826__orphanReacr0927', 'Metab__pail45p_hs_n', 'parent_of_Metab__pail4p_hs_n1', 'parent_of_Metab__pail345p_hs_n1', 'SRPK2', 'parent_of_SMAD1-1', 'PTPN12', 'Metab__M01207_r', 'parent_of_Metab__M00123_r1', 'Gene152__orphanReacAPOCFm', 'parent_of_Gene5675__HLCS1', 'Gene5473__GOT2', 'Metab__3snpyr_m', 'Gene4055__orphanReacDSMSTEROLtr', 'OTUD5', 'Metab__3htmelys_c', 'parent_of_Metab__HMDB0000123_c1', 'Metab__dectricoa_m', 'Gene2593__DECR1', 'Metab__HMDB0002183_c', 'Gene7148__orphanReacCRVNCtl_reverse', 'parent_of_Metab__c226coa_c1', 'parent_of_Metab__HMDB0002183_e1', 'Gene3489__orphanReacPROARGCYSr', 'Metab__hisphearg_c', 'Gene7295__orphanReacHISPHEARGr', 'Metab__HMDB0062214_r', 'Metab__HMDB0001088_c', 'parent_of_Metab__HMDB0001088_m1', 'parent_of_Metab__HMDB0002013_c1', 'Metab__HMDB0001275_c', 'parent_of_Metab__HMDB0001275_x1', 'parent_of_Metab__HMDB0001275_m1', 'parent_of_Metab__HMDB0000824_c1', 'parent_of_Metab__HMDB0000237_c1', 'Metab__HC02050_c', 'parent_of_Metab__HC02056_c1', 'Metab__HMDB0005065_c', 'Gene3517__orphanReacODECRNtr_reverse', 'parent_of_Metab__HMDB0005065_m1', 'parent_of_Metab__HMDB0001322_c1', 'parent_of_Metab__M00020_c1', 'Metab__tyrcysthr_c', 'Metab__HMDB0000751_c', 'Gene7597__orphanReacXYLULte', 'parent_of_Metab__HMDB0002917_c1', 'Gene1354__SMPD4', 'Metab__crm_hs_g', 'Metab__HMDB0001565_g', 'Metab__dmnoncoa_x', 'Gene9513__SCP2_reverse', 'parent_of_Metab__dmnoncrn_x1', 'Metab__pheasp_c', 'Gene7335__orphanReacPHEASPr', 'Gene8889__orphanReac13DMTitr_reverse', 'Metab__13dmt_r', 'Gene1700__orphanReacr0962', 'Metab__HMDB0000121_m', 'Metab__alaasnleu_c', 'Gene3429__orphanReacALAASNLEUr', 'Metab__gluthrlys_c', 'Gene9440__PTDSS2_reverse', 'Metab__pe_hs_c', 'Gene1324__CTSA_GLB1_GALNS_NEU1', 'Metab__ksii_core4_deg2_l', 'Metab__HMDB0002054_m', 'parent_of_Metab__HMDB0001356_m1', 'parent_of_Metab__HMDB0002054_c1', 'parent_of_KPNB11', 'Metab__cs_e_l', 'parent_of_Metab__cs_e_deg3_l1', 'parent_of_Metab__HMDB0000939_m1', 'Gene3522__orphanReacSERLYSHISr', 'Gene7276__ALDOA', 'Metab__HMDB0001112_c', 'Metab__HMDB0000742_e', 'Gene3616__orphanReacHCYSte', 'Metab__CE5153_m', 'parent_of_Metab__CE5152_m1', 'Metab__dec24dicoa_x', 'Metab__HMDB0001197_x', 'Gene4234__orphanReacSPHINGStn', 'Metab__HMDB0000252_n', 'Metab__HMDB0001294_c', 'parent_of_Metab__HMDB0060180_c1', 'parent_of_Metab__HMDB0001270_c1', 'Metab__HMDB0001191_n', 'parent_of_Metab__HMDB0001000_n1', 'parent_of_Metab__HMDB0001409_n1', 'Metab__tyrargser_c', 'Gene3557__orphanReacTYRARGSERr', 'Metab__pail45p_hs_c', 'parent_of_Metab__pail45p_hs_n1', 'parent_of_Metab__pail4p_hs_c1', 'Gene9165__orphanReacKSII_CORE2t', 'Metab__HMDB0000707_m', 'Metab__HMDB0012476_x', 'INPPL1', 'parent_of_Metab__pail34p_hs_c1', 'CDC26', 'Metab__glumethis_c', 'Gene7110__orphanReacGLUMETHISr', 'Metab__strdnccrn_m', 'parent_of_Metab__strdnccoa_m1', 'parent_of_Metab__strdnccrn_c1', 'Metab__HMDB0003952_m', 'parent_of_Metab__CE2424_m1', 'Metab__HMDB0002259_r', 'parent_of_Metab__hpdcacoa_r1', 'VEGFA', 'PGK1', 'Metab__HMDB0060244_c', 'Gene1664__orphanReacr0788_reverse', 'Gene1665__orphanReacr0789', 'Gene7401__orphanReacTYRALAPHEr', 'Metab__HMDB0012477_m', 'parent_of_Metab__CE2434_m1', 'parent_of_Metab__CE0713_m1', 'Metab__HMDB0001056_l', 'parent_of_Metab__HMDB0001056_c1', 'Gene8125__ACADM', 'Metab__trpgluleu_c', 'Gene7388__orphanReacTRPGLULEUr', 'Gene9847__orphanReacr1019_reverse', 'E2F4', 'Metab__HMDB0000128_e', 'parent_of_Metab__HMDB0000128_c1', 'Metab__HMDB0000299_e', 'parent_of_Metab__HMDB0000299_c1', 'Metab__alalysthr_c', 'Metab__HMDB0001999_r', 'parent_of_Metab__tmndnccoa_r1', 'Gene3565__orphanReacTYRVALMETr', 'Gene3526__orphanReacTHRILEARGr', 'Metab__HMDB0000123_r', 'Gene146200001__SLC35A2', 'Metab__HMDB0000302_g', 'Gene3997__orphanReacVANILLACc_reverse', 'Metab__vanilpyr_c', 'SH3RF1', 'Metab__M01456_r', 'Gene7362__orphanReacPROTRPLYSr_reverse', 'Gene6330__CPT1B', 'Metab__HMDB0000651_c', 'Metab__xolest2_hs_e', 'Gene6673__LIPA', 'parent_of_Metab__xolest2_hs_c1', 'Gene9058__GCLC_GCLM', 'Metab__tyrthr_c', 'Gene7426__orphanReacTYRTHRr', 'Metab__ileglyarg_c', 'Gene3441__orphanReacILEGLYARGr', 'Metab__ksi_deg16_l', 'parent_of_Metab__ksi_deg17_l1_____Metab__HMDB0000215_l1', 'EPHA2', 'RASA1', 'Gene3422__orphanReacALAARGCYSr', 'ABL2', 'RIN1', 'SIVA1', 'VCP', 'AURKA', 'NGLY1', 'Gene9525__orphanReacSERtp', 'Metab__HMDB0000187_x', 'Metab__HMDB0001056_c', 'Gene703__FPGS', 'parent_of_Metab__HMDB0001056_l1', 'parent_of_Metab__HMDB0001846_c1', 'parent_of_Metab__HMDB0001056_m1', 'parent_of_Metab__HMDB0000121_c1', 'Metab__M00962_c', 'Gene8185__MSMO1', 'Metab__HMDB0001586_c', 'Gene7374__GALT_reverse', 'parent_of_Metab__HMDB0000286_c1', 'Metab__2hexdtricoa_m', 'Gene10366__HADHA_HADHB', 'Metab__proargcys_c', 'Gene975__orphanReacTTCCOAtx', 'Metab__ttccoa_x', 'Gene7311__orphanReacLEUVALr', 'Gene7427__orphanReacTYRTRPPHEr_reverse', 'Metab__tyrtrpphe_c', 'Metab__CE0785_m', 'Gene6222__ACOX1', 'parent_of_Metab__CE2422_m1', 'parent_of_Metab__CE2432_m1', 'Metab__HMDB0002329_c', 'parent_of_Metab__HMDB0002329_m1', 'parent_of_Metab__HMDB0002329_e1', 'Gene3458__orphanReacLEUSERTRPr', 'Metab__trpaspasp_c', 'parent_of_Metab__HMDB0001047_c1', 'Metab__HMDB0001173_c', 'Metab__ksii_core2_deg9_l', 'parent_of_Metab__f1a_l1_____Metab__HMDB0000215_l1', 'Gene1749__orphanReacr1298', 'Metab__eicostetcrn_c', 'parent_of_Metab__eicostetcrn_m1', 'parent_of_Metab__eicostetcoa_c1', 'Metab__HMDB0006559_l', 'Gene9021__GGH', 'Metab__pheasnmet_c', 'Gene1692__orphanReacr0932_reverse', 'Metab__HMDB0001043_l', 'Metab__HMDB0000008_c', 'parent_of_Metab__HMDB0000008_e1', 'Metab__HMDB0000089_c', 'Gene5767__SLC29A1', 'Gene316__SLC29A3_reverse', 'Gene315__SLC29A1_reverse', 'parent_of_Metab__HMDB0000095_c1_____Metab__HMDB0001201_c1', 'parent_of_Metab__HMDB0000095_c1_____Metab__HMDB0001000_c1', 'Gene3656__CTPS1', 'Metab__HMDB0000082_c', 'Metab__2dodtricoa_m', 'Gene10352__ECHS1_HADH_ACAA2', 'Metab__ksi_deg33_l', 'Gene1069__HEXA', 'Metab__HMDB0012969_m', 'parent_of_Metab__HMDB0001197_m1', 'Gene8241__COMT_reverse', 'Metab__34dhoxmand_c', 'Metab__HMDB0001185_c', 'Gene7357__orphanReacPHETYRLYSr', 'Metab__hdd2crn_e', 'parent_of_Metab__hdd2crn_c1', 'Gene7429__orphanReacVALHISASNr', 'VASP', 'Metab__HMDB0006891_m', 'Metab__CE4793_x', 'Gene6327__HSD17B4_reverse', 'parent_of_Metab__HMDB0006368_x1', 'Gene275800002__orphanReacKt3r', 'Metab__HMDB0000586_e', 'Metab__lnlncacrn_m', 'parent_of_Metab__HMDB0006290_m1', 'Gene2583__ACADVL', 'Gene9512__SCP2_reverse', 'Metab__phytcoa_c', 'Gene2485__HSD17B4_reverse', 'Metab__CE4832_x', 'Metab__ksii_core2_deg7_l', 'Gene1323__GNS_reverse', 'parent_of_Metab__HMDB0000215_l1_____Metab__ksii_core2_deg8_l1', 'Gene252__orphanReacCHOLPtl', 'Metab__HMDB0001565_l', 'parent_of_Metab__ksii_core4_deg3_l1', 'NRAS', 'MAP3K4', 'IFNGR1', 'CTNNA1', 'IGF1R', 'Gene299__orphanReacCSPG_Ct', 'Metab__cspg_c_e', 'Metab__HC00664_c', 'Metab__cs_e_deg6_l', 'Gene9504__CTSA_GLB1_GALNS_NEU1_reverse', 'parent_of_Metab__cs_e_deg7_l1', 'Metab__HMDB0000187_m', 'parent_of_Metab__mlthf_m1_____Metab__HMDB0000123_m1', 'Metab__proproarg_c', 'Metab__HMDB0000223_x', 'parent_of_Metab__HMDB0000156_x1', 'Metab__M00049_c', 'Gene8211__HSD17B12', 'Metab__M00783_c', 'FLNA', 'Metab__HMDB0000696_e', 'parent_of_Metab__HMDB0000696_c1', 'Metab__dd3coa_m', 'parent_of_Metab__HMDB0011689_m1', 'Metab__HMDB0000660_e', 'parent_of_Metab__HMDB0000660_c1', 'GABARAP', 'ATG7', 'DVL2', 'Metab__HMDB0000175_e', 'Metab__HMDB0000252_l', 'parent_of_Metab__HMDB0000252_c1', 'Gene3418__orphanReacGLYLYSPHEr', 'Gene4267__orphanReacGD1Atn', 'Metab__gd1a_hs_n', 'Metab__HMDB0000050_e', 'Gene5558__ADA', 'Metab__ptdcacoa_c', 'parent_of_Metab__HMDB0000826_c1', 'parent_of_Metab__ptdcacrn_c1', 'Gene3539__orphanReacTRPGLUTYRr_reverse', 'Metab__HMDB0000695_m', 'Gene974__BCAT2_reverse', 'KHSRP', 'AKT1S1', 'Gene4481__PRDX6', 'Metab__HMDB0003125_c', 'Metab__HMDB0005896_c', 'Gene5910__CPT2', 'Metab__eicostetcoa_m', 'Metab__M00054_m', 'parent_of_Metab__M00790_m1', 'Metab__HMDB0000243_m', 'Gene5797__orphanReacDDPGAm_reverse', 'Gene9683__GPT2_reverse', 'Gene5909__GOT2', 'Gene9339__OAT', 'Gene9683__GPT2', 'Gene9616__GOT2_reverse', 'Gene974__BCAT2', 'Gene9641__BCAT2', 'Gene178__GOT2', 'Gene942__BCAT2', 'Gene1199__GOT2', 'parent_of_Metab__HMDB0000148_m1', 'parent_of_Metab__HMDB0000208_c1', 'parent_of_Metab__HMDB0000254_m1_____Metab__HMDB0000725_m1', 'parent_of_Metab__HMDB0000193_m1', 'parent_of_Metab__HMDB0001022_m1', 'NCOR2', 'SNW1', 'Gene9882__orphanReacr1367', 'Metab__HMDB0002925_r', 'Metab__HMDB0005066_c', 'parent_of_Metab__HMDB0005066_m1', 'parent_of_Metab__HMDB0001521_c1', 'parent_of_Metab__M00129_c1', 'APEX1', 'parent_of_Metab__HMDB0001112_c1', 'CCNH', 'CDK7', 'GTF2H4', 'Metab__HMDB0001248_r', 'Metab__10fthf7glu_c', 'Gene13__orphanReac10FTHF7GLUtl', 'PSMD2', 'ACTA1', 'Gene4106__orphanReacAMETAMte', 'Gene3464__orphanReacLYSTRPARGr', 'Gene3636__GOT1_reverse', 'Metab__HMDB0000099_e', 'parent_of_Metab__HMDB0000099_c1', 'Metab__HMDB0000224_c', 'Gene1188__PCYT2', 'Gene1598__orphanReacr0480', 'Gene2832__orphanReacETHAMPtr_reverse', 'Metab__HMDB0001245_c', 'Gene5779__CMPK1_reverse', 'Gene5773__CMPK1_reverse', 'Gene5778__CMPK1_reverse', 'Gene320__CMPK1_reverse', 'Gene9630__CMPK1_reverse', 'parent_of_Metab__HMDB0001245_m1', 'parent_of_Metab__HMDB0001202_c1', 'PRNP', 'BNIP3L', 'ADAM17', 'PKD1', 'SLC25A1', 'MDC1', 'CBS', 'GCNT1', 'Metab__HMDB0000535_m', 'parent_of_Metab__HMDB0000535_c1', 'Gene1654__HSD17B4', 'Metab__HC01459_x', 'Metab__HMDB0000119_m', 'parent_of_Metab__HMDB0000119_c1', 'parent_of_Metab__HMDB0000115_m1', 'HSPA5', 'STIP1', 'Metab__HMDB0001114_m', 'parent_of_Metab__HMDB0006529_m1_____Metab__HMDB0001197_m1', 'parent_of_Metab__stcrn_m1', 'parent_of_Metab__HMDB0001197_m1_____Metab__HMDB0001338_m1', 'Metab__leutrp_c', 'Gene7309__orphanReacLEUTRPr', 'Gene7342__orphanReacPHETHRLYSr', 'Gene7090__orphanReacARGTYRVALr_reverse', 'Metab__argtyrval_c', 'Gene2750__orphanReacCoqe_reverse', 'Metab__HMDB0003229_c', 'Gene356800002__orphanReacr2514m', 'Gene1750__orphanReacr1304', 'parent_of_Metab__HMDB0006532_c1', 'parent_of_Metab__HMDB0003945_c1', 'parent_of_Metab__HMDB0003229_r1', 'Metab__HC02025_r', 'Gene9872__LIPA', 'Metab__tyrleuarg_c', 'Metab__10fthf6glu_m', 'Gene8933__FPGS', 'parent_of_Metab__10fthf6glu_c1', 'Gene3447__orphanReacARGPHEARGr_reverse', 'Metab__argphearg_c', 'Gene9476__orphanReacRtotaltl', 'Metab__Rtotal_l', 'Metab__metglntyr_c', 'Gene7329__orphanReacMETGLNTYRr', 'Metab__2dpmhobq_m', 'Gene270__COQ3', 'Metab__2docopencoa_m', 'Gene2582__HADHA_HADHB', 'Metab__cs_c_deg2_l', 'parent_of_Metab__cs_c_deg3_l1', 'Metab__HMDB0000097_m', 'Gene3452__orphanReacLEUPROARGr_reverse', 'Metab__leuproarg_c', 'parent_of_Metab__HMDB0000159_c1', 'Metab__clpndcrn_m', 'Gene5726__CPT2', 'parent_of_Metab__clpndcrn_c1', 'Metab__HMDB0001473_e', 'parent_of_Metab__HMDB0001473_c1', 'GTF2H3', 'ERCC2', 'ERCC3', 'Metab__pglyc_hs_c', 'Gene1192__orphanReacPGLYCt_reverse', 'Metab__trpproleu_c', 'Gene7396__orphanReacTRPPROLEUr', 'ADAM9', 'ITGAV', 'Gene1301__orphanReacS4T5g', 'Gene1315__CHST3', 'Gene1307__CHST3', 'Gene1311__CHST3', 'Gene1309__CHST3', 'parent_of_Metab__cspg_a_g1', 'Metab__5thf_m', 'Gene701__FPGS', 'parent_of_Metab__5thf_c1', 'Metab__argglygly_c', 'Metab__HMDB0000220_l', 'parent_of_Metab__HMDB0000220_r1', 'parent_of_Metab__HMDB0000220_c1', 'Metab__hislysthr_c', 'TCOF1', 'Gene6409__ACADM_ECHS1_HADH_ACAA2', 'Metab__noncoa_m', 'Metab__HMDB0000098_c', 'Gene2741__ACADVL', 'Metab__hexdpencoa_m', 'Metab__HMDB0000939_c', 'Gene1598__orphanReacr0480_reverse', 'Gene1665__orphanReacr0789_reverse', 'Gene6707__orphanReacAHCYSte_reverse', 'parent_of_Metab__HMDB0000742_c1_____Metab__HMDB0000050_c1', 'parent_of_Metab__HMDB0000939_r1', 'Gene9496__GNS', 'Metab__ksi_deg13_l', 'Gene1725__orphanReacr1117', 'Metab__HMDB0001227_m', 'Gene7392__orphanReacTRPHISMETr', 'Metab__M01480_r', 'Gene4723__LIPA', 'NUP153', 'Metab__c226coa_c', 'parent_of_Metab__HMDB0002183_c1', 'Gene294__CRAT', 'Metab__HMDB0000824_x', 'CD44', 'SDC4', 'Gene172__ASNS', 'Metab__M00008_r', 'parent_of_Metab__HMDB0060188_r1', 'Gene1751__orphanReacr1364', 'Metab__HMDB0001388_r', 'Metab__HMDB0001338_r', 'Gene1359__orphanReacSPHINGStl', 'KAT5', 'TOPBP1', 'Metab__M01490_r', 'PI4KB', 'Gene9502__CTSA_GLB1_GALNS_NEU1', 'Metab__cs_c_deg1_l', 'Metab__cysasnmet_c', 'Metab__thrserarg_c', 'Gene7370__orphanReacTHRSERARGr', 'parent_of_Metab__HMDB0000051_c1', 'Metab__ptdcacoa_m', 'parent_of_Metab__HMDB0001197_m1_____Metab__M00061_m1', 'parent_of_Metab__ptdcacrn_m1', 'RNF11', 'Metab__HMDB0000064_c', 'parent_of_Metab__HMDB0000064_e1', 'Gene6572__orphanReacHC00342te', 'Metab__arachcrn_c', 'Gene8984__orphanReacGALGLUSIDEtl', 'Gene4448__NSDHL', 'Metab__M01068_c', 'Metab__M01485_r', 'Gene7432__orphanReacVALSERARGr', 'Gene278__orphanReacCRMPte', 'Metab__crmp_hs_e', 'Gene7141__orphanReacHDCECRNtr_reverse', 'Metab__hdcecrn_e', 'Gene3466__orphanReacMETASNTYRr', 'ABCC1', 'parent_of_Metab__mlthf_e1', 'parent_of_Metab__sphmyln_hs_e1', 'parent_of_Metab__sphs1p_e1', 'parent_of_Metab__HMDB0000121_e1', 'Gene2782__orphanReac5MTAte_reverse', 'Gene2636__ACADVL_HADHA_HADHB', 'Metab__ttetddcoa_m', 'Metab__bamppald_c', 'parent_of_Metab__HMDB0000056_c1', 'TXN', 'ARNT', 'AHCYL1', 'SMAD7', 'MAP2K2', 'parent_of_SMAD3-1_____SMAD2-1', 'Metab__ksi_deg20_l', 'parent_of_Metab__ksi_deg21_l1_____Metab__HMDB0000143_l1', 'Metab__6thf_l', 'Gene9019__GGH', 'parent_of_Metab__M00049_c1', 'parent_of_Metab__HMDB0001043_r1', 'Gene451__ECHS1', 'Metab__HMDB0001052_m', 'Metab__trpprogly_c', 'Gene7395__orphanReacTRPPROGLYr_reverse', 'Metab__HMDB0000673_l', 'parent_of_Metab__HMDB0000673_c1', 'parent_of_Metab__HMDB0000673_r1', 'NCOA2', 'TCF7', 'IFNAR2', 'IRF9', 'Gene1327__GNS', 'Metab__hs_deg12_l', 'Metab__HMDB0000067_c', 'Gene9853__orphanReacCHOLESTTDe', 'NR1H2', 'SCARB1', 'HMGCR', 'parent_of_Metab__HMDB0000067_g1', 'Metab__HMDB0000535_e', 'Metab__leuktrD4_c', 'Gene971__orphanReacLEUKTRD4t_reverse', 'Gene9174__orphanReacLEUKTRD4tr', 'Gene9776__GGT7_reverse', 'Metab__HMDB0000240_m', 'Gene1549__SUOX', 'parent_of_Metab__HMDB0000240_c1', 'Metab__HMDB0000751_e', 'Metab__HMDB0000211_c', 'parent_of_Metab__pail_hs_c1', 'Gene9898__orphanReacr1457', 'Metab__HMDB0001551_c', 'Gene9485__orphanReacS3TASE1ly_reverse', 'Gene1327__GNS_reverse', 'Gene9497__GNS_reverse', 'Gene1318__GNS_reverse', 'Gene1326__GNS_reverse', 'Gene9494__CTSA_GLB1_GALNS_NEU1_reverse', 'Gene1322__GNS_reverse', 'Gene1329__CTSA_GLB1_GALNS_NEU1_reverse', 'Gene1320__GNS_reverse', 'Gene9498__GNS_reverse', 'Gene1330__CTSA_GLB1_GALNS_NEU1_reverse', 'Gene1297__orphanReacS3TASE3ly_reverse', 'Gene9499__GNS_reverse', 'Gene9486__orphanReacS3TASE2ly_reverse', 'parent_of_Metab__HMDB0001448_c1', 'parent_of_Metab__ksii_core2_deg1_l1', 'parent_of_Metab__cs_d_deg4_l1', 'parent_of_Metab__cs_c_l1', 'parent_of_Metab__ksi_deg6_l1', 'Metab__cs_e_pre5b_g', 'ARHGAP1', 'Metab__M00003_r', 'parent_of_Metab__M00004_r1', 'Metab__proleuarg_c', 'parent_of_Metab__HMDB0000162_c1_____Metab__HMDB0000517_c1_____Metab__HMDB0000687_c1', 'Gene3550__orphanReacTRPTHRILEr', 'Gene298__orphanReacCSPG_Atly', 'Metab__cspg_a_l', 'Metab__asphispro_c', 'Gene3469__orphanReacASPHISPROr', 'Gene3506__orphanReacPROPHEr', 'Metab__tetpent3_r', 'parent_of_Metab__tetpent3coa_r1', 'Metab__HMDB0001167_c', 'parent_of_Metab__HMDB0062624_c1', 'parent_of_Metab__HMDB0006458_c1', 'parent_of_Metab__HMDB0006961_c1', 'Gene9699__ALAS1_reverse', 'Metab__HMDB0000123_m', 'Metab__hs_deg10_l', 'RAD9A', 'KMT5A', 'EIF3I', 'EEF1A1', 'Metab__HMDB0005065_r', 'parent_of_Metab__HMDB0001322_r1', 'Metab__HMDB0000051_e', 'Gene1612__orphanReacr0571_reverse', 'Metab__HMDB0002310_m', 'parent_of_NR3C11', 'Gene95__ACOX1', 'Metab__HMDB0003945_x', 'parent_of_EGFR-1', 'Metab__HMDB0001201_c', 'Gene1482__CMPK1_reverse', 'Gene9008__orphanReacGDPtg', 'parent_of_Metab__HMDB0001163_c1', 'parent_of_Metab__HMDB0001273_c1', 'Metab__M00127_r', 'Gene10365__ACADVL_HADHA_HADHB', 'parent_of_EGFR1', 'Gene2327__ACOX1', 'Metab__lysglnphe_c', 'Gene7313__orphanReacLYSGLNPHEr', 'Metab__HMDB0000742_c', 'Gene3616__orphanReacHCYSte_reverse', 'Gene1026__MTR', 'parent_of_Metab__HMDB0000939_c1', 'Gene7103__orphanReacCYSGLUHISr', 'Gene6697__orphanReacAMETt', 'Metab__HMDB0001185_e', 'Gene8155__LIPA', 'Metab__pgp_hs_c', 'Metab__HMDB0003229_m', 'Gene2838__orphanReacFUMtr_reverse', 'Metab__HMDB0000134_e', 'Gene5394__orphanReacCRVSM22itr_reverse', 'Metab__crvsm22_r', 'Gene3518__orphanReacPMTCRNtr_reverse', 'Gene5735__orphanReacCOQ5m', 'Metab__2dp6mobq_me_m', 'Metab__HMDB0000939_m', 'Metab__glyvalhis_c', 'Gene3424__orphanReacGLYVALHISr', 'Gene5812__orphanReacDGK2m_reverse', 'NCKAP1', 'Metab__HMDB0060176_c', 'Gene9532__MDH1', 'Gene3548__orphanReacTRPPROVALr_reverse', 'Metab__trpproval_c', 'Gene6342__ACOX1', 'Metab__CE2441_x', 'Metab__hexdectecoa_m', 'Gene7142__orphanReacLNELDCCRNtr_reverse', 'Metab__lneldccrn_e', 'LIF', 'IL6ST', 'Gene7993__SPHK1', 'Gene9561__SUCLG1_SUCLG2_reverse', 'parent_of_Metab__HMDB0001149_m1', 'parent_of_Metab__HC01496_m1', 'Metab__HMDB0001031_c', 'Gene3754__PGM2_reverse', 'Gene5895__DERA', 'Gene7312__orphanReacLYSARGLEUr', 'Gene9873__LIPA', 'Metab__HMDB0001043_r', 'Gene3491__orphanReacGLNASNGLNr_reverse', 'Metab__glnasngln_c', 'TGFB1', 'APP', 'PPP2R2A', 'PGD', 'RAPGEF1', 'TGFB1I1', 'CDK5', 'ARHGAP32', 'ARHGAP33', 'RRAS', 'ACP1', 'PTPRF', 'Metab__HMDB0002212_r', 'Gene7321__PNP', 'Metab__HMDB0001351_c', 'Metab__HMDB0000034_c', 'PTPRJ', 'parent_of_MYC1', 'PIDD1', 'CRADD', 'Metab__HMDB0000139_e', 'parent_of_Metab__HMDB0000139_c1', 'Metab__HMDB0001508_m', 'parent_of_Metab__HMDB0001532_m1', 'Metab__HMDB0060220_x', 'parent_of_Metab__adrncoa_x1', 'Gene7298__orphanReacILEASPr_reverse', 'Gene3443__orphanReacILETRPTYRr_reverse', 'Gene7393__orphanReacTRPILELYSr_reverse', 'Gene7315__orphanReacLYSPHEILEr_reverse', 'Gene3501__orphanReacGLUILELYSr_reverse', 'Gene3541__orphanReacTRPILETRPr_reverse', 'Gene3442__orphanReacILEPROLYSr_reverse', 'Gene3434__orphanReacHISLYSILEr_reverse', 'Gene7332__orphanReacMETMETILEr_reverse', 'Gene941__orphanReacILEtmi_reverse', 'Gene7299__orphanReacILESERARGr_reverse', 'Gene7316__orphanReacLYSTYRILEr_reverse', 'parent_of_Metab__HMDB0000172_e1', 'Metab__HMDB0000707_e', 'Gene2776__orphanReac34HPPte', 'Metab__pail3p_hs_c', 'Gene3435__orphanReacHISLYSTHRr', 'Gene8399__LIPA', 'Metab__10fthf7glu_l', 'Gene803__GGH', 'ATF4', 'Gene3771__RPE', 'Metab__HMDB0000868_c', 'GOLGA3', 'TRAF2', 'IREB2', 'parent_of_Metab__HMDB0000094_c1', 'Metab__HMDB0062214_m', 'parent_of_Metab__HMDB0001197_m1_____Metab__CE5150_m1', 'parent_of_Metab__M01777_m1', 'Metab__HMDB0002092_m', 'Gene9162__SUCLG1_SUCLG2', 'parent_of_Metab__HMDB0003377_m1', 'Gene9846__orphanReacr1018_reverse', 'Metab__HMDB0006292_r', 'CDK9', 'RCHY1', 'Metab__M00790_m', 'parent_of_Metab__M00887_m1', 'Metab__HMDB0000645_c', 'Gene7374__GALT', 'parent_of_Metab__HMDB0000302_c1', 'Gene7345__ALDOA', 'Metab__7thf_c', 'Gene5501__orphanReac7THFtl', 'Gene2822__orphanReacGUDACtr2_reverse', 'Metab__HMDB0000019_e', 'MET', 'Metab__HMDB0062708_c', 'Gene1199__GOT2_reverse', 'Metab__HMDB0000159_m', 'Gene1319__GNS', 'Metab__ksi_deg22_l', 'Metab__thrphearg_c', 'Metab__ksi_deg32_l', 'parent_of_Metab__ksi_deg33_l1_____Metab__HMDB0000143_l1', 'PPME1', 'Gene7093__orphanReacASNMETPROr_reverse', 'Metab__asnmetpro_c', 'Metab__HMDB0000286_c', 'Gene3680__UGP2_reverse', 'parent_of_Metab__HMDB0000935_c1', 'parent_of_Metab__HMDB0000286_r1', 'Gene3440__orphanReacILEGLNGLUr', 'Metab__HMDB0000056_c', 'Gene5660__orphanReacBALAtmr', 'EGR1', 'NFAT5', 'Metab__hs_deg11_l', 'DDX5', 'Metab__pail5p_hs_n', 'Metab__HMDB0006210_c', 'parent_of_Metab__HMDB0006210_m1', 'parent_of_Metab__hpdcacoa_c1', 'parent_of_Metab__HMDB0001070_m1_____Metab__HMDB0001197_m1', 'parent_of_Metab__HMDB0062368_m1', 'parent_of_Metab__HMDB0003948_m1', 'parent_of_Metab__HMDB0003948_m1_____Metab__HMDB0001197_m1', 'Gene3494__orphanReacPROHISr_reverse', 'Metab__prohis_c', 'Metab__trpphe_c', 'Gene3546__orphanReacTRPPHEr', 'ATAD5', 'BRD4', 'Gene8402__LIPA', 'Metab__tettet6_r', 'Gene3502__orphanReacGLULEUr', 'Metab__CE5155_r', 'Gene7294__orphanReacHISMETr_reverse', 'Metab__hismet_c', 'Metab__HMDB0001274_n', 'parent_of_Metab__HMDB0001274_c1', 'parent_of_Metab__HMDB0001342_n1', 'parent_of_Metab__HMDB0001342_n1_____Metab__HMDB0001508_n1', 'Gene1067__HEXA', 'Metab__HMDB0001484_c', 'parent_of_Metab__HMDB0001274_m1', 'FEN1', 'Gene7364__orphanReacSERARGTRPr_reverse', 'Metab__serargtrp_c', 'Metab__HMDB0000972_l', 'parent_of_Metab__HMDB0000972_c1', 'Metab__arachdcrn_r', 'Metab__10fthf6glu_l', 'Metab__HMDB0000148_l', 'Metab__HMDB0006210_m', 'parent_of_Metab__hpdcacoa_m1', 'parent_of_Metab__HMDB0006210_c1', 'Metab__HMDB0003231_e', 'parent_of_Metab__HMDB0003231_c1', 'ATR', 'CCAR2', 'DBF4', 'KMT2A', 'RAD1', 'Metab__HMDB0001248_x', 'Gene2324__ACOX1', 'Gene6221__ACOX1', 'parent_of_Metab__HMDB0001248_c1', 'Metab__HMDB0002070_m', 'parent_of_SQSTM11', 'Gene5773__CMPK1', 'Gene7376__DCTD', 'parent_of_Metab__HMDB0001202_m1', 'DAPK3', 'BECN1', 'ATG9A', 'Metab__HMDB0000121_c', 'Gene9254__HEXA', 'Metab__progly_c', 'Metab__HMDB0000092_c', 'Gene388__orphanReacDMGtm', 'Gene2831__orphanReacDMGLYtr_reverse', 'Gene4769__PDPR_reverse', 'parent_of_Metab__crm_hs_c1', 'CDC20', 'Metab__M01479_r', 'Metab__gluilelys_c', 'Gene3501__orphanReacGLUILELYSr', 'PPP1CB', 'Gene1484__CMPK1_reverse', 'Metab__HMDB0001532_c', 'KEAP1', 'G3BP1', 'HMOX2', 'MAX', 'PTGES3', 'PIN4', 'NOL3', 'ARRB2', 'DAXX', 'GPI', 'EIF5', 'TELO2', 'MAPK9', 'STX1A', 'SET', 'SEC63', 'CCNF', 'BRMS1', 'YY1', 'HSP90AB1', 'HOXB7', 'parent_of_RUNX1-1', 'parent_of_EIF2S21', 'Gene5432__orphanReac10FTHF5GLUtl', 'Metab__10fthf5glu_l', 'Metab__M01197_c', 'parent_of_Metab__M01191_c1', 'Metab__M01724_c', 'parent_of_Metab__HMDB0012930_c1', 'Gene7310__orphanReacLEUTRPARGr', 'Metab__HMDB0000687_e', 'parent_of_Metab__HMDB0000687_c1', 'Metab__HMDB0000156_c', 'Gene2810__orphanReacMALt_reverse', 'parent_of_Metab__HMDB0000134_c1', 'Gene3423__orphanReacGLYTYRLYSr', 'Gene3997__orphanReacVANILLACc', 'Metab__vanillac_c', 'RBX1', 'parent_of_Metab__HMDB0004258_x1', 'parent_of_Metab__HMDB0003125_x1', 'parent_of_Metab__ttccoa_c1', 'Gene3498__orphanReacGLNLYSTRPr_reverse', 'Metab__glnlystrp_c', 'Metab__ileargile_c', 'TRIP11', 'Metab__M01454_r', 'Metab__HMDB0001546_c', 'Metab__HMDB0000960_c', 'Metab__HMDB0062576_c', 'CDH2', 'Metab__hexccoa_r', 'Metab__M01473_r', 'Gene8398__LIPA', 'Gene3533__orphanReacHXAt3', 'Metab__hepcoa_m', 'Gene6562__ACADM_ECHS1_HADH_ACAA2', 'Metab__M01466_r', 'Gene4730__LIPA', 'Gene7700__PPAT', 'parent_of_Metab__HMDB0001132_c1', 'Metab__HMDB0000149_e', 'Gene3603__orphanReacETHAt', 'Metab__thexddcoa_m', 'parent_of_Metab__M00006_r1', 'Metab__iletrptyr_c', 'Metab__strdnccoa_r', 'Gene1732__orphanReacr1162', 'Metab__HMDB0001448_e', 'Gene6793__orphanReacHC02149td', 'Metab__HMDB0000824_e', 'Metab__hpdcacoa_m', 'Gene2557__ACADVL_HADHA_HADHB', 'parent_of_Metab__HMDB0001197_m1_____Metab__M00046_m1', 'Metab__M01467_r', 'parent_of_Metab__ksi_deg23_l1_____Metab__HMDB0000215_l1', 'Metab__M00897_m', 'parent_of_Metab__HMDB0013109_m1', 'Metab__HMDB0000759_c', 'Gene7390__orphanReacTRPGLYLEUr', 'parent_of_Metab__HMDB0000123_c1_____Metab__HMDB0000687_c1', 'Metab__mettrpphe_c', 'Gene7333__orphanReacMETTRPPHEr', 'Gene3556__orphanReacTYRALAr_reverse', 'Metab__tyrala_c', 'Gene3503__orphanReacGLUMETr', 'INCENP', 'Metab__HMDB0000220_x', 'Metab__HMDB0000797_c', 'Gene114__ADSL', 'Metab__HMDB0000128_c', 'Metab__HMDB0062755_c', 'Gene6759__orphanReacXMPtr_reverse', 'Gene7572__GMPS', 'Metab__M00044_m', 'parent_of_Metab__M00778_m1', 'Metab__HMDB0000092_m', 'Gene1662__SGPL1', 'Metab__HC02228_c', 'Metab__HMDB0000990_e', 'Gene1037__orphanReacMI1P_Dtn', 'parent_of_Metab__HMDB0000211_c1', 'Metab__HMDB0000064_e', 'parent_of_Metab__HMDB0000064_c1', 'Gene9253__HEXA', 'Metab__pail34p_hs_c', 'Gene9877__orphanReacr1299', 'Metab__HMDB0003073_l', 'Metab__HMDB0006529_m', 'parent_of_Metab__HMDB0006464_m1', 'parent_of_Metab__HMDB0012715_m1', 'Metab__6dhf_c', 'Gene5494__orphanReac6DHFtl', 'Gene3493__orphanReacGLNLYSLYSr_reverse', 'Gene7328__TKT', 'parent_of_Metab__HMDB0001068_c1_____Metab__HMDB0001112_c1', 'parent_of_Metab__HMDB0000618_c1', 'Metab__ksii_core4_pre10_g', 'RNF111', 'Metab__HMDB0000195_e', 'Metab__HMDB0003571_m', 'parent_of_Metab__HMDB0011689_m1_____Metab__HMDB0001197_m1', 'parent_of_Metab__HMDB0002250_m1', 'Metab__trpglyval_c', 'Gene2780__orphanReac3MOPt_reverse', 'Metab__HMDB0001072_m', 'parent_of_Metab__HMDB0003945_m1', 'parent_of_Metab__hx2coa_m1', 'parent_of_Metab__HMDB0000226_c1', 'parent_of_Metab__HC01412_m1', 'parent_of_Metab__HC01415_m1', 'parent_of_Metab__HMDB0001248_m1', 'Metab__histrphis_c', 'PKMYT1', 'MAPK8IP3', 'ENO1', 'GIT1', 'PIP5K1C', 'TRIP6', 'SH3GLB1', 'SPRY2', 'AP2B1', 'EFNB1', 'DUT', 'Gene10538__orphanReacACtp', 'Gene5554__orphanReacACtg', 'parent_of_Metab__HMDB0011745_c1', 'parent_of_Metab__aclys_c1', 'SSH1', 'MAPK6', 'Gene3748__ACSS2', 'Metab__M01191_c', 'parent_of_Metab__M01197_c1', 'Metab__HMDB0001383_c', 'Gene9540__orphanReacSPH1Pte', 'Gene1358__orphanReacSPH1Pter', 'parent_of_Metab__HMDB0000269_c1', 'Metab__M00967_c', 'Gene8188__MSMO1', 'Gene5695__orphanReacCBPter_reverse', 'MAPK12', 'Metab__HMDB0000149_c', 'Gene3603__orphanReacETHAt_reverse', 'parent_of_Metab__HMDB0000224_c1', 'CAMKK2', 'Metab__serlyshis_c', 'Metab__M01468_r', 'Gene4728__LIPA', 'Metab__CE0713_x', 'Gene6239__ACAA1', 'Gene6761__orphanReacUDPGLCURtr_reverse', 'Metab__HMDB0000935_e', 'HTT', 'PGAM1', 'ARHGEF7', 'PGM1', 'NF2', 'Metab__crvsm22_c', 'Gene3095__orphanReacGALTt', 'Metab__HMDB0000107_e', 'parent_of_Metab__HMDB0001448_l1', 'Gene7793__B4GALNT1', 'Metab__ksi_deg41_l', 'parent_of_Metab__HMDB0000215_l1', 'Metab__HMDB0000215_c', 'parent_of_Metab__HMDB0002817_c1', 'parent_of_Metab__HMDB0000215_r1', 'ACTN1', 'parent_of_VASP1', 'Metab__M00843_m', 'parent_of_Metab__vacccoa_m1', 'Gene562000002__SLC25A15', 'Metab__HMDB0000517_m', 'Metab__HMDB0000052_c', 'Gene3809__ASL', 'Metab__arghisthr_c', 'Gene7065__orphanReacARGHISTHRr', 'Metab__5tedtricoa_m', 'Gene2627__ACADVL_HADHA_HADHB', 'parent_of_Metab__HMDB0000972_l1', 'SETDB1', 'Gene3485__orphanReacCYSSERMETr', 'Metab__HC00250_c', 'Gene1695__orphanReacr0940', 'parent_of_Metab__HMDB0000574_c1', 'Metab__ttccoa_c', 'Gene10289__ACOT1', 'parent_of_Metab__HMDB0062371_c1', 'Metab__HMDB0006528_c', 'Gene263__orphanReacCLPNDt_reverse', 'Gene6340__ECI2', 'Metab__CE2433_x', 'Metab__HMDB0000939_e', 'Gene7536__ALDOA_reverse', 'Gene6746__orphanReacDHAPtr_reverse', 'Gene4834__ALDOA_reverse', 'parent_of_Metab__HC00361_c1', 'parent_of_Metab__fdp_c1', 'Metab__HMDB0000226_e', 'Gene3472__orphanReacASPPROLYSr', 'Metab__cs_d_deg2_l', 'Gene9481__orphanReacS2TASE4ly', 'Metab__HMDB0000224_e', 'Metab__M00019_r', 'parent_of_Metab__M00020_r1', 'Gene7372__orphanReacTRPARGALAr_reverse', 'Metab__trpargala_c', 'Gene2616__ACADVL_HADHA_HADHB', 'Metab__undcoa_m', 'Gene6254__PLD2', 'Metab__pa_hs_c', 'Metab__HMDB0000067_e', 'parent_of_Metab__xolest2_hs_e1', 'parent_of_Metab__xolest183_hs_e1', 'Metab__M00875_m', 'parent_of_Metab__ptdcacoa_m1', 'Metab__trpglyleu_c', 'Gene7390__orphanReacTRPGLYLEUr_reverse', 'Metab__leuleutrp_c', 'Metab__HMDB0001322_x', 'Metab__ksi_deg4_l', 'Gene3557__orphanReacTYRARGSERr_reverse', 'Gene3549__orphanReacTRPSERTYRr_reverse', 'Gene7365__orphanReacSERPHELYSr_reverse', 'Gene7287__orphanReacHISARGSERr_reverse', 'Gene3488__orphanReacPHESERTRPr_reverse', 'Gene7061__orphanReacARGCYSSERr_reverse', 'Gene7363__orphanReacSERARGALAr_reverse', 'Gene7432__orphanReacVALSERARGr_reverse', 'Gene7548__SHMT1', 'Gene3523__orphanReacSERTRPHISr_reverse', 'Gene9439__PTDSS1', 'Gene9440__PTDSS2', 'Gene3458__orphanReacLEUSERTRPr_reverse', 'Gene3485__orphanReacCYSSERMETr_reverse', 'Gene3520__orphanReacSERCYSARGr_reverse', 'Gene1766__orphanReacr1435', 'Gene3522__orphanReacSERLYSHISr_reverse', 'parent_of_Metab__HMDB0000187_e1', 'Gene709__FPGS', 'Metab__ksii_core4_e', 'Gene9166__orphanReacKSII_CORE4tly', 'parent_of_Metab__HMDB0001521_r1', 'Gene7288__orphanReacHISASPr', 'Metab__HMDB0000285_c', 'Gene1682__orphanReacr0892', 'parent_of_Metab__HMDB0000082_c1', 'parent_of_Metab__HMDB0000304_c1', 'Metab__ksii_core4_g', 'Gene956__orphanReacKSII_CORE4t', 'parent_of_Metab__ksi_deg26_l1_____Metab__HMDB0000215_l1', 'Metab__HMDB0000222_x', 'Metab__CE2243_m', 'parent_of_Metab__CE2247_m1', 'Metab__HMDB0000244_c', 'parent_of_Metab__HMDB0000244_e1', 'Metab__13dmt_e', 'parent_of_Metab__13dmt_c1', 'Metab__leuasplys_c', 'Metab__Tn_antigen_g', 'Gene274__GCNT1', 'Metab__HMDB0002013_x', 'Metab__HMDB0060292_m', 'Metab__HMDB0000257_m', 'Metab__HMDB0001000_c', 'parent_of_Metab__HMDB0001000_m1', 'parent_of_Metab__HMDB0001191_c1', 'G3BP2', 'SF1', 'DUSP1', 'Metab__HMDB0000296_n', 'MAP3K11', 'parent_of_PAK11', 'Gene813__GUSB', 'Metab__cs_e_deg4_l', 'Metab__HMDB0001070_m', 'Gene2608__ACADM_ECHS1_HADH_ACAA2', 'parent_of_Metab__HMDB0001197_m1_____Metab__HC01415_m1', 'parent_of_Metab__HMDB0003939_m1', 'Gene80__PGM3', 'Metab__HMDB0001367_c', 'RARG', 'BCL3', 'Gene4213__orphanReacNH4tr', 'Metab__HMDB0000051_r', 'Metab__hs_deg6_l', 'Gene7356__orphanReacPHETYRGLNr', 'Metab__HMDB0000167_m', 'Gene3426__orphanReacHISGLUGLNr_reverse', 'Metab__hisglugln_c', 'Metab__CE5118_m', 'parent_of_Metab__CE5117_m1', 'parent_of_Metab__CE5119_m1', 'Metab__c6crn_c', 'Metab__HMDB0060180_e', 'Gene5105__orphanReacCRVSM31hc', 'Metab__crvsm31_r', 'Metab__HMDB0000939_r', 'Gene7430__orphanReacVALLYSTYRr_reverse', 'Metab__vallystyr_c', 'Metab__HMDB0000193_m', 'parent_of_Metab__HMDB0003974_m1', 'parent_of_Metab__HMDB0000208_m1', 'parent_of_Metab__HMDB0000072_m1', 'ADAM10', 'PINK1', 'Gene3636__GOT1', 'Metab__HMDB0000223_c', 'Gene1554__ITPA', 'Metab__HMDB0000288_e', 'Gene7401__orphanReacTYRALAPHEr_reverse', 'Metab__tyralaphe_c', 'Gene3300002__orphanReac3MOPt2im', 'Metab__HMDB0000491_m', 'Metab__stcrn_m', 'parent_of_Metab__stcrn_c1', 'parent_of_Metab__HMDB0001114_m1', 'Metab__HMDB0000095_r', 'Gene3755__PNP', 'Metab__HMDB0001489_c', 'NBR1', 'SQSTM1', 'Metab__HMDB0000944_c', 'Gene2540__orphanReacDOCOSACTDr', 'Gene2539__orphanReacDOCOSACTDe_reverse', 'Metab__HMDB0000707_c', 'Gene2251__ACOX1_reverse', 'Metab__mlthf_m', 'parent_of_Metab__HMDB0000187_m1_____Metab__HMDB0001846_m1', 'parent_of_Metab__HMDB0062623_m1', 'Metab__arachdcrn_c', 'Gene1712__orphanReacr1007_reverse', 'parent_of_Metab__HMDB0006523_c1', 'parent_of_Metab__arachdcrn_m1', 'Metab__HMDB0000158_e', 'parent_of_Metab__HMDB0000158_c1', 'Gene3764__PNP', 'Gene6760__orphanReacXTSNtr_reverse', 'Metab__aspglupro_c', 'Gene3462__orphanReacASPGLUPROr', 'Metab__c226coa_m', 'Gene3489__orphanReacPROARGCYSr_reverse', 'Metab__M01165_m', 'Metab__M00018_r', 'Metab__leusertrp_c', 'Gene7057__orphanReacALALYSTHRr', 'Metab__M01497_r', 'Metab__hisprolys_c', 'Gene7296__orphanReacHISPROLYSr', 'Metab__ps_hs_c', 'Gene9441__orphanReacPSt3_reverse', 'parent_of_Metab__pe_hs_c1', 'parent_of_Metab__HMDB0000187_c1', 'Metab__cspg_e_l', 'Metab__phethrlys_c', 'Metab__cspg_e_g', 'Metab__M00020_m', 'Gene1680__orphanReacr0870_reverse', 'Metab__HMDB0001248_e', 'Gene9246__HEXA', 'Metab__3docopencoa_m', 'parent_of_Metab__HMDB0001375_c1', 'Gene2279__TST', 'parent_of_Metab__HMDB0060292_c1', 'Metab__f1p_c', 'Gene4347__PLD2', 'Gene6248__PLD2', 'Gene1170__PLD2', 'parent_of_Metab__HMDB0000149_c1_____Metab__HC02051_c1', 'parent_of_Metab__HMDB0062585_m1', 'parent_of_Metab__HMDB0062752_m1', 'Metab__HMDB0001521_m', 'Gene2629__ACADVL_HADHA_HADHB', 'parent_of_Metab__HC01412_m1_____Metab__HMDB0001197_m1', 'Metab__thrhishis_c', 'parent_of_Metab__HMDB0000167_c1', 'Gene2785__orphanReacANTHte', 'Metab__HMDB0060188_r', 'parent_of_BECN11', 'Gene3480__orphanReacCYSASPPHEr', 'Gene7297__orphanReacILEASNHISr', 'Metab__asnphecys_c', 'Gene7095__orphanReacASNPHECYSr', 'TP53BP1', 'PRC1', 'NSFL1C', 'UBXN2B', 'BUB1B', 'CDC7', 'HMGA2', 'SUN1', 'CSNK2B', 'BUB1', 'PIK3C2A', 'LBR', 'RAB1A', 'NME1', 'parent_of_VCP1', 'parent_of_PLK11', 'Gene805__GGH', 'Gene2767__DECR1', 'Metab__3hexdtetcoa_m', 'Metab__argalaala_c', 'Gene3432__orphanReacARGALAALAr_reverse', 'STUB1', 'Gene7293__orphanReacHISLYSGLUr', 'Metab__ksi_deg7_l', 'parent_of_Metab__ksi_deg8_l1', 'Metab__HC02022_r', 'Gene5498__orphanReac6THFtl', 'Metab__HMDB0001383_r', 'parent_of_Metab__HMDB0000269_r1', 'Gene5774__CMPK1_reverse', 'Metab__HMDB0001202_n', 'Gene8405__LIPA', 'Metab__M00021_r', 'Metab__HMDB0000089_m', 'Gene1618__PFKL', 'parent_of_Metab__HMDB0001473_c1_____Metab__HMDB0001051_c1', 'Metab__HMDB0003945_c', 'Gene890__orphanReacHDD2COAtx', 'Metab__udpacgal_c', 'Metab__HMDB0000935_c', 'Gene2230__orphanReacr2519', 'Metab__HMDB0001220_c', 'Gene1248__ABCC4', 'Gene7489__orphanReacPROSTGE2t2m_reverse', 'parent_of_Metab__HMDB0002752_c1', 'parent_of_Metab__HMDB0001220_r1', 'Gene7399__orphanReacTRPTYRTYRr_reverse', 'Metab__aclys_c', 'Gene6683__orphanReacACLYSt', 'parent_of_Metab__aclys_m1', 'Metab__M01476_r', 'Metab__HMDB0002159_x', 'Gene341__CPT2', 'Metab__HMDB0003947_m', 'Gene71__orphanReacACALDtr_reverse', 'Metab__HMDB0000990_r', 'Metab__HMDB0060292_e', 'Metab__HMDB0001198_c', 'Gene9776__GGT7', 'Metab__trpilelys_c', 'BCR', 'Metab__HMDB0000263_c', 'Gene2346__PKM', 'Gene5543__NANS', 'parent_of_Metab__HMDB0000263_m1', 'parent_of_Metab__HMDB0000362_c1', 'Metab__trpglyasp_c', 'Metab__pail34p_hs_n', 'parent_of_Metab__pail3p_hs_n1', 'Metab__HMDB0001273_c', 'GLUD1', 'parent_of_Metab__HMDB0000288_c1_____Metab__HMDB0001201_c1', 'parent_of_STX1A1', 'PAXIP1', 'parent_of_Metab__r5p_c1', 'parent_of_Metab__HMDB0000195_c1', 'Metab__dec47dicoa_m', 'Metab__lnlccrn_m', 'parent_of_Metab__lnlccrn_c1', 'Gene7422__orphanReacTYRASPARGr_reverse', 'Metab__HMDB0000288_r', 'Gene10490__GPT2_reverse', 'Metab__HMDB0001434_c', 'Gene1297__orphanReacS3TASE3ly', 'Metab__hs_deg24_l', 'Metab__sphmyln_hs_c', 'Gene1362__orphanReacSPHMYLNtg', 'Gene9542__orphanReacSPHMDAc', 'parent_of_Metab__crm_hs_c1_____Metab__HMDB0001565_c1', 'Metab__nrvnccoa_r', 'DHFR', 'Metab__HMDB0000123_x', 'Gene7394__orphanReacTRPMETVALr_reverse', 'Metab__trpmetval_c', 'HIPK1', 'Gene2394__ACOX1', 'Metab__HMDB0006889_x', 'Metab__dmnoncrn_m', 'Gene391__orphanReacC110CPT2m', 'parent_of_Metab__dmnoncrn_c1', 'AP2M1', 'Gene3100__orphanReacGLYCLTt_reverse', 'Metab__HMDB0000115_e', 'Metab__HMDB0000157_c', 'parent_of_Metab__HMDB0000071_c1', 'Metab__HMDB0001521_r', 'Metab__HC00250_e', 'Gene1695__orphanReacr0940_reverse', 'Metab__HMDB0062226_m', 'parent_of_Metab__HMDB0060216_m1', 'Metab__valserarg_c', 'parent_of_Metab__HMDB0001294_c1', 'SCD', 'parent_of_Metab__M00127_c1', 'parent_of_Metab__vacccoa_c1', 'parent_of_Metab__M00116_c1', 'parent_of_Metab__HMDB0006529_c1', 'Metab__hislysala_c', 'Gene7292__orphanReacHISLYSALAr', 'MAP3K2', 'Gene1102__orphanReacNH4tn', 'Metab__HMDB0000051_n', 'Metab__lystrparg_c', 'Metab__f1a_g', 'parent_of_Metab__f1a_l1', 'BAK1', 'Metab__stcrn_r', 'parent_of_Metab__HMDB0001114_r1', 'Gene7359__orphanReacPROASNCYSr', 'Metab__HMDB0001339_c', 'Gene6555__CPT1B', 'parent_of_Metab__HMDB0001339_m1', 'Metab__gt1b_hs_c', 'Gene2611__ACADM_ECHS1_HADH_ACAA2', 'Gene1551__orphanReacr0156', 'Gene6630__orphanReacMETTRANSc', 'Gene2346__PKM_reverse', 'parent_of_Gene25__OGDH_DLD_PDHX_DLST1_____Gene5580__OGDH_DLD_PDHX_DLST1', 'Metab__c226coa_x', 'parent_of_Metab__tmndnccoa_x1', 'STK39', 'SLC12A2', 'Gene8457__orphanReac3MEACMPhc', 'Metab__3meacmp_c', 'Gene1584__PFKL_reverse', 'Metab__HMDB0001068_c', 'Gene3763__PNP', 'Gene7311__orphanReacLEUVALr_reverse', 'Metab__leuval_c', 'Metab__eicostetcoa_c', 'parent_of_Metab__tmndnccoa_c1', 'parent_of_Metab__eicostetcrn_c1', 'parent_of_Metab__HMDB0002177_c1', 'Metab__thrglnglu_c', 'Gene7367__orphanReacTHRGLNGLUr', 'Metab__ctdecdcoa_m', 'parent_of_Metab__dece3coa_m1', 'parent_of_Metab__HMDB0001220_c1', 'Gene1472__B4GALT2', 'Gene189__orphanReacB3GALTg', 'parent_of_Metab__ksii_core4_pre10_g1', 'parent_of_Metab__ksii_core2_pre10_g1', 'Metab__hexddcoa_m', 'Gene10364__ACADVL_HADHA_HADHB', 'parent_of_Metab__HMDB0000883_c1', 'PTPN2', 'FBXW7', 'Gene7058__orphanReacARGALAPHEr', 'Metab__M03153_r', 'parent_of_Metab__M02112_r1', 'CENPE', 'Gene4758__LIPA', 'Metab__fvs_e', 'parent_of_Metab__fvs_c1', 'Metab__sertrphis_c', 'Gene3523__orphanReacSERTRPHISr', 'Gene5769__CMPK1_reverse', 'Metab__HMDB0001257_c', 'parent_of_Metab__HMDB0001256_c1_____Metab__HMDB0001173_c1', 'Metab__HMDB0000660_c', 'Gene714__SLC2A8_reverse', 'parent_of_Metab__HMDB0003971_c1_____Metab__HMDB0001508_c1', 'PI4K2A', 'Gene10490__GPT2', 'Metab__M01496_r', 'Metab__HMDB0000095_g', 'Metab__gt1b_hs_g', 'parent_of_Metab__HMDB0000023_m1', 'Gene2852__orphanReac3PGtr_reverse', 'Metab__hexccoa_x', 'parent_of_Metab__ttccoa_x1_____Metab__HMDB0003125_x1', 'Metab__HMDB0000904_c', 'parent_of_Metab__HMDB0000904_m1', 'Metab__HMDB0001564_c', 'Gene3460__orphanReacLYSCYSHISr_reverse', 'Gene3454__orphanReacARGVALCYSr_reverse', 'Gene3480__orphanReacCYSASPPHEr_reverse', 'Gene3490__orphanReacCYSTYRASNr_reverse', 'Gene3468__orphanReacASPHISCYSr_reverse', 'Gene3483__orphanReacCYSGLUTRPr_reverse', 'Gene7102__orphanReacCYSGLNMETr_reverse', 'Gene3474__orphanReacCYSASNMETr_reverse', 'Gene5761__GOT1', 'Gene7095__orphanReacASNPHECYSr_reverse', 'Gene1767__orphanReacr1437', 'Gene7360__orphanReacPROCYSr_reverse', 'Gene3422__orphanReacALAARGCYSr_reverse', 'Gene7103__orphanReacCYSGLUHISr_reverse', 'parent_of_Metab__HMDB0000574_e1', 'parent_of_Metab__HMDB0000731_c1', 'Gene9176__orphanReacLEUt5m', 'Metab__HMDB0000687_m', 'Metab__7klitchol_c', 'Gene7041__orphanReacHC02194c', 'Metab__HMDB0028929_c', 'Metab__ksi_deg27_l', 'Metab__2dp6mep_m', 'Gene4776__COQ6', 'CTSL', 'Metab__pheleu_c', 'parent_of_Metab__CE0713_x1', 'SUV39H1', 'USP10', 'Metab__galgluside_hs_c', 'Gene8983__orphanReacGALGLUSIDEtg', 'TRIO', 'ATG3', 'MAP1LC3B', 'Metab__pail_hs_e', 'Metab__HMDB0001383_e', 'Metab__cs_e_deg7_l', 'parent_of_Metab__HMDB0000098_l1', 'HMGB1', 'Metab__tetdecdicoa_m', 'Gene2621__ACADVL_HADHA_HADHB', 'Metab__HMDB0028848_c', 'Gene7550__orphanReacGLYPHEHYc', 'Gene7391__orphanReacTRPGLYPHEr', 'Gene1397__SDHA_SDHD_SDHC_SDHB', 'Metab__HMDB0000134_m', 'Gene10368__DECR1', 'GNG12', 'Gene5003__orphanReac13DMThr', 'Metab__HMDB0001185_r', 'Metab__M03047_r', 'CTPS1', 'Metab__glyhisasn_c', 'Metab__tyrcysgly_c', 'Gene9389__orphanReacPEt_reverse', 'Metab__pe_hs_e', 'MAP3K3', 'Gene3464__orphanReacLYSTRPARGr_reverse', 'TRIM28', 'Metab__HMDB0000191_m', 'Metab__Rtotalcoa_c', 'Gene854__MBOAT2', 'parent_of_Metab__Rtotal_c1', 'Metab__HMDB0000573_c', 'Metab__HMDB0001316_c', 'Gene3449__orphanReacLEULEUTRPr_reverse', 'DVL3', 'CSNK1G1', 'Metab__pglyc_hs_m', 'parent_of_Metab__pglyc_hs_c1', 'parent_of_Metab__HMDB0000095_m1', 'Gene707__FPGS', 'MCM7', 'Metab__ksi_deg17_l', 'parent_of_Metab__ksi_deg18_l1_____Metab__HMDB0000143_l1', 'Gene9255__HEXA', 'Gene9497__GNS', 'Gene1674__orphanReacr0839_reverse', 'Metab__HMDB0000269_n', 'Gene5299__orphanReacPAPSitr_reverse', 'Metab__HMDB0001134_r', 'Metab__dcsptn1coa_x', 'parent_of_Metab__tmndnccoa_x1_____Metab__HMDB0003125_x1', 'parent_of_Metab__dcsptn1coa_c1', 'Metab__HMDB0000191_e', 'parent_of_Metab__HMDB0000191_c1', 'JUNB', 'Gene7309__orphanReacLEUTRPr_reverse', 'Metab__eicostetcrn_m', 'E2F6', 'Metab__HMDB0012930_c', 'Gene8005__CPT1B_reverse', 'CHKA', 'Gene4708__LIPA', 'Metab__lneldc_r', 'Metab__procys_c', 'Gene7360__orphanReacPROCYSr', 'Metab__HMDB0001409_m', 'Gene9367__orphanReacPA_HStg', 'Metab__pa_hs_g', 'Gene3502__orphanReacGLULEUr_reverse', 'Metab__gluleu_c', 'TAF1', 'Metab__HMDB0000092_e', 'Metab__HMDB0000208_x', 'Gene1201__PHYH', 'Metab__hisglylys_c', 'parent_of_Metab__HMDB0000123_c1_____Metab__HMDB0000182_c1_____Metab__HMDB0000177_c1', 'Metab__2docohexecoa_m', 'Metab__HC01412_m', 'parent_of_Metab__HMDB0001521_m1', 'RXRB', 'PPARD', 'NR2F2', 'parent_of_CDKN1A-1', 'EIF2AK4', 'FH', 'HERC2', 'Metab__gluside_hs_c', 'Gene793__GBA', 'parent_of_Metab__gluside_hs_e1', 'Gene1583__ALDOA', 'Metab__HMDB0001321_c', 'Metab__HMDB0001401_r', 'parent_of_Metab__HMDB0062628_r1', 'DNAJB1', 'parent_of_Metab__HMDB0003947_r1', 'Metab__CE5154_m', 'parent_of_Metab__CE5153_m1', 'Gene7650__AMDHD2', 'Metab__gam6p_c', 'Metab__argcysgly_c', 'Gene7060__orphanReacARGCYSGLYr', 'Metab__HMDB0001220_e', 'Gene1163__orphanReacPA_HSter', 'Gene3553__orphanReacPA_HStm', 'parent_of_Metab__cdpdag_hs_c1', 'Gene2580__ECHS1_HADH_ACAA2', 'Metab__trplys_c', 'Gene3543__orphanReacTRPLYSr', 'Gene8893__orphanReac31DMTitr_reverse', 'Metab__HC02026_r', 'Gene1740__LIPA', 'Metab__HMDB0000535_x', 'parent_of_Metab__HMDB0002845_x1', 'Metab__HMDB0000827_r', 'Metab__metglyarg_c', 'Metab__M01573_m', 'parent_of_Metab__M00885_m1', 'Gene9637__SLC29A3_reverse', 'Metab__HMDB0000296_l', 'Metab__pail_hs_c', 'Metab__HMDB0006523_r', 'Metab__sphs1p_r', 'parent_of_Metab__HMDB0000252_r1', 'Gene3471__orphanReacASPMETASPr_reverse', 'Metab__aspmetasp_c', 'Metab__HMDB0001149_c', 'Gene6675__orphanReac5AOPt', 'Metab__phyt2ohcoa_x', 'GADD45A', 'SCP2', 'parent_of_Metab__HMDB0000960_n1', 'parent_of_Metab__HMDB0001546_n1', 'parent_of_Metab__HMDB0001201_n1', 'parent_of_Metab__HMDB0001508_n1', 'Gene3477__orphanReacPHELEUHISr', 'Metab__tlacfvs_e', 'parent_of_Metab__tlacfvs_c1', 'TOPORS', 'Metab__ksi_deg8_l', 'parent_of_Metab__ksi_deg9_l1_____Metab__HMDB0000143_l1', 'SNTA1', 'DOCK7', 'Metab__asntyrgly_c', 'Gene7108__orphanReacGLNTYRLEUr_reverse', 'Gene7421__orphanReacTYRARGGLUr_reverse', 'Gene7355__orphanReacPHETYRr_reverse', 'Gene3559__orphanReacTYRGLUr_reverse', 'Gene3551__orphanReacTRPTYRGLNr_reverse', 'Gene7350__GOT1', 'Gene7329__orphanReacMETGLNTYRr_reverse', 'Gene7424__orphanReacTYRLEUARGr_reverse', 'Gene9855__orphanReacr1078', 'Gene3466__orphanReacMETASNTYRr_reverse', 'Gene7357__orphanReacPHETYRLYSr_reverse', 'Gene3496__orphanReacPROHISTYRr_reverse', 'parent_of_Metab__HMDB0000158_e1', 'Metab__HMDB0000998_c', 'parent_of_Metab__Rtotalcoa_c1', 'Metab__ksi_deg9_l', 'Gene1064__HEXA', 'Gene9495__GNS', 'Gene5397__orphanReacFVSitx', 'Metab__fvs_x', 'Metab__HMDB0000202_e', 'parent_of_Metab__HMDB0000202_c1', 'Metab__CE2434_x', 'Metab__c5dc_c', 'Metab__HMDB0000133_e', 'Gene9394__PTGES2_reverse', 'Metab__HMDB0001381_r', 'Metab__HMDB0006267_m', 'parent_of_Metab__clpndcrn_m1', 'Metab__HMDB0001484_x', 'parent_of_Metab__HMDB0062259_x1', 'parent_of_Metab__HMDB0001375_x1', 'Metab__aspvalasn_c', 'Gene3473__orphanReacASPVALASNr', 'Metab__HMDB0001448_m', 'Metab__HMDB0000060_e', 'parent_of_Metab__HMDB0000060_c1', 'Metab__HMDB0000168_m', 'Gene171__ASRGL1', 'Gene1459__GNE', 'Metab__HMDB0000269_e', 'Gene272__COQ7', 'SMARCA4', 'DDB1', 'Gene1328__CTSA_GLB1_GALNS_NEU1', 'Metab__cs_c_deg4_l', 'Metab__CE5253_c', 'Metab__M02638_c', 'Metab__7thf_l', 'Gene9022__GGH', 'Metab__aclys_e', 'Metab__r5p_c', 'parent_of_Metab__HMDB0062643_c1', 'parent_of_Metab__HMDB0001489_c1', 'parent_of_Metab__r5p_r1', 'Metab__HMDB0000749_m', 'Gene1020__SUCLG1_SUCLG2', 'parent_of_Metab__mescoa_m1', 'Gene100100002__SLC25A15', 'Metab__glylyscys_c', 'Metab__HMDB0000107_c', 'parent_of_Metab__HMDB0000143_c1', 'Gene7270__orphanReacGLYLYSCYSr', 'parent_of_Metab__HMDB0004258_r1', 'Metab__HMDB0011689_m', 'parent_of_Metab__HMDB0003571_m1', 'parent_of_Metab__dd3coa_m1', 'RRAS2', 'parent_of_BRAF1', 'ACAT1', 'PDK1', 'Gene7296__orphanReacHISPROLYSr_reverse', 'Metab__pa_hs_n', 'Gene3473__orphanReacASPVALASNr_reverse', 'Metab__HMDB0000121_e', 'Gene9099__orphanReacH2O2tly', 'Gene4481__PRDX6_reverse', 'G6PD', 'Gene5295__orphanReacH2O2ter', 'ACOX1', 'PARK7', 'Gene873__orphanReacH2O2t_reverse', 'Metab__HMDB0000161_e', 'parent_of_Metab__HMDB0000161_c1', 'Gene325__CMPK1_reverse', 'Metab__HMDB0000095_n', 'Metab__ksi_deg31_l', 'Metab__HMDB0000302_c', 'Gene3842__GALT_reverse', 'DGUOK', 'Gene5813__DGUOK', 'parent_of_Gene9058__GCLC_GCLM1', 'Gene9236__MTAP', 'Metab__6thf_c', 'parent_of_Metab__7thf_c1', 'Metab__HMDB0002329_e', 'PRKD2', 'Metab__cs_d_deg3_l', 'Metab__HMDB0000518_r', 'parent_of_Metab__HMDB0000518_c1', 'Metab__HMDB0000240_c', 'Metab__dmnoncoa_m', 'Metab__HMDB0000089_l', 'Metab__ksi_deg18_l', 'Gene5772__CMPK1', 'Metab__HMDB0000960_n', 'Metab__HC01496_m', 'Metab__xolest2_hs_c', 'SFPQ', 'NONO', 'Gene4720__LIPA', 'Gene7090__orphanReacARGTYRVALr', 'Metab__methislys_c', 'Gene7331__orphanReacMETHISLYSr', 'Metab__HMDB0001846_c', 'Gene7433__orphanReacVALTRPPHEr', 'Metab__HMDB0000050_m', 'RAP1A', 'Metab__HMDB0011123_m', 'parent_of_Metab__HMDB0003952_m1', 'parent_of_Metab__HMDB0012476_m1', 'Metab__M01463_r', 'Metab__HMDB0002054_c', 'parent_of_Metab__HMDB0002054_m1', 'Gene3444__orphanReacARGARGLYSr_reverse', 'Metab__argarglys_c', 'Gene7333__orphanReacMETTRPPHEr_reverse', 'Metab__HMDB0001311_c', 'Metab__Rtotal_g', 'Metab__M01477_r', 'Gene3469__orphanReacASPHISPROr_reverse', 'Metab__leuktrD4_e', 'Metab__argvalcys_c', 'Gene3462__orphanReacASPGLUPROr_reverse', 'parent_of_Metab__HMDB0000214_c1', 'Gene3531__orphanReacTHRMETARGr', 'Gene4152__orphanReacFDPte', 'Metab__fdp_e', 'Gene7319__PSAT1', 'Metab__HMDB0000272_c', 'Metab__HMDB0002183_l', 'Gene5912__orphanReacEICOSTETt_reverse', 'Metab__HMDB0002177_e', 'parent_of_Metab__HMDB0001565_c1', 'Gene3436__orphanReacHISLYSVALr', 'Metab__M01461_r', 'Gene6582__ACADVL_HADHA_HADHB', 'Metab__tddedicoa_m', 'Metab__HMDB0000187_e', 'Metab__cyssermet_c', 'Metab__HMDB0000014_m', 'Gene3542__orphanReacTRPLEUVALr_reverse', 'Metab__trpleuval_c', 'Metab__HMDB0013123_c', 'Gene344__orphanReacDCSPTN1t_reverse', 'Metab__asntyrthr_c', 'parent_of_Metab__HMDB0000263_c1', 'Metab__cspg_a_e', 'Metab__HMDB0001552_c', 'Metab__HMDB0000005_m', 'SOCS7', 'Gene6747__orphanReacICITtr_reverse', 'Metab__HMDB0000193_e', 'Metab__sphmyln_hs_g', 'Metab__HMDB0001413_r', 'Gene4441__MSMO1', 'Gene6198__ACADM', 'Metab__CE4807_m', 'Gene5797__orphanReacDDPGAm', 'Metab__HMDB0000131_e', 'Gene1622__GLA_reverse', 'parent_of_Metab__HMDB0000131_c1', 'Metab__HMDB0000067_g', 'Metab__docosahexcoa_m', 'Metab__HMDB0003536_n', 'parent_of_Metab__HMDB0003536_c1', 'parent_of_Metab__ditp_n1', 'Gene3525__orphanReacTHRGLNTYRr', 'Metab__leuktrD4_r', 'Metab__HMDB0000535_c', 'parent_of_Metab__HMDB0000535_m1', 'parent_of_Metab__HMDB0000535_x1', 'Gene3430__orphanReacALAGLYLYSr', 'Gene3542__orphanReacTRPLEUVALr', 'Gene1318__GNS', 'POLA1', 'Gene328__CMPK1_reverse', 'Metab__HMDB0001473_m', 'Gene7369__orphanReacTHRPHEARGr', 'Metab__HMDB0000218_c', 'Gene6769__orphanReacOROT5Ptr_reverse', 'BACH1', 'GLS', 'Metab__HMDB0000139_c', 'Gene6791__orphanReacGLYC_Rt', 'parent_of_Metab__HMDB0001051_c1', 'Gene300__orphanReacCSPG_Ctly', 'CCNE2', 'Gene7430__orphanReacVALLYSTYRr', 'Gene3451__orphanReacLEUPROr_reverse', 'Metab__leupro_c', 'Metab__5thf_c', 'Gene50__orphanReac5THFtl', 'parent_of_Metab__6thf_c1', 'Metab__HMDB0002329_m', 'Metab__HMDB0000300_c', 'Gene3754__PGM2', 'parent_of_Metab__HMDB0000101_c1', 'Metab__protrpthr_c', 'Gene3509__orphanReacPROTRPTHRr', 'Metab__HMDB0000806_c', 'TRADD', 'Metab__HMDB0002104_c', 'Gene3670__orphanReacG5SADs', 'parent_of_Metab__HMDB0002104_m1', 'Metab__HMDB0001342_c', 'Metab__M00129_c', 'parent_of_Metab__ttdcea_c1', 'parent_of_Metab__HMDB0005066_c1', 'Metab__cs_c_deg3_l', 'Metab__5dhf_m', 'Gene7295__orphanReacHISPHEARGr_reverse', 'Metab__ksi_deg30_l', 'Gene9498__GNS', 'Gene9256__HEXA', 'Gene7220__CAD', 'Metab__M00012_r', 'Metab__HMDB0000143_c', 'Gene7682__GALK1', 'parent_of_Metab__HMDB0000107_c1', 'parent_of_Metab__HMDB0000143_e1', 'Metab__10fthf5glu_m', 'parent_of_Metab__10fthf5glu_c1', 'Metab__HMDB0001565_n', 'Gene8996__GBA', 'Metab__HMDB0000122_l', 'Metab__lyspheile_c', 'Metab__HMDB0001201_g', 'Metab__HMDB0000220_r', 'Metab__HMDB0003229_l', 'RYK', 'Metab__ditp_n', 'parent_of_Metab__ditp_c1', 'parent_of_Metab__HMDB0003536_n1', 'Gene4732__LIPA', 'Metab__M00010_r', 'Gene8890__orphanReac15DMTitr_reverse', 'Metab__15dmt_r', 'Metab__ileprolys_c', 'Metab__HMDB0002823_r', 'parent_of_Metab__M00343_r1', 'Metab__HMDB0001149_m', 'Metab__Ndmelys_c', 'Metab__HMDB0000731_e', 'Metab__pa_hs_r', 'Metab__trpsertyr_c', 'CAST', 'Gene7064__orphanReacARGGLYGLYr_reverse', 'Gene7429__orphanReacVALHISASNr_reverse', 'Metab__valhisasn_c', 'Metab__HMDB0000285_e', 'parent_of_Metab__HMDB0000285_c1', 'Metab__2hexdtetcoa_m', 'Gene2725__HADHA_HADHB', 'Metab__HMDB0062259_x', 'Gene5907__ECH1', 'parent_of_Metab__HMDB0001484_x1', 'Gene6576__ACADM', 'BCL10', 'Gene5770__CMPK1_reverse', 'Gene5772__CMPK1_reverse', 'Gene1487__CMPK1_reverse', 'Metab__M02611_m', 'parent_of_Metab__M02612_m1', 'Metab__ptdcacoa_r', 'Metab__M01457_r', 'Metab__HMDB0002356_r', 'parent_of_Metab__hexccoa_r1', 'Gene5795__CPT2', 'Metab__dcsptn1coa_m', 'Metab__M01482_r', 'Gene2263__HSD17B4_reverse', 'Gene331__CMPK1_reverse', 'Gene5776__CMPK1_reverse', 'Gene329__CMPK1_reverse', 'Gene5775__CMPK1_reverse', 'Gene9627__CMPK1_reverse', 'Gene5780__CMPK1_reverse', 'parent_of_Metab__HMDB0000082_n1', 'Metab__HMDB0001508_c', 'Metab__2h3mv_e', 'Metab__HMDB0001056_m', 'Gene704__FPGS', 'parent_of_Metab__HMDB0001846_m1', 'Metab__CE4795_m', 'parent_of_Metab__CE5116_m1', 'Metab__HMDB0000097_c', 'Gene253__orphanReacCHOLtn', 'Gene5704__orphanReacCHLtm', 'Gene254__orphanReacCHOLtr_reverse', 'Gene5710__orphanReacCHOLtg_reverse', 'HK1', 'parent_of_Metab__HMDB0001508_c1_____Metab__man6p_c1', 'parent_of_Metab__gam6p_c1', 'parent_of_Metab__HMDB0001508_c1_____Metab__gam6p_c1', 'parent_of_Metab__man6p_c1', 'PIM1', 'Metab__arggluglu_c', 'Gene5659__HLCS', 'Metab__HMDB0000214_e', 'Metab__HMDB0000161_m', 'Gene5434__orphanReac10FTHF6GLUtl', 'Gene5568__orphanReacADRNt_reverse', 'Metab__HMDB0002226_e', 'Metab__argvaltrp_c', 'Gene7091__orphanReacARGVALTRPr', 'Metab__CE4799_m', 'parent_of_Metab__CE4800_m1', 'parent_of_Metab__HMDB0006404_c1', 'Gene3446__orphanReacARGLEUPHEr', 'parent_of_RAC11', 'TNIP2', 'Metab__HMDB0001114_r', 'Gene4651__CRAT_reverse', 'Metab__pristcoa_x', 'Gene1244__orphanReacPRISTCOAtx', 'parent_of_Metab__CE5126_x1', 'Gene3758__PNP', 'parent_of_Metab__hdcecrn_c1', 'Metab__phelysala_c', 'Gene3478__orphanReacPHELYSALAr', 'Metab__phsph1p_c', 'Metab__ksii_core2_g', 'Metab__HMDB0000008_e', 'Gene790__GART', 'Metab__HMDB0001308_c', 'Gene1066__HEXA', 'Metab__M00964_c', 'Metab__glntyrleu_c', 'Metab__HMDB0000946_c', 'Metab__glnhishis_c', 'parent_of_Metab__HMDB0006891_x1', 'Metab__HMDB0001275_m', 'parent_of_Metab__HMDB0001157_m1', 'parent_of_Metab__HMDB0000237_m1', 'parent_of_Metab__HMDB0000824_m1', 'parent_of_Metab__CE4796_m1', 'Metab__M01498_r', 'Gene122__PAICS', 'Metab__HMDB0006498_m', 'parent_of_Metab__HMDB0001338_m1', 'Metab__HMDB0000215_r', 'parent_of_Metab__HMDB0000215_c1', 'Metab__HMDB0006464_c', 'parent_of_Metab__HMDB0006464_e1', 'Metab__HMDB0000618_c', 'Gene7400__orphanReacTRPVALASPr_reverse', 'Metab__trpvalasp_c', 'Metab__M00129_m', 'Metab__tyrargglu_c', 'Metab__dlnlcgcrn_m', 'parent_of_Metab__dlnlcgcrn_c1', 'Gene2324__ACOX1_reverse', 'STEAP3', 'Gene9383__orphanReacPE_HSter', 'Metab__pe_hs_r', 'Metab__HMDB0001202_m', 'parent_of_Metab__HMDB0000014_m1', 'Metab__HMDB0001170_c', 'parent_of_Metab__HMDB0006841_c1', 'parent_of_Metab__HMDB0001170_e1', 'Gene5592__GPT2', 'Metab__2ddecdicoa_m', 'parent_of_Metab__dece4coa_m1', 'Gene3431__orphanReacALAHISALAr_reverse', 'Gene7111__orphanReacGLUTHRr', 'Metab__HMDB0001322_m', 'Metab__alaglylys_c', 'Metab__gluasnleu_c', 'Gene3499__orphanReacGLUASNLEUr', 'Gene3782__TKT_reverse', 'Gene3102__orphanReacHC00900t1_TRANSPORTER3_reverse', 'Metab__HMDB0000240_e', 'Metab__trpmetarg_c', 'Gene3544__orphanReacTRPMETARGr', 'Metab__fvs_c', 'parent_of_Metab__fvs_e1', 'parent_of_Metab__fvs_r1', 'Metab__thrargtyr_c', 'Gene8401__LIPA', 'Metab__aspasnglu_c', 'Gene7099__orphanReacASPASNGLUr', 'Metab__glysar_c', 'Gene6460__TPP1', 'Metab__M01474_r', 'Gene9384__orphanReacPE_HStm', 'Metab__pe_hs_m', 'Gene4757__LIPA', 'Metab__phetyr_c', 'Metab__CE2433_m', 'Metab__HMDB0062466_x', 'Metab__CE4808_m', 'Gene572900002__SLC35A1', 'Gene3622__orphanReacACNAMtr', 'Metab__CE0849_x', 'ASF1A', 'VHL', 'TTK', 'Metab__HMDB0000972_m', 'Gene708__FPGS', 'Gene1697__orphanReacSPMDtex2_reverse', 'Gene3538__orphanReacTRPALAPROr', 'Metab__CE2442_x', 'Gene6341__DECR2_reverse', 'Gene5394__orphanReacCRVSM22itr', 'Metab__HMDB0000142_r', 'parent_of_Metab__HMDB0000142_c1', 'Metab__HMDB0000189_n', 'parent_of_Metab__HMDB0003335_n1', 'parent_of_Metab__HMDB0000189_c1', 'MDH1', 'Gene9532__MDH1_reverse', 'parent_of_Metab__HMDB0001532_n1', 'parent_of_Metab__em2emgacpail_hs_r1_____Metab__dag_hs_r1', 'parent_of_Metab__em3gacpail_hs_r1_____Metab__dag_hs_r1', 'Gene5770__CMPK1', 'parent_of_Metab__HMDB0006523_r1', 'Gene1664__orphanReacr0788', 'Metab__Ser_Thr_g', 'Gene7314__orphanReacLYSGLUGLUr_reverse', 'Metab__HMDB0004258_r', 'Gene7074__orphanReacPROGLyt', 'Metab__progly_e', 'Metab__lneldccrn_c', 'Metab__HMDB0001659_e', 'Metab__dmnoncrn_x', 'parent_of_Metab__dmnoncoa_x1', 'parent_of_Metab__dmnoncrn_m1', 'ROCK2', 'Metab__HMDB0002925_l', 'Metab__ksi_deg36_l', 'Gene1322__GNS', 'Gene9257__HEXA', 'Metab__HMDB0001414_e', 'Gene7112__orphanReacGLUTRPALAr_reverse', 'Gene7110__orphanReacGLUMETHISr_reverse', 'Gene7388__orphanReacTRPGLULEUr_reverse', 'Gene7389__orphanReacTRPGLUPROr_reverse', 'Gene3463__orphanReacASPGLUTRPr_reverse', 'Gene3503__orphanReacGLUMETr_reverse', 'Gene5761__GOT1_reverse', 'Gene7350__GOT1_reverse', 'Gene7293__orphanReacHISLYSGLUr_reverse', 'Gene9067__orphanReacGLUtr', 'Gene7100__orphanReacASPGLUr_reverse', 'Gene7099__orphanReacASPASNGLUr_reverse', 'Gene3499__orphanReacGLUASNLEUr_reverse', 'Gene7347__GOT1_reverse', 'Gene965__GOT1_reverse', 'Gene7063__orphanReacARGGLUPROr_reverse', 'Gene3470__orphanReacASPLYSGLUr_reverse', 'Gene7106__orphanReacGLNPROGLUr_reverse', 'Gene7107__orphanReacGLNTRPGLUr_reverse', 'parent_of_Metab__10fthf7glu_c1', 'Gene9883__orphanReacr1368', 'Gene3429__orphanReacALAASNLEUr_reverse', 'Metab__HMDB0000254_x', 'Gene891__orphanReacHESTRATRIOLte', 'Metab__HMDB0005896_e', 'Metab__HMDB0000072_c', 'Metab__HMDB0001096_r', 'Metab__CE4791_m', 'parent_of_Metab__CE4793_m1', 'Metab__HMDB0012476_m', 'parent_of_Metab__CE0693_m1', 'Metab__cs_e_deg2_l', 'Gene4438__ASAH1', 'Metab__HMDB0000269_c', 'Metab__HMDB0001228_m', 'Gene8404__LIPA', 'Metab__HMDB0003344_c', 'parent_of_Metab__HMDB0000115_c1', 'Gene7101__orphanReacASPLYSHISr_reverse', 'Gene3543__orphanReacTRPLYSr_reverse', 'Gene3478__orphanReacPHELYSALAr_reverse', 'Gene3465__orphanReacLYSVALPHEr_reverse', 'Gene9204__orphanReacLYStip', 'Gene7313__orphanReacLYSGLNPHEr_reverse', 'Gene3436__orphanReacHISLYSVALr_reverse', 'Gene7331__orphanReacMETHISLYSr_reverse', 'Gene3448__orphanReacLEUASPLYSr_reverse', 'Gene3472__orphanReacASPPROLYSr_reverse', 'Gene3479__orphanReacPHELYSPROr_reverse', 'Gene7317__orphanReacLYSVALTRPr_reverse', 'Gene3427__orphanReacHISHISLYSr_reverse', 'Gene3505__orphanReacPROLYSPROr_reverse', 'Gene7066__orphanReacARGLYSASPr_reverse', 'Gene7292__orphanReacHISLYSALAr_reverse', 'parent_of_Metab__HMDB0000182_e1', 'Metab__acnamp_c', 'Gene8391__LIPA', 'Metab__HMDB0000772_r', 'Metab__adrncrn_c', 'parent_of_Metab__adrncrn_m1', 'Metab__HMDB0002356_e', 'parent_of_Metab__HMDB0000162_c1_____Metab__HMDB0000883_c1_____Metab__HMDB0000929_c1', 'IMMT', 'Gene5475__orphanReac3SPYRSPm', 'Gene3451__orphanReacLEUPROr', 'Metab__M01455_r', 'Metab__3hexdtricoa_m', 'Gene2707__ECI1', 'Metab__HMDB0062575_c', 'Metab__4mtob_c', 'Metab__HMDB0000521_r', 'parent_of_Metab__M01141_r1', 'Gene9486__orphanReacS3TASE2ly', 'Metab__hs_deg18_l', 'Gene7106__orphanReacGLNPROGLUr', 'NEDD4', 'Gene2271__ACAA1', 'NR2F6', 'Metab__HMDB0003939_m', 'Gene3556__orphanReacTYRALAr', 'GNAI2', 'Gene6581__orphanReac3MHISc', 'Metab__HMDB0001356_m', 'Gene1437__orphanReacTMNDNCt_reverse', 'Metab__tyrglu_c', 'Metab__mescoa_m', 'Metab__thrasntyr_c', 'parent_of_Metab__HMDB0000167_c1_____Metab__HMDB0000158_c1_____Metab__HMDB0000168_c1', 'PPP3CB', 'Metab__HC02056_c', 'Metab__HMDB0060173_c', 'Gene8403__LIPA', 'Metab__tetpent6_r', 'Metab__hdd2crn_m', 'parent_of_Metab__M01191_m1', 'RECQL4', 'Metab__leuasnasp_c', 'Gene7308__orphanReacLEUASNASPr', 'Metab__ksi_deg23_l', 'parent_of_Metab__ksi_deg24_l1_____Metab__HMDB0000143_l1', 'Metab__HMDB0006242_c', 'parent_of_Metab__HMDB0000318_c1', 'parent_of_Metab__34dhoxmand_c1', 'Metab__6dhf_l', 'Gene4729__LIPA', 'Gene5675__HLCS', 'Metab__apoC_Lys_btn_m', 'Gene6528__ACADVL_HADHA_HADHB', 'Gene8151__LIPA', 'Metab__HMDB0000638_r', 'Gene3446__orphanReacARGLEUPHEr_reverse', 'Metab__argleuphe_c', 'Gene3566__orphanReacVALLEUPHEr_reverse', 'Metab__valleuphe_c', 'Gene2560__ACADVL_HADHA_HADHB', 'CDK11B', 'parent_of_NOTCH11', 'Gene7341__orphanReacPHEPHEASNr_reverse', 'Metab__phepheasn_c', 'Metab__HC02060_c', 'parent_of_Metab__HC02070_c1_____Metab__HC02076_c1', 'Gene7290__orphanReacHISGLNALAr_reverse', 'Metab__hisglnala_c', 'CDKN2C', 'Metab__2octdectecoa_m', 'Gene6518__HADHA_HADHB', 'parent_of_Metab__HMDB0006516_r1', 'Metab__HMDB0002177_c', 'Gene1737__LIPA', 'Gene4735__LIPA', 'Metab__HMDB0002226_r', 'Gene698__orphanReacFORtm_reverse', 'Metab__HMDB0000142_m', 'Gene849__orphanReacGMPtg', 'Metab__HMDB0001397_g', 'Metab__HMDB0000125_c', 'Gene9093__orphanReacGTHRDtr', 'Gene1546__GGT7', 'Metab__sercysarg_c', 'parent_of_Metab__HMDB0000187_c1_____Metab__HMDB0000574_c1_____Metab__HMDB0000517_c1', 'Metab__M00020_c', 'parent_of_Metab__M00019_c1', 'parent_of_Metab__HMDB0005065_c1', 'Gene4039__SCARB1', 'Metab__HMDB0001903_c', 'Metab__HMDB0062755_e', 'parent_of_Metab__HMDB0062755_c1', 'Metab__HMDB0003971_c', 'Gene7547__GFPT1', 'Gene7328__TKT_reverse', 'parent_of_Metab__M01389_c1', 'Gene7286__orphanReacHISARGCYSr', 'Gene3433__orphanReacARGALATHRr', 'Gene7066__orphanReacARGLYSASPr', 'parent_of_Metab__HMDB0000586_c1', 'CUL4A', 'parent_of_Metab__HMDB0000122_c1', 'Metab__HMDB0001064_r', 'parent_of_Metab__HMDB0001064_c1', 'Metab__CE2243_c', 'Gene4632__ACOX1', 'Gene899__orphanReacHMGCOAtm', 'Metab__HMDB0001375_m', 'Metab__HMDB0000222_r', 'Metab__HMDB0001134_c', 'parent_of_Metab__HMDB0001003_c1', 'Metab__M00889_m', 'parent_of_Metab__HMDB0012969_m1', 'Metab__strdnccoa_m', 'Gene2568__ACADVL_HADHA_HADHB', 'parent_of_Metab__strdnccrn_m1', 'Gene7394__orphanReacTRPMETVALr', 'Gene3510__orphanReacPROVALGLNr_reverse', 'Gene7396__orphanReacTRPPROLEUr_reverse', 'Gene3450__orphanReacARGPROMETr_reverse', 'Gene3538__orphanReacTRPALAPROr_reverse', 'Gene3487__orphanReacPHEPROARGr_reverse', 'Gene7358__orphanReacPROARGASPr_reverse', 'Gene3497__orphanReacPROLEUARGr_reverse', 'parent_of_Metab__HMDB0000162_e1', 'parent_of_Metab__HMDB0000162_m1', 'parent_of_Metab__HMDB0000254_c1_____Metab__HMDB0000725_c1', 'Metab__HMDB0002013_c', 'Gene2520__SLC25A20_reverse', 'parent_of_Metab__HMDB0002013_m1', 'parent_of_Metab__HMDB0001088_c1', 'Metab__HMDB0000721_e', 'Gene2757__ECI1', 'Metab__HMDB0001325_e', 'Metab__HMDB0000826_c', 'Gene9444__orphanReacPTDCAt_reverse', 'parent_of_Metab__ptdcacoa_c1', 'Metab__HMDB0002022_c', 'Metab__ditp_c', 'RGL2', 'KRIT1', 'Metab__HMDB0006404_c', 'Metab__strdnccoa_x', 'parent_of_Metab__HMDB0001070_x1_____Metab__HMDB0003125_x1', 'Metab__HMDB0000056_m', 'Gene3426__orphanReacHISGLUGLNr', 'Metab__M01483_r', 'Gene3450__orphanReacARGPROMETr', 'Gene7308__orphanReacLEUASNASPr_reverse', 'Gene7093__orphanReacASNMETPROr', 'Metab__HMDB0000230_c', 'parent_of_Metab__HMDB0001176_c1', 'parent_of_Metab__HMDB0000230_n1', 'Metab__em2emgacpail_hs_r', 'Metab__HC02042_c', 'Metab__HMDB0001170_r', 'TRAF4', 'Gene7092__orphanReacASNCYSCYSr_reverse', 'Metab__asncyscys_c', 'Metab__crm_hs_n', 'Gene4707__LIPA', 'Metab__adrncoa_r', 'Metab__tethex3coa_r', 'Metab__ksi_deg6_l', 'Gene1316__GNS', 'Gene1077__HEXA', 'Metab__HMDB0001342_n', 'parent_of_Metab__HMDB0001274_n1', 'parent_of_Metab__HMDB0001274_n1_____Metab__HMDB0001532_n1', 'parent_of_Metab__HMDB0001342_c1', 'Gene6405__ACADM', 'Metab__tmndnccrn_r', 'UBE3A', 'Gene7307__orphanReacLEUALAARGr_reverse', 'Gene3549__orphanReacTRPSERTYRr', 'Metab__M01489_r', 'Metab__HMDB0003948_m', 'parent_of_Metab__HMDB0006404_m1', 'Metab__HMDB0000252_e', 'Metab__spc_hs_c', 'Gene9539__orphanReacSPC_HSt', 'Gene9534__SMPD2', 'Metab__HMDB0000855_c', 'Gene1433__TMLHE', 'Metab__HMDB0000254_c', 'Gene6194__ACY1', 'Gene9339__OAT_reverse', 'Metab__hmcr_c', 'Gene2893__orphanReacHMCRNc_reverse', 'Gene3118__orphanReacHMCRNt', 'Metab__hisargser_c', 'Metab__CE2432_m', 'Gene6222__ACOX1_reverse', 'parent_of_Metab__CE2417_m1', 'Metab__ksi_deg40_l', 'parent_of_Metab__ksi_deg41_l1_____Metab__HMDB0000143_l1', 'Metab__HMDB0000220_e', 'parent_of_Metab__HMDB0001338_c1', 'Gene7294__orphanReacHISMETr', 'Metab__trpiletrp_c', 'Gene4207__SGMS1', 'Metab__HMDB0001388_l', 'Metab__pentcoa_m', 'Gene6554__ACADS_ECHS1_HADH_ACAA2', 'parent_of_Metab__HMDB0000990_x1', 'Gene3777__TALDO1', 'DNAJC3', 'parent_of_Metab__M00023_r1', 'Metab__glutrpala_c', 'COL18A1', 'Metab__Rtotal_r', 'Gene68600002__SLC27A4', 'Metab__CE4797_m', 'Gene6205__AMACR_reverse', 'parent_of_Metab__CE4803_m1', 'PAK4', 'Metab__CE4790_m', 'parent_of_Metab__CE5120_m1', 'Metab__M03022_m', 'parent_of_Metab__M01573_m1', 'Metab__HMDB0006532_c', 'parent_of_Metab__HMDB0003229_c1', 'parent_of_Metab__HMDB0006532_m1', 'Gene9485__orphanReacS3TASE1ly', 'EIF4EBP2', 'LPIN1', 'MAF1', 'SOCS3', 'Metab__HMDB0002845_c', 'parent_of_Metab__c6crn_c1', 'Metab__CE2442_m', 'parent_of_Metab__CE2433_m1', 'parent_of_Metab__CE2441_m1', 'Metab__HMDB0000167_e', 'Metab__HMDB0002212_e', 'parent_of_Metab__HMDB0002212_c1', 'Metab__HMDB0001132_n', 'Metab__adrncoa_m', 'parent_of_Metab__HMDB0001197_m1_____Metab__HMDB0006523_m1', 'Gene2843__orphanReacXANt', 'Metab__HMDB0000292_c', 'CAPNS1', 'Gene108__SLC29A3_reverse', 'Metab__M00958_c', 'Metab__HMDB0001273_m', 'Metab__HMDB0012715_m', 'parent_of_Metab__HMDB0006498_m1', 'Metab__HMDB0060292_c', 'Gene304__orphanReacCYANt_reverse', 'Gene305__orphanReacCYANtm', 'Metab__hexe3coa_m', 'Gene837__orphanReacGLXtp', 'APPL1', 'Metab__HMDB0001999_c', 'ACADM', 'Gene7146__orphanReacTMNDNCtl_reverse', 'TNFRSF21', 'FHL2', 'Gene6198__ACADM_reverse', 'Gene6197__ACADM', 'Gene92__ACADM', 'parent_of_Metab__M03019_m1_____Metab__HMDB0001197_m1', 'parent_of_Metab__M03014_m1_____Metab__HMDB0001197_m1', 'parent_of_Metab__HMDB0001197_m1_____Metab__M03024_m1', 'parent_of_Metab__tmndnccoa_m1', 'parent_of_Metab__strdnccoa_m1_____Metab__HMDB0001197_m1', 'parent_of_Metab__HMDB0001197_m1_____Metab__HMDB0006368_m1', 'parent_of_Metab__M00044_m1_____Metab__HMDB0001197_m1', 'parent_of_Metab__HMDB0001197_m1_____Metab__M00056_m1', 'parent_of_Metab__CE2437_m1_____Metab__HMDB0001197_m1', 'parent_of_Metab__HMDB0001197_m1_____Metab__HMDB0003945_m1', 'parent_of_Metab__HMDB0062226_m1_____Metab__HMDB0001197_m1', 'parent_of_Metab__HMDB0001197_m1_____Metab__M00071_m1', 'parent_of_Metab__HMDB0001197_m1_____Metab__M00069_m1', 'parent_of_Metab__CE5154_m1_____Metab__HMDB0001197_m1', 'parent_of_Metab__M03022_m1_____Metab__HMDB0001197_m1', 'parent_of_Metab__HMDB0001197_m1_____Metab__CE5114_m1', 'parent_of_Metab__HMDB0001197_m1_____Metab__dec24dicoa_m1', 'Metab__HMDB0003536_c', 'Metab__HMDB0006547_r', 'Gene1694__orphanReacr0937_reverse', 'Gene942__BCAT2_reverse', 'Metab__HMDB0000172_m', 'Metab__M01191_m', 'parent_of_Metab__hdd2crn_m1', 'Metab__HMDB0000227_x', 'MINK1', 'Gene3437__orphanReacHISMETGLNr', 'CTDSP1', 'Metab__HMDB0000318_e', 'Metab__HMDB0000131_m', 'parent_of_Metab__HMDB0001051_m1', 'AAK1', 'Gene8395__LIPA', 'Metab__HMDB0002345_r', 'Metab__HMDB0006458_c', 'parent_of_Metab__HMDB0001311_c1', 'parent_of_Metab__HMDB0001167_c1', 'Gene5783__ADA', 'Metab__HMDB0000071_c', 'NOTCH2', 'Metab__HMDB0000304_c', 'parent_of_Metab__udpacgal_c1', 'Gene1197__orphanReacPHEMEtm', 'Metab__pheme_c', 'Metab__CE2438_m', 'parent_of_Metab__CE2439_m1', 'Metab__gd1a_hs_c', 'Gene4241__orphanReacGDA1tn', 'Metab__HMDB0001070_x', 'parent_of_Metab__HMDB0001070_c1', 'Metab__HMDB0062369_m', 'Gene9871__LIPA', 'Metab__HMDB0000182_x', 'Gene9202__orphanReacLYSOXp', 'Metab__HMDB0000085_m', 'Metab__M01495_r', 'Gene9259__HEXA', 'Metab__ksii_core2_deg5_l', 'Metab__15dmt_c', 'parent_of_Metab__15dmt_e1', 'Metab__HC02027_r', 'Metab__HMDB0001440_n', 'Gene7393__orphanReacTRPILELYSr', 'Gene7289__orphanReacHISCYSCYSr_reverse', 'Metab__HMDB0000097_n', 'Metab__tmndnccoa_x', 'parent_of_Metab__strdnccoa_x1', 'CARM1', 'Gene1585__PFKL_reverse', 'Gene7089__orphanReacARGSERSERr_reverse', 'Metab__eitetcoa_m', 'Metab__HMDB0000190_e', 'Metab__M01469_r', 'Gene4711__LIPA', 'Metab__HMDB0000883_e', 'Gene9218__orphanReacMEOHtly', 'Metab__HMDB0001875_l', 'Metab__HMDB0060215_m', 'parent_of_Metab__HMDB0004258_m1', 'Metab__M02637_m', 'Gene3476__orphanReacPHELEUASPr', 'Gene979__orphanReacLINKDEG3ly', 'Metab__HMDB0000098_l', 'Gene4361__PEMT', 'Metab__hdcecrn_c', 'parent_of_Metab__hdcecrn_m1', 'Metab__HMDB0001176_c', 'parent_of_Metab__HMDB0000095_c1_____Metab__gm1b_hs_c1', 'parent_of_Metab__HMDB0000095_c1_____Metab__gt1b_hs_c1', 'Gene5639__orphanReacBILGLCURtr', 'Gene3200002__orphanReac3MOBt2im', 'Metab__M02637_c', 'parent_of_Metab__HMDB0006290_c1', 'Metab__HMDB0000286_r', 'Metab__HMDB0001172_m', 'parent_of_Metab__HMDB0000202_m1', 'Metab__M02976_m', 'parent_of_Metab__M01141_m1', 'Metab__CE5144_m', 'parent_of_Metab__HMDB0001322_m1', 'Metab__CE4804_m', 'parent_of_Metab__CE4802_m1', 'parent_of_Metab__HMDB0001243_m1', 'Metab__cysaspphe_c', 'MECP2', 'Metab__HMDB0001397_c', 'Gene850__orphanReacGMPtn', 'Metab__HMDB0001220_r', 'ADORA2B', 'Gene2843__orphanReacXANt_reverse', 'Metab__thrilearg_c', 'Metab__HMDB0000826_e', 'Metab__thrglntyr_c', 'Metab__HMDB0001368_c', 'parent_of_Metab__HMDB0000243_c1_____Metab__HC01501_c1', 'Metab__ksii_core4_deg1_l', 'Metab__HC01444_e', 'Metab__trpglupro_c', 'Metab__argargmet_c', 'Metab__HMDB0000115_c', 'Gene3121__orphanReacLCYSTt_TRANSPORTER2', 'Metab__HMDB0002757_c', 'parent_of_Metab__tetpent6coa_r1', 'Gene3809__ASL_reverse', 'Metab__ddeccrn_c', 'Metab__aspglutrp_c', 'Metab__HMDB0001163_c', 'Gene7315__orphanReacLYSPHEILEr', 'TDG', 'parent_of_MDM21', 'parent_of_Metab__HMDB0000254_c1', 'Gene9629__CMPK1_reverse', 'Metab__HMDB0001532_n', 'Gene3584__orphanReacCA2t', 'Metab__HMDB0000464_c', 'Metab__ttccoa_r', 'Metab__ksi_deg26_l', 'parent_of_Metab__ksi_deg27_l1_____Metab__HMDB0000143_l1', 'Metab__tetd7ecoa_m', 'Gene10357__ACADVL_HADHA_HADHB', 'AIMP1', 'SMURF2', 'parent_of_Metab__leuktrD4_c1', 'Metab__HMDB0001121_c', 'Gene1765__orphanReacALAtmi', 'Gene6705__orphanReacq10tm', 'FZD7', 'Gene1330__CTSA_GLB1_GALNS_NEU1', 'Gene1396__orphanReacSUCCtp', 'Metab__HMDB0003974_m', 'parent_of_Metab__HMDB0000172_c1', 'Metab__M02112_r', 'Metab__dmnoncrn_c', 'ACO1', 'Metab__galacglcgalgluside_hs_g', 'Metab__stcrn_c', 'Gene7143__orphanReacSTCRNtr_reverse', 'Metab__phephethr_c', 'Gene3492__orphanReacPROGLNPROr_reverse', 'Metab__proglnpro_c', 'Metab__HMDB0001160_r', 'parent_of_Metab__M03047_r1', 'Metab__fdp_c', 'Gene7073__orphanReacGLYPROt', 'Metab__HMDB0001409_c', 'Gene393100002__MPC1_MPC2', 'Metab__HMDB0000205_c', 'Metab__CE2437_m', 'parent_of_Metab__CE2438_m1', 'FUS', 'parent_of_Metab__strdnccoa_r1', 'AHSA1', 'SYNJ2', 'Gene9545__orphanReacSPHS1Ptr', 'Metab__HMDB0000067_m', 'Gene3559__orphanReacTYRGLUr', 'Gene6668__orphanReacAMETtm', 'Metab__HMDB0001185_m', 'Gene8186__MSMO1', 'Gene5899__orphanReacDURItn', 'Metab__HMDB0005066_m', 'parent_of_Metab__M00129_m1', 'Metab__glumet_c', 'Gene7421__orphanReacTYRARGGLUr', 'Metab__lysvalphe_c', 'Metab__dmnoncoa_c', 'Metab__serglyglu_c', 'Metab__cystyrasn_c', 'Gene7397__orphanReacTRPTHRGLUr', 'Metab__HMDB0005896_l', 'Metab__HMDB0000125_r', 'Metab__M00117_r', 'parent_of_Metab__HC10784_r1', 'Metab__HMDB0006345_m', 'Gene790__GART_reverse', 'parent_of_Metab__HMDB0001846_l1', 'Gene9074__orphanReacGLYCtm', 'Metab__lneldccoa_r', 'Metab__M01494_r', 'IDH2', 'parent_of_Metab__HMDB0003974_c1', 'parent_of_Metab__HMDB0000193_x1', 'MAPKAPK3', 'Metab__HMDB0000089_e', 'Metab__HMDB0000202_m', 'Metab__M00115_c', 'Gene7316__orphanReacLYSTYRILEr', 'Metab__HMDB0001047_c', 'Metab__HMDB0000060_x', 'BACE1', 'PPP2R5D', 'Metab__HMDB0006368_x', 'parent_of_Metab__CE4793_x1', 'parent_of_Metab__HMDB0001070_x1', 'Metab__HMDB0002250_m', 'parent_of_Metab__HMDB0002250_c1', 'Metab__HMDB0000721_c', 'parent_of_Metab__HMDB0000123_c1_____Metab__HMDB0000162_c1', 'Metab__M03014_m', 'parent_of_Metab__M00702_m1', 'KDM1A', 'Metab__HMDB0060180_c', 'Metab__HC02048_c', 'parent_of_Metab__HC02054_c1', 'parent_of_Metab__HMDB0001409_m1', 'Gene8241__COMT', 'Metab__HMDB0000291_c', 'Gene8046__orphanReacSPHGNtn', 'Gene4138__orphanReacSPHGNte_reverse', 'Gene4233__orphanReacSPHGNtg', 'HK2', 'Metab__ksi_deg19_l', 'parent_of_Metab__ksi_deg20_l1_____Metab__HMDB0000215_l1', 'Metab__cspg_c_l', 'Metab__M00127_c', 'parent_of_Metab__HMDB0000573_c1', 'parent_of_Metab__HMDB0006464_c1', 'Metab__argalathr_c', 'Metab__M00841_m', 'Metab__HMDB0000960_m', 'Gene6111__ABCD1', 'Gene3465__orphanReacLYSVALPHEr', 'DHX9', 'Metab__ksii_core2_deg1_l', 'Gene9500__CTSA_GLB1_GALNS_NEU1', 'Gene3463__orphanReacASPGLUTRPr', 'parent_of_Metab__15dmt_c1', 'Metab__HMDB0000252_c', 'Metab__HMDB0001565_c', 'parent_of_AKT11', 'Metab__trpthrglu_c', 'Gene7372__orphanReacTRPARGALAr', 'Metab__HMDB0062585_c', 'parent_of_Metab__HMDB0000725_c1', 'Metab__valphearg_c', 'Gene7431__orphanReacVALPHEARGr', 'Metab__hdd2crn_c', 'Gene7602__orphanReacHDD2CRNte', 'Metab__HMDB0000795_x', 'Gene1245__orphanReacPRISTtx', 'Gene7112__orphanReacGLUTRPALAr', 'Metab__HMDB0000464_e', 'Metab__trptyrgln_c', 'Gene3551__orphanReacTRPTYRGLNr', 'Metab__HMDB0006368_r', 'parent_of_Metab__HMDB0006368_c1', 'Gene1427__SLC29A3_reverse', 'Metab__HMDB0000273_l', 'Gene8394__LIPA', 'Metab__CE5119_m', 'parent_of_Metab__CE5118_m1', 'Gene177300002__orphanReacPHEt2m', 'Gene8397__LIPA', 'Metab__3ddecdicoa_m', 'Metab__nformanth_c', 'Metab__mi1p_D_n', 'Metab__f1a_e', 'Gene1494__orphanReacUritn', 'ANAPC13', 'Metab__M00019_c', 'Metab__HMDB0000123_e', 'Metab__M00004_r', 'Metab__HMDB0002183_r', 'Metab__stcrn_e', 'Metab__HMDB0000905_c', 'Gene2952__orphanReacC02712tm', 'Metab__HMDB0011745_m', 'Gene261__orphanReacCLPNDCOAtx', 'Metab__HMDB0001227_c', 'RRAGC', 'Metab__ttdcea_r', 'parent_of_Metab__M00129_r1', 'Metab__M01487_r', 'Gene8152__LIPA', 'Gene7097__orphanReacASNTYRPHEr', 'Metab__HC00361_c', 'DUSP3', 'TNFRSF10B', 'Metab__HMDB0011745_c', 'Metab__HMDB0006528_e', 'Metab__cs_d_deg5_l', 'parent_of_Metab__cs_d_deg6_l1', 'parent_of_Metab__HMDB0006292_c1', 'Metab__HMDB0003459_c', 'Metab__ttdcea_e', 'Metab__HMDB0013123_e', 'parent_of_Metab__HMDB0013123_c1', 'Metab__ksii_core2_pre10_g', 'TLK1', 'Metab__HMDB0000142_e', 'Metab__HMDB0000222_m', 'GTF2A2', 'NRP1', 'Gene5191__orphanReacFVSGLUChc', 'Metab__fvsgluc_r', 'Metab__HMDB0000641_e', 'Gene1217__orphanReacPIK5n', 'Gene1317__GNS', 'Metab__10fthf5glu_c', 'Metab__HMDB0000362_c', 'Gene325__CMPK1', 'Gene239__G6PC3', 'Metab__HMDB0000230_n', 'Gene5730__CMAS', 'ATP2B4', 'parent_of_Metab__HMDB0000464_e1', 'DTL', 'Gene5633__orphanReacASNtm', 'Metab__HMDB0062368_m', 'Metab__3decdicoa_m', 'Gene7392__orphanReacTRPHISMETr_reverse', 'Metab__trphismet_c', 'parent_of_Metab__dcsptn1crn_m1', 'Gene10316__ACOX1_reverse', 'Gene1397__SDHA_SDHD_SDHC_SDHB_reverse', 'Metab__lnlccrn_c', 'parent_of_Metab__lnlccrn_e1', 'parent_of_Metab__lnlccrn_m1', 'WNK1', 'OXSR1', 'Gene9840__orphanReacr0999_reverse', 'Metab__10fthf7glu_m', 'PTPRA', 'Metab__HMDB0006840_c', 'parent_of_Metab__HMDB0001338_r1', 'Metab__M00911_m', 'parent_of_Metab__HMDB0013028_m1', 'Metab__HMDB0001172_c', 'Gene10529__CRAT_reverse', 'Metab__M01724_r', 'Metab__HMDB0004936_c', 'parent_of_Metab__gm3_hs_c1', 'Metab__4hexdtetcoa_m', 'Metab__glyhislys_c', 'Metab__hislysglu_c', 'Metab__HMDB0001051_c', 'Metab__HMDB0000988_c', 'Metab__pail3p_hs_n', 'parent_of_Metab__pail34p_hs_n1', 'parent_of_Metab__pail_hs_n1', 'Gene3490__orphanReacCYSTYRASNr', 'Metab__M00780_m', 'parent_of_Metab__M00875_m1', 'parent_of_Metab__adrncoa_r1', 'Metab__HMDB0002752_c', 'Gene6857__orphanReacC05953tm_reverse', 'Gene8390__LIPA', 'Metab__HMDB0000573_r', 'BCL2L2', 'Metab__HMDB0006523_m', 'Gene6326__ACOX1', 'Metab__valtrpval_c', 'Metab__arglysasp_c', 'Metab__HMDB0001114_c', 'Gene6130__ACOT1', 'parent_of_Metab__HMDB0001114_x1', 'Gene3858__ATIC', 'Gene7334__orphanReacPHEASNMETr_reverse', 'Gene4346__PGS1', 'Metab__HMDB0000095_m', 'Gene330__CMPK1_reverse', 'Metab__6thf_m', 'Metab__pail4p_hs_c', 'Metab__ps_hs_e', 'Gene9441__orphanReacPSt3', 'Metab__vacccoa_c', 'parent_of_Metab__vacccrn_c1', 'Gene699__orphanReacFORtr', 'Gene4093__orphanReac2H3MVte', 'Gene7062__orphanReacARGGLUGLUr_reverse', 'Metab__HMDB0000990_c', 'Metab__cysglutrp_c', 'Gene3483__orphanReacCYSGLUTRPr', 'Metab__HMDB0002925_c', 'parent_of_Metab__HMDB0003947_c1', 'Metab__HMDB0000186_g', 'Metab__dgmp_c', 'Metab__CE2247_m', 'parent_of_Metab__HMDB0062369_m1', 'IDH1', 'Gene4719__LIPA', 'Gene1392__orphanReacSTRDNCt_reverse', 'Gene7288__orphanReacHISASPr_reverse', 'Metab__hisasp_c', 'Gene3494__orphanReacPROHISr', 'Metab__HMDB0001132_e', 'Gene1622__GLA', 'Gene9012__GGH', 'Metab__pail4p_hs_n', 'parent_of_Metab__HMDB0001440_c1', 'Gene2776__orphanReac34HPPte_reverse', 'Metab__HMDB0001301_c', 'Metab__argglupro_c', 'Gene7063__orphanReacARGGLUPROr', 'CAMK2G', 'Gene4721__LIPA', 'Metab__galgluside_hs_g', 'parent_of_Metab__HMDB0000168_c1', 'Metab__M00020_r', 'parent_of_Metab__HMDB0000168_e1', 'Metab__trpalapro_c', 'Metab__HC01415_m', 'Gene3805__ATIC', 'parent_of_Metab__HMDB0000972_m1', 'parent_of_Metab__HMDB0062623_c1', 'Metab__HMDB0000148_r', 'Metab__HMDB0001875_e', 'Metab__core6_g', 'Metab__pglyc_hs_e', 'Metab__5thf_l', 'Metab__HMDB0005065_e', 'parent_of_Metab__phytcoa_x1', 'parent_of_Metab__HMDB0003571_r1', 'parent_of_Metab__HMDB0000215_l1_____Metab__ksi_deg35_l1', 'DBI', 'parent_of_Metab__HMDB0001339_c1', 'Metab__pa_hs_m', 'Metab__bilglcur_c', 'Gene7218__orphanReacUGT1A10c_reverse', 'Metab__ksi_deg24_l', 'Gene1059__HEXA', 'Metab__HMDB0004045_c', 'Metab__dag_hs_c', 'Gene5787__orphanReacDAGt_reverse', 'parent_of_Metab__HMDB0000095_c1_____Metab__pe_hs_c1', 'Gene4712__LIPA', 'Metab__HMDB0000944_r', 'Metab__M01472_r', 'Metab__CE4800_m', 'parent_of_Metab__CE4799_m1', 'Metab__HMDB0000082_n', 'Metab__HMDB0001426_l', 'Gene3439__orphanReacILEARGILEr_reverse', 'ATP2B1', 'AKR1B1', 'Gene156__AKR1B1', 'parent_of_Metab__HMDB0006213_c1', 'Metab__HMDB0000910_r', 'parent_of_Metab__HMDB0013109_r1', 'Metab__HMDB0002259_c', 'Gene9133__orphanReacHPDCAt_reverse', 'Metab__arachcrn_m', 'parent_of_Metab__arachcrn_c1', 'Gene2341__PRDX6_reverse', 'Metab__HMDB0001008_c', 'Gene3496__orphanReacPROHISTYRr', 'Gene8389__LIPA', 'Gene6537__ECI1', 'Metab__M00056_m', 'parent_of_Metab__M00792_m1', 'Metab__HMDB0000220_c', 'parent_of_Metab__HMDB0000220_x1', 'Gene7109__orphanReacGLUARGLEUr', 'Metab__HMDB0003125_r', 'Metab__hishislys_c', 'Gene7391__orphanReacTRPGLYPHEr_reverse', 'Metab__HMDB0000935_r', 'Metab__cysglnmet_c', 'Metab__argcysser_c', 'Gene1020__SUCLG1_SUCLG2_reverse', 'Metab__HMDB0012930_r', 'parent_of_Metab__HMDB0001413_c1', 'Gene5093__orphanReacCRVSM22hc', 'parent_of_Metab__HMDB0001170_c1', 'Gene8406__orphanReacARGDr', 'parent_of_Metab__HMDB0000051_e1', 'Metab__HMDB0000990_x', 'Gene3675__PNP', 'Metab__tetpent3coa_r', 'parent_of_Metab__HMDB0002925_c1', 'Metab__HMDB0003231_c', 'Gene9638__orphanReacVACCt_reverse', 'Metab__M00127_m', 'ACADVL', 'Gene2648__ACADVL_HADHA_HADHB', 'Gene6517__ACADVL_HADHA_HADHB', 'Gene10371__ACADVL_HADHA_HADHB', 'Gene2570__ACADVL_HADHA_HADHB', 'Metab__M01491_r', 'Metab__Rtotal_c', 'Gene4263__orphanReacRtotalter', 'Gene8055__orphanReacRtotaltg', 'Metab__hislysval_c', 'Gene4395__PEMT', 'Metab__M02758_c', 'PIN1', 'ACLY', 'NOLC1', 'NEDD4L', 'PLCB3', 'STK24', 'parent_of_GADD45A-1', 'parent_of_Metab__c226crn_m1', 'Gene9069__orphanReacGLXtm', 'Gene5736__GCNT1', 'Metab__HMDB0001552_m', 'parent_of_Metab__HMDB0000208_m1_____Metab__HMDB0000051_m1', 'Metab__HMDB0000205_m', 'Metab__HMDB0006529_c', 'SMPD1', 'Gene7385__orphanReacTRPASPASPr_reverse', 'Gene6221__ACOX1_reverse', 'Metab__M01460_r', 'Gene4227__orphanReacCHOLPtn', 'Metab__clpndcrn_c', 'Gene7431__orphanReacVALPHEARGr_reverse', 'Metab__3dpdhb_me_m', 'Gene5891__orphanReacDPHMBDCm', 'Metab__HMDB0001270_c', 'Gene2784__orphanReacAICARte_reverse', 'Metab__HMDB0001517_e', 'P4HA2', 'Metab__HMDB0000078_c', 'Metab__M00123_r', 'Metab__HMDB0000202_c', 'parent_of_Metab__HMDB0001172_c1', 'parent_of_Metab__HMDB0000202_e1', 'Metab__HMDB0000019_c', 'Gene2777__orphanReac3MOBte_reverse', 'Metab__HMDB0001157_m', 'Metab__HMDB0001339_m', 'Metab__ksi_deg35_l', 'Metab__HMDB0006267_c', 'parent_of_Metab__HMDB0006528_c1', 'parent_of_Metab__HMDB0000148_c1', 'Metab__CE0693_m', 'LMTK2', 'Metab__serargala_c', 'Metab__CE4801_m', 'parent_of_Metab__CE4806_m1', 'Metab__M01236_r', 'Metab__HMDB0000237_c', 'parent_of_Metab__HMDB0000237_e1', 'Metab__pail345p_hs_c', 'Metab__lnlncacrn_c', 'Metab__ksii_core4_deg3_l', 'Gene1325__GNS', 'Metab__ksi_deg37_l', 'Metab__M00046_m', 'parent_of_Metab__M00780_m1', 'Gene319__CMPK1_reverse', 'Metab__HMDB0005896_r', 'parent_of_Metab__HMDB0005896_c1', 'Metab__HMDB0006330_c', 'Metab__fvs_r', 'Metab__HMDB0000692_c', 'parent_of_Metab__HMDB0000692_m1', 'Metab__mlthf_e', 'Metab__HMDB0003974_c', 'Metab__dcsptn1coa_r', 'Metab__gda1_hs_n', 'Metab__HMDB0000054_c', 'Gene3121__orphanReacLCYSTt_TRANSPORTER3_reverse', 'Metab__HMDB0002757_e', 'Metab__CE5120_m', 'Metab__2h3mv_c', 'BIRC6', 'Metab__HMDB0006368_m', 'parent_of_Metab__lnlncgcrn_m1', 'Metab__HMDB0010378_r', 'parent_of_Metab__M00101_r1', 'parent_of_Metab__HMDB0000162_c1', 'Metab__HMDB0000292_e', 'Metab__tlacfvs_c', 'Gene5263__orphanReacTLACFVStev', 'parent_of_Metab__tlacfvs_r1', 'Metab__HMDB0006516_r', 'Metab__pheleuasp_c', 'Gene3566__orphanReacVALLEUPHEr', 'TLK2', 'Metab__CE4802_m', 'parent_of_Metab__CE4807_m1', 'Gene4734__LIPA', 'HSPA9', 'Gene892__orphanReacHESTRATRIOLtr', 'Metab__phelyspro_c', 'Gene3479__orphanReacPHELYSPROr', 'Gene7407__orphanReacPAIL_hs_SECt', 'CSNK1D', 'PRKACB', 'Metab__2octpencoa_m', 'parent_of_Metab__M02052_r1', 'Gene1346__ESD', 'Gene4654__CRAT_reverse', 'parent_of_Metab__HMDB0001586_c1', 'Gene7347__GOT1', 'Metab__M00702_m', 'parent_of_Metab__M00843_m1', 'Metab__mlthf_c', 'Metab__CE0693_x', 'Metab__HMDB0001248_c', 'Gene651__orphanReacFADtx', 'Gene8087__GPD2', 'parent_of_Metab__HMDB0001197_c1', 'Metab__trpglyphe_c', 'IMPDH2', 'Metab__argpromet_c', 'Metab__xolest183_hs_c', 'Gene3519__orphanReacXOLEST183tl', 'Gene7330__orphanReacMETGLYARGr', 'Metab__HC02021_r', 'Metab__ksi_deg39_l', 'parent_of_Metab__ksi_deg40_l1_____Metab__HMDB0000215_l1', 'SLC38A2', 'Metab__HMDB0002104_m', 'Gene8968__orphanReacG5SADrm', 'Gene2742__orphanReacGLU5SAtmc', 'Metab__metmetile_c', 'Metab__HMDB0000156_e', 'Gene7290__orphanReacHISGLNALAr', 'Gene5777__CMPK1_reverse', 'Gene5313__orphanReac3MEACMPitr', 'Metab__alaarggly_c', 'Metab__cs_e_deg5_l', 'Gene9504__CTSA_GLB1_GALNS_NEU1', 'Metab__octd11ecoa_c', 'parent_of_Metab__ocdececrn_c1', 'Metab__HMDB0000172_e', 'Gene7104__orphanReacGLNHISHISr_reverse', 'Metab__HMDB0002817_c', 'Metab__M00966_c', 'Gene4442__HSD17B7', 'Metab__lnlncgcrn_c', 'parent_of_Metab__ksi_deg14_l1_____Metab__HMDB0000215_l1', 'NCSTN', 'Gene7389__orphanReacTRPGLUPROr', 'parent_of_Metab__HMDB0000296_e1', 'Metab__HMDB0001397_n', 'parent_of_Metab__HMDB0006242_c1', 'Gene360__COQ3', 'Metab__2hiv_e', 'Metab__HMDB0000012_c', 'Metab__M00792_m', 'parent_of_Metab__M00889_m1', 'Gene7301__PNP', 'Metab__HMDB0002845_m', 'parent_of_Metab__ksi_deg36_l1_____Metab__HMDB0000143_l1', 'Metab__M01471_r', 'Metab__HMDB0000692_m', 'parent_of_Metab__pheme_m1', 'Gene7102__orphanReacCYSGLNMETr', 'Gene8930__FPGS', 'Gene3558__orphanReacTYRCYSTHRr', 'Metab__aspglu_c', 'Metab__HMDB0003571_r', 'Metab__HMDB0001000_n', 'parent_of_Metab__HMDB0001191_n1', 'parent_of_Metab__HMDB0001000_c1', 'Gene5520__orphanReacACALDtm_reverse', 'Metab__HC10784_r', 'SIAH2', 'Gene3507__orphanReacPROPROARGr_reverse', 'Metab__HMDB0001043_c', 'Metab__M00343_r', 'Metab__HMDB0000618_r', 'Metab__HMDB0062624_c', 'Gene961__ADH5_reverse', 'parent_of_Metab__HMDB0001311_c1_____Metab__HMDB0000125_c1', 'Metab__CE4791_x', 'Gene8184__LBR', 'SLC29A1', 'Gene109__SLC29A1', 'Gene1428__SLC29A1', 'parent_of_Metab__HMDB0000195_e1', 'parent_of_Metab__HMDB0000050_e1', 'parent_of_Metab__HMDB0000014_n1', 'Gene1486__CMPK1_reverse', 'Metab__M00071_m', 'parent_of_Metab__M00806_m1', 'Metab__cs_e_deg1_l', 'Gene7094__orphanReacASNPHEASPr', 'Gene3470__orphanReacASPLYSGLUr', 'Gene6762__orphanReacIMPtr_reverse', 'Metab__ksii_core2_deg8_l', 'Metab__M01509_r', 'Metab__proargasp_c', 'Gene7358__orphanReacPROARGASPr', 'parent_of_Metab__HC02060_c1', 'parent_of_Metab__HC02057_c1', 'Metab__HC02051_c', 'Gene5793__DCK_reverse', 'Gene319__CMPK1', 'Metab__pristcoa_c', 'Metab__HMDB0002231_r', 'parent_of_Metab__HMDB0002226_c1', 'Metab__HMDB0001851_c', 'Metab__15dmt_e', 'CCNC', 'Gene4446__MSMO1', 'Metab__M00956_c', 'parent_of_Metab__HMDB0001064_r1', 'Gene7361__orphanReacPROGLULYSr', 'Gene3477__orphanReacPHELEUHISr_reverse', 'Metab__pheleuhis_c', 'Gene7355__orphanReacPHETYRr', 'Metab__ileserarg_c', 'Gene7299__orphanReacILESERARGr', 'Metab__glnproglu_c', 'Gene5611__orphanReacAPOC_LYS_BTNPm', 'Metab__apoC_m', 'TBL1XR1', 'DAP3', 'Gene2569__ECI1', 'Gene9685__NIT2', 'Gene9057__ALDH18A1', 'GNB2', 'UBE2N', 'Gene1068__HEXA', 'Metab__M00101_r', 'parent_of_TGFBR11', 'Metab__HMDB0001565_e', 'Metab__HMDB0000190_c', 'parent_of_Metab__HMDB0000190_e1', 'Metab__dece3coa_m', 'Metab__M01475_r', 'Metab__HMDB0002250_c', 'Metab__M02686_c', 'Metab__tmndnccrn_c', 'parent_of_Metab__tmndnccrn_m1', 'Gene7982__orphanReacGLUSIDEtl', 'Metab__gluside_hs_l', 'parent_of_Metab__HMDB0001532_c1', 'Metab__lysvaltrp_c', 'Gene7317__orphanReacLYSVALTRPr', 'Metab__HMDB0000122_g', 'parent_of_Metab__ksii_core2_deg9_l1_____Metab__HMDB0000143_l1', 'Metab__xolest183_hs_l', 'DIAPH1', 'Metab__HMDB0003947_r', 'Metab__HMDB0003052_c', 'parent_of_Metab__HMDB0012930_r1', 'Metab__HMDB0001338_c', 'parent_of_Metab__HMDB0001338_x1', 'Gene964__orphanReacLCTStg', 'Metab__HMDB0000186_e', 'Gene7486__orphanReacPGP_hs_tm_reverse', 'Metab__argprothr_c', 'Gene3453__orphanReacARGPROTHRr', 'Gene9817__orphanReacNH4tm', 'Gene4709__LIPA', 'Metab__M01235_r', 'Metab__HMDB0001220_m', 'Metab__M02052_r', 'Metab__HMDB0000067_l', 'Metab__M01141_r', 'Metab__vacccrn_c', 'Metab__dag_hs_g', 'parent_of_Metab__HMDB0001273_n1', 'Metab__HMDB0001176_n', 'Metab__ksi_deg38_l', 'parent_of_Metab__ksi_deg39_l1_____Metab__HMDB0000143_l1', 'Metab__arachdcrn_m', 'Gene225__CPT2', 'Metab__alaargcys_c', 'Gene1103__orphanReacNH4tp', 'Metab__c226crn_c', 'Metab__HMDB0001123_e', 'parent_of_Metab__lneldccrn_c1', 'Gene2885__FADS2', 'Metab__ttdceacoa_c', 'Metab__HMDB0000826_r', 'parent_of_Metab__ptdcacoa_r1', 'Metab__M00778_m', 'parent_of_Metab__M00873_m1', 'Metab__HMDB0001521_c', 'parent_of_Metab__HMDB0000806_c1', 'Metab__HMDB0000097_r', 'parent_of_Metab__HMDB0002159_x1', 'Gene5755__orphanReacCSPG_Et', 'parent_of_AURKA1', 'Metab__M01502_r', 'Gene8396__LIPA', 'Metab__HMDB0002368_r', 'Metab__HMDB0062625_c', 'parent_of_Metab__HMDB0001426_c1_____Metab__HMDB0000125_c1', 'SLC9A3R1', 'IQGAP1', 'EGLN2', 'DGKZ', 'Metab__HMDB0000115_m', 'Gene3837__TYMS', 'Metab__HMDB0001191_m', 'CDC42BPA', 'Metab__HMDB0006464_m', 'Gene5914__CPT2', 'parent_of_Metab__M00127_m1', 'Metab__hx2coa_m', 'parent_of_Metab__HMDB0002845_m1', 'Gene3432__orphanReacARGALAALAr', 'Gene7091__orphanReacARGVALTRPr_reverse', 'Gene7318__orphanReacMETARGLEUr_reverse', 'Gene3544__orphanReacTRPMETARGr_reverse', 'parent_of_Metab__HMDB0000517_e1', 'parent_of_Metab__HMDB0000883_e1', 'Metab__HMDB0013028_m', 'HBP1', 'PIAS2', 'PIP4K2B', 'Metab__HMDB0003974_x', 'Gene1340__orphanReacSer_Thrtg', 'Metab__hs_deg25_l', 'Metab__cspg_c_g', 'Metab__HMDB0001409_n', 'Metab__HMDB0002259_e', 'parent_of_Metab__HMDB0002259_c1', 'Metab__gluside_hs_g', 'Gene5469__ALDH3B1_reverse', 'Gene7363__orphanReacSERARGALAr', 'Gene7287__orphanReacHISARGSERr', 'Metab__cdpdag_hs_m', 'Metab__dcsptn1crn_m', 'parent_of_Metab__dcsptn1crn_c1', 'Metab__HMDB0000254_m', 'Metab__HMDB0000243_x', 'Gene2533__CPT1B', 'Metab__HMDB0000791_c', 'parent_of_Metab__HMDB0001273_m1', 'Gene5708__orphanReacCHOLPtg', 'Metab__HMDB0000119_c', 'Metab__hs_deg17_l', 'Gene821__NAGLU', 'Gene8400__LIPA', 'Metab__CE2440_m', 'Metab__crmp_hs_c', 'Metab__cs_e_deg3_l', 'Metab__HMDB0001301_m', 'Metab__HMDB0000222_c', 'Gene9839__orphanReacr0998_reverse', 'parent_of_Metab__HMDB0000222_m1', 'Gene3143__orphanReacTTDCEAt', 'parent_of_Metab__HMDB0000215_l1_____Metab__ksi_deg38_l1', 'Metab__HMDB0000193_c', 'parent_of_Metab__HMDB0000641_e1', 'parent_of_Metab__HMDB0000641_m1', 'Gene291__orphanReacCSEPASEly', 'PIAS4', 'Gene7354__orphanReacPHETRPLEUr_reverse', 'Metab__phetrpleu_c', 'Metab__3m4hpga_c', 'parent_of_Metab__HMDB0000291_c1', 'parent_of_Metab__HMDB0001201_m1', 'Metab__strdnccrn_c', 'parent_of_Metab__c226coa_r1', 'Metab__HMDB0000094_m', 'Metab__ptdcacrn_m', 'Metab__M01237_r', 'Metab__HMDB0000143_l', 'Gene7992__orphanReacSMSn', 'Metab__HMDB0003231_r', 'Metab__HMDB0001051_m', 'parent_of_Metab__HMDB0000139_m1', 'BAIAP2', 'Gene7366__orphanReacTHRARGTYRr', 'Metab__aspprolys_c', 'Metab__HMDB0004258_c', 'Gene2181__RPL14_reverse', 'WWTR1', 'Gene3459__orphanReacLEUTYRTYRr_reverse', 'Metab__leutyrtyr_c', 'parent_of_Metab__vacccoa_r1', 'Metab__M00069_m', 'parent_of_Metab__M00804_m1', 'Gene3546__orphanReacTRPPHEr_reverse', 'Metab__cspg_a_g', 'Gene5752__orphanReacCSPG_At', 'Gene4104__orphanReac12PPDRte', 'Metab__HMDB0001274_m', 'Metab__HMDB0001488_c', 'Gene7335__orphanReacPHEASPr_reverse', 'Gene4443__MSMO1', 'Metab__M00960_c', 'Gene5566__CPT2', 'Gene9626__CMPK1_reverse', 'parent_of_Metab__HMDB0000998_n1', 'Metab__HMDB0012473_m', 'Metab__dcsptn1crn_c', 'Gene5500__orphanReac7DHFtl', 'Gene4160__orphanReacGLUSIDEtg', 'Metab__HMDB0006559_c', 'XRCC6', 'Gene3454__orphanReacARGVALCYSr', 'Gene2785__orphanReacANTHte_reverse', 'Metab__HMDB0000190_m', 'Metab__HMDB0000252_r', 'Metab__vacccrn_m', 'TKT', 'parent_of_Metab__HMDB0012477_m1', 'Metab__HMDB0001881_c', 'Gene2784__orphanReacAICARte', 'parent_of_Metab__mlthf_m1', 'Metab__gluside_hs_e', 'Metab__CE2439_m', 'parent_of_Metab__CE2440_m1', 'Gene4713__LIPA', 'Metab__HMDB0002068_r', 'Metab__tlacfvs_r', 'Metab__HMDB0006523_x', 'Metab__vacccoa_m', 'parent_of_Metab__vacccrn_m1', 'Metab__CE5117_m', 'AURKB', 'RAD23B', 'Metab__HMDB0002003_c', 'Gene5451__orphanReac34DHOXPEGt', 'Gene4235__orphanReacSPHINGStg', 'Gene5022__orphanReac15DMThr', 'Gene5048__orphanReac31DMThr', 'Metab__xolest183_hs_e', 'parent_of_Metab__xolest183_hs_c1', 'Metab__HMDB0006213_c', 'Gene5594__ADH5', 'Metab__dcsptn1coa_c', 'Metab__HMDB0001064_c', 'Gene5668__orphanReacBILIRUBtr', 'Metab__ksii_core4_deg4_l', 'Gene1073__HEXA', 'Metab__M01481_r', 'Gene4710__LIPA', 'Metab__HMDB0000574_m', 'Metab__HMDB0001000_m', 'parent_of_Metab__HMDB0001191_m1', 'Metab__31dmt_e', 'Metab__HMDB0006464_e', 'Metab__HMDB0004258_x', 'parent_of_Metab__HMDB0003125_x1_____Metab__HMDB0001114_x1', 'MSH2', 'DDR1', 'DUSP5', 'SIAH1', 'Gene3498__orphanReacGLNLYSTRPr', 'Metab__cysgluhis_c', 'Metab__ksii_core2_l', 'Gene3438__orphanReacHISTRPHISr_reverse', 'Metab__lneldccrn_m', 'Gene9184__CPT2', 'Metab__M00885_m', 'Gene221300002__orphanReacr2510', 'parent_of_Metab__dlnlcgcrn_m1', 'TANK', 'Metab__HMDB0060216_m', 'parent_of_Metab__HMDB0060215_m1', 'Metab__HMDB0000050_c', 'Gene5557__ADA', 'Metab__HMDB0001401_c', 'Metab__trpthrtyr_c', 'Gene7398__orphanReacTRPTHRTYRr', 'Metab__ksi_deg28_l', 'Metab__HMDB0006891_x', 'Gene5821__DHCR7', 'Metab__HMDB0002719_r', 'Metab__gluthr_c', 'Gene7395__orphanReacTRPPROGLYr', 'CLK2', 'Metab__M00849_m', 'Metab__HMDB0006961_c', 'parent_of_Metab__HMDB0003125_x1_____Metab__HMDB0001338_x1', 'parent_of_Metab__HMDB0006267_x1_____Metab__HMDB0003125_x1', 'parent_of_Metab__dcsptn1coa_x1_____Metab__HMDB0003125_x1', 'parent_of_Metab__adrncoa_x1_____Metab__HMDB0003125_x1', 'parent_of_Metab__c226coa_x1_____Metab__HMDB0003125_x1', 'parent_of_Metab__HMDB0006889_m1', 'parent_of_Metab__HMDB0001322_x1', 'parent_of_Metab__nrvnccoa_r1', 'GTF2F1', 'Gene9808__orphanReacr0795', 'Metab__HMDB0001448_c', 'Gene965__GOT1', 'Metab__HMDB0001375_x', 'parent_of_Metab__HMDB0000227_x1', 'Metab__CE5125_x', 'Metab__gm1b_hs_g', 'Metab__HMDB0000273_c', 'Gene1023__orphanReacMEOHt2_reverse', 'Gene3570__orphanReacVALTRPVALr_reverse', 'Gene2517__CPT1B', 'Metab__HMDB0006368_c', 'parent_of_Metab__lnlncgcrn_c1', 'Metab__7thf_m', 'Metab__hs_deg23_l', 'Gene4706__LIPA', 'Metab__M01462_r', 'Metab__HMDB0000269_r', 'Metab__ksii_core2_deg2_l', 'Gene6811__orphanReacMEV_Rt', 'Gene3445__orphanReacARGARGMETr_reverse', 'parent_of_Metab__M00012_r1', 'Metab__HMDB0001274_c', 'parent_of_Metab__M02612_r1', 'Metab__HMDB0000586_c', 'Metab__c226coa_r', 'Metab__HMDB0001072_c', 'Metab__HMDB0001132_c', 'Gene6768__orphanReacNICRNtr_reverse', 'Gene1105__orphanReacNICRNTtn', 'parent_of_Metab__HMDB0062643_c1_____Metab__HMDB0001488_c1', 'Metab__HMDB0000042_x', 'parent_of_Metab__HMDB0000161_e1', 'Metab__M00061_m', 'parent_of_Metab__M00795_m1', 'Metab__HMDB0000725_c', 'parent_of_Metab__HMDB0000725_e1', 'parent_of_Metab__HMDB0062585_c1', 'Gene6514__orphanReacGLYCt', 'Metab__M00213_c', 'Metab__HMDB0001846_m', 'Gene711__FPGS', 'Gene7379__orphanReacACALDt_reverse', 'parent_of_Metab__CE2442_x1', 'Metab__CE2424_m', 'Metab__HMDB0001245_m', 'Metab__M01506_r', 'Gene8154__LIPA', 'parent_of_Metab__dcsptn1coa_r1', 'Metab__lnlncgcrn_m', 'Gene1752__orphanReacr1365', 'Metab__lystyrile_c', 'Metab__CE0713_m', 'parent_of_Metab__CE0849_m1', 'Metab__dag_hs_e', 'Gene6546__ECI1', 'Metab__HMDB0003947_c', 'Gene9705__AFMID_reverse', 'MAML1', 'CDK8', 'Metab__HMDB0000252_g', 'Metab__HMDB0062585_m', 'Metab__HMDB0003571_c', 'parent_of_Metab__HMDB0000638_c1', 'CLASP2', 'FHL1', 'Gene3476__orphanReacPHELEUASPr_reverse', 'Metab__tmndnccoa_m', 'Metab__CE5150_m', 'parent_of_Metab__CE5148_m1', 'Metab__HMDB0001197_r', 'Metab__10fthf6glu_c', 'parent_of_Metab__M01236_r1', 'parent_of_Metab__gd1a_hs_c1', 'Metab__HMDB0002226_c', 'Metab__M00909_m', 'parent_of_Metab__HMDB0013114_m1', 'Metab__cs_c_deg5_l', 'Metab__HMDB0000237_m', 'Gene1569__ACSS2', 'Metab__dhcrm_hs_c', 'Metab__dlnlcgcrn_c', 'Metab__metasntyr_c', 'Metab__strdnccoa_c', 'Gene6670__orphanReacASPte', 'parent_of_Metab__HMDB0000191_m1', 'Metab__HMDB0000195_c', 'Metab__r5p_r', 'ADSL', 'Metab__phetyrlys_c', 'Metab__M00170_m', 'parent_of_Metab__M00841_m1', 'Metab__cs_d_deg1_l', 'Metab__HMDB0000237_e', 'Metab__HMDB0000182_e', 'Gene2530__ECI1', 'Metab__M01484_r', 'Gene1065__HEXA', 'Gene6823__LIPA', 'Metab__HMDB0001170_e', 'parent_of_Metab__CE4797_m1', 'Gene6743__orphanReacCHOLPtr_reverse', 'Metab__HMDB0003945_m', 'Metab__HMDB0001011_m', 'Gene2743__orphanReacG3PDm', 'Metab__HMDB0000673_c', 'Gene1705__orphanReacr0987_reverse', 'Metab__HMDB0001322_c', 'Metab__HMDB0001388_c', 'Metab__ttdcea_c', 'Metab__HMDB0000162_m', 'Metab__chlstol_r', 'Metab__HMDB0000227_c', 'Gene7386__orphanReacTRPGLNGLNr_reverse', 'parent_of_Metab__HMDB0000929_e1', 'Metab__HMDB0001338_m', 'Metab__HMDB0000014_c', 'Metab__HC01668_m', 'Metab__HMDB0005065_m', 'parent_of_Metab__M00020_m1', 'Metab__HMDB0013114_m', 'Metab__HMDB0003335_c', 'Metab__asplysglu_c', 'Metab__M00887_m', 'Metab__HMDB0000190_x', 'Metab__HMDB0001325_c', 'Gene6849__orphanReacTMLYStd', 'Metab__HMDB0006547_c', 'Metab__HMDB0000159_e', 'Metab__HMDB0062623_c', 'Metab__HMDB0002013_m', 'Gene8393__LIPA', 'Metab__M00017_r', 'Metab__HC01459_m', 'parent_of_Metab__HMDB0006891_m1', 'Metab__HMDB0001338_x', 'Metab__M00873_m', 'parent_of_Metab__HMDB0000142_e1', 'parent_of_Metab__HMDB0001659_c1', 'Metab__HMDB0013109_r', 'Metab__lneldccoa_c', 'parent_of_Metab__lneldc_c1', 'Metab__HMDB0000318_c', 'Metab__pheme_m', 'Metab__eicostetcoa_r', 'Metab__HMDB0001191_c', 'parent_of_Metab__HMDB0000288_c1_____Metab__HMDB0001000_c1', 'Gene3475__orphanReacPHELEUr_reverse', 'parent_of_Metab__HMDB0000687_e1', 'Metab__aclys_m', 'FYCO1', 'Metab__HMDB0006841_c', 'Metab__HMDB0006292_c', 'Metab__trpglngln_c', 'parent_of_Metab__ksii_core2_deg6_l1_____Metab__HMDB0000143_l1', 'parent_of_Metab__HMDB0001508_m1', 'parent_of_Metab__HMDB0000905_c1', 'Metab__HC02054_c', 'parent_of_Metab__CE5155_r1', 'parent_of_Metab__HMDB0000042_c1', 'Metab__HMDB0002183_e', 'Metab__HMDB0000491_c', 'Metab__HMDB0000162_e', 'Metab__HMDB0002752_m', 'Metab__HMDB0000574_e', 'Metab__M00023_r', 'Metab__tmndnccoa_c', 'parent_of_Metab__tmndnccrn_c1', 'Metab__CE5152_m', 'parent_of_Metab__lneldccoa_r1', 'Metab__HMDB0062371_c', 'Metab__CE4796_m', 'parent_of_Metab__HMDB0001275_m1_____Metab__CE4808_m1', 'Metab__HMDB0000042_g', 'Metab__M03024_m', 'parent_of_Metab__M00170_m1', 'Metab__HMDB0001375_c', 'Metab__prolyspro_c', 'Metab__M01141_m', 'parent_of_Metab__M02976_m1', 'Metab__HMDB0000269_g', 'Metab__HMDB0001875_c', 'Metab__hdcecrn_m', 'Metab__pail345p_hs_n', 'Metab__gd1a_hs_g', 'Metab__HMDB0000824_c', 'Metab__M00129_r', 'Metab__13dmt_c', 'parent_of_Metab__13dmt_e1', 'Metab__HMDB0000122_r', 'Metab__HMDB0000824_m', 'parent_of_Metab__cs_d_deg2_l1', 'Gene1260__UPP1', 'Metab__HMDB0003073_c', 'Metab__hpdcacoa_c', 'Metab__HMDB0000131_c', 'Metab__dece4coa_m', 'Metab__HMDB0000168_e', 'Metab__hpdcacoa_r', 'Metab__HC02057_c', 'Metab__pail_hs_n', 'Metab__ocdececrn_m', 'Metab__HMDB0062623_m', 'Gene7108__orphanReacGLNTYRLEUr', 'Metab__HC02121_c', 'Metab__phytcoa_x', 'Metab__prohistyr_c', 'parent_of_Metab__ksi_deg29_l1_____Metab__HMDB0000215_l1', 'Metab__HMDB0001322_r', 'Metab__adrncoa_c', 'parent_of_Metab__adrncrn_c1', 'parent_of_Metab__Tn_antigen_g1', 'parent_of_Metab__HMDB0000960_m1', 'Metab__lnlccrn_e', 'Gene1485__CMPK1_reverse', 'Metab__31dmt_c', 'parent_of_Metab__31dmt_e1', 'Gene9891__orphanReacMETtm', 'parent_of_Metab__HMDB0000696_e1', 'Metab__HMDB0001114_x', 'Metab__M01508_r', 'Metab__man6p_c', 'parent_of_Metab__HMDB0006330_c1', 'Metab__HMDB0000247_c', 'Metab__CE5114_m', 'parent_of_Metab__CE4791_m1', 'parent_of_Metab__M00018_r1', 'parent_of_Metab__HMDB0000177_e1', 'Metab__dag_hs_r', 'parent_of_Metab__HMDB0003971_c1_____Metab__HMDB0000051_c1', 'Metab__CE2417_m', 'Metab__HMDB0001070_c', 'Metab__HMDB0000296_e', 'parent_of_Metab__HMDB0062214_r1', 'Metab__HMDB0000725_m', 'parent_of_Metab__M00127_r1', 'Metab__cs_c_l', 'Metab__CE4803_m', 'Metab__HMDB0000696_m', 'Metab__HMDB0000296_c', 'Metab__HMDB0000929_e', 'Metab__ptdcacrn_c', 'Metab__HMDB0003335_n', 'Metab__M00795_m', 'parent_of_Metab__M00897_m1', 'Gene7425__orphanReacTYRPHETYRr_reverse', 'parent_of_Metab__HMDB0000159_e1', 'Gene9503__CTSA_GLB1_GALNS_NEU1', 'Metab__tyrphetyr_c', 'Metab__HMDB0062752_m', 'Metab__adrncrn_m', 'Metab__tmndnccrn_m', 'Metab__HMDB0013109_m', 'parent_of_Metab__ksii_core2_deg5_l1', 'Metab__HMDB0001846_l', 'Metab__cs_d_deg4_l', 'Metab__HC01501_c', 'Metab__HMDB0000101_c', 'Metab__HMDB0002845_x', 'Metab__sphs1p_c', 'Metab__HMDB0000139_m'))"
      ]
     },
     "execution_count": 22,
     "metadata": {},
     "output_type": "execute_result"
    }
   ],
   "source": [
    "meta_network_compressed.nodes"
   ]
  },
  {
   "cell_type": "code",
   "execution_count": 26,
   "metadata": {},
   "outputs": [],
   "source": [
    "moon_res = nc.decompress_moon_result(moon_res, compression_dict, meta_network_compressed)\n"
   ]
  },
  {
   "cell_type": "code",
   "execution_count": 28,
   "metadata": {},
   "outputs": [],
   "source": [
    "sol_network = nc.reduce_solution_network(moon_res, meta_network_compressed, 0, sig_input, rna_input)"
   ]
  },
  {
   "cell_type": "code",
   "execution_count": 29,
   "metadata": {},
   "outputs": [
    {
     "data": {
      "text/plain": [
       "NodeView(())"
      ]
     },
     "execution_count": 29,
     "metadata": {},
     "output_type": "execute_result"
    }
   ],
   "source": [
    "sol_network.nodes"
   ]
  },
  {
   "cell_type": "code",
   "execution_count": 26,
   "metadata": {},
   "outputs": [],
   "source": [
    "tf_regn.set_index('source', inplace=True, drop=True)\n",
    "RNA_df = pd.DataFrame.from_dict(rna_input, orient='index', columns=['RNA_input'])\n"
   ]
  },
  {
   "cell_type": "code",
   "execution_count": 27,
   "metadata": {},
   "outputs": [],
   "source": [
    "\n",
    "reg_meta = moon_res[moon_res.index.isin(tf_regn.index)]\n",
    "reg_meta = reg_meta.join(tf_regn)\n",
    "reg_meta.rename(columns={'score': 'TF_score'}, inplace=True)\n",
    "\n",
    "reg_meta = pd.merge(reg_meta, RNA_df, left_on='target', right_index=True)"
   ]
  },
  {
   "cell_type": "code",
   "execution_count": 28,
   "metadata": {},
   "outputs": [],
   "source": [
    "import numpy as np"
   ]
  },
  {
   "cell_type": "code",
   "execution_count": 30,
   "metadata": {},
   "outputs": [
    {
     "data": {
      "text/html": [
       "<div>\n",
       "<style scoped>\n",
       "    .dataframe tbody tr th:only-of-type {\n",
       "        vertical-align: middle;\n",
       "    }\n",
       "\n",
       "    .dataframe tbody tr th {\n",
       "        vertical-align: top;\n",
       "    }\n",
       "\n",
       "    .dataframe thead th {\n",
       "        text-align: right;\n",
       "    }\n",
       "</style>\n",
       "<table border=\"1\" class=\"dataframe\">\n",
       "  <thead>\n",
       "    <tr style=\"text-align: right;\">\n",
       "      <th></th>\n",
       "      <th>TF_score</th>\n",
       "      <th>level</th>\n",
       "      <th>target</th>\n",
       "      <th>weight</th>\n",
       "      <th>PMID</th>\n",
       "      <th>RNA_input</th>\n",
       "    </tr>\n",
       "  </thead>\n",
       "  <tbody>\n",
       "    <tr>\n",
       "      <th>ENO1</th>\n",
       "      <td>-0.608805</td>\n",
       "      <td>2</td>\n",
       "      <td>MYC</td>\n",
       "      <td>-1</td>\n",
       "      <td>10082554;10403782;10528225;10681589;10802057;1...</td>\n",
       "      <td>-0.658955</td>\n",
       "    </tr>\n",
       "    <tr>\n",
       "      <th>ENO1</th>\n",
       "      <td>-0.608805</td>\n",
       "      <td>2</td>\n",
       "      <td>BCL2L1</td>\n",
       "      <td>-1</td>\n",
       "      <td>11973636</td>\n",
       "      <td>-0.179341</td>\n",
       "    </tr>\n",
       "    <tr>\n",
       "      <th>ENO1</th>\n",
       "      <td>-0.608805</td>\n",
       "      <td>2</td>\n",
       "      <td>CASP3</td>\n",
       "      <td>-1</td>\n",
       "      <td>11973636</td>\n",
       "      <td>-0.558814</td>\n",
       "    </tr>\n",
       "    <tr>\n",
       "      <th>ENO1</th>\n",
       "      <td>-0.608805</td>\n",
       "      <td>2</td>\n",
       "      <td>HSPA4</td>\n",
       "      <td>-1</td>\n",
       "      <td>15794924</td>\n",
       "      <td>0.474568</td>\n",
       "    </tr>\n",
       "    <tr>\n",
       "      <th>ENO1</th>\n",
       "      <td>-0.608805</td>\n",
       "      <td>2</td>\n",
       "      <td>JUN</td>\n",
       "      <td>-1</td>\n",
       "      <td>15794924</td>\n",
       "      <td>0.884750</td>\n",
       "    </tr>\n",
       "    <tr>\n",
       "      <th>...</th>\n",
       "      <td>...</td>\n",
       "      <td>...</td>\n",
       "      <td>...</td>\n",
       "      <td>...</td>\n",
       "      <td>...</td>\n",
       "      <td>...</td>\n",
       "    </tr>\n",
       "    <tr>\n",
       "      <th>SFPQ</th>\n",
       "      <td>-0.144298</td>\n",
       "      <td>8</td>\n",
       "      <td>EPHX1</td>\n",
       "      <td>1</td>\n",
       "      <td>23714182</td>\n",
       "      <td>-0.305495</td>\n",
       "    </tr>\n",
       "    <tr>\n",
       "      <th>SFPQ</th>\n",
       "      <td>-0.144298</td>\n",
       "      <td>8</td>\n",
       "      <td>ACTB</td>\n",
       "      <td>1</td>\n",
       "      <td>23756766</td>\n",
       "      <td>0.946368</td>\n",
       "    </tr>\n",
       "    <tr>\n",
       "      <th>SFPQ</th>\n",
       "      <td>-0.144298</td>\n",
       "      <td>8</td>\n",
       "      <td>HSPA9</td>\n",
       "      <td>1</td>\n",
       "      <td>8473291</td>\n",
       "      <td>-0.217217</td>\n",
       "    </tr>\n",
       "    <tr>\n",
       "      <th>SFPQ</th>\n",
       "      <td>-0.144298</td>\n",
       "      <td>8</td>\n",
       "      <td>NR3C1</td>\n",
       "      <td>1</td>\n",
       "      <td>19339282</td>\n",
       "      <td>0.236506</td>\n",
       "    </tr>\n",
       "    <tr>\n",
       "      <th>SFPQ</th>\n",
       "      <td>-0.144298</td>\n",
       "      <td>8</td>\n",
       "      <td>HDAC2</td>\n",
       "      <td>1</td>\n",
       "      <td>19339282</td>\n",
       "      <td>-0.025645</td>\n",
       "    </tr>\n",
       "  </tbody>\n",
       "</table>\n",
       "<p>4132 rows × 6 columns</p>\n",
       "</div>"
      ],
      "text/plain": [
       "      TF_score  level  target  weight  \\\n",
       "ENO1 -0.608805      2     MYC      -1   \n",
       "ENO1 -0.608805      2  BCL2L1      -1   \n",
       "ENO1 -0.608805      2   CASP3      -1   \n",
       "ENO1 -0.608805      2   HSPA4      -1   \n",
       "ENO1 -0.608805      2     JUN      -1   \n",
       "...        ...    ...     ...     ...   \n",
       "SFPQ -0.144298      8   EPHX1       1   \n",
       "SFPQ -0.144298      8    ACTB       1   \n",
       "SFPQ -0.144298      8   HSPA9       1   \n",
       "SFPQ -0.144298      8   NR3C1       1   \n",
       "SFPQ -0.144298      8   HDAC2       1   \n",
       "\n",
       "                                                   PMID  RNA_input  \n",
       "ENO1  10082554;10403782;10528225;10681589;10802057;1...  -0.658955  \n",
       "ENO1                                           11973636  -0.179341  \n",
       "ENO1                                           11973636  -0.558814  \n",
       "ENO1                                           15794924   0.474568  \n",
       "ENO1                                           15794924   0.884750  \n",
       "...                                                 ...        ...  \n",
       "SFPQ                                           23714182  -0.305495  \n",
       "SFPQ                                           23756766   0.946368  \n",
       "SFPQ                                            8473291  -0.217217  \n",
       "SFPQ                                           19339282   0.236506  \n",
       "SFPQ                                           19339282  -0.025645  \n",
       "\n",
       "[4132 rows x 6 columns]"
      ]
     },
     "execution_count": 30,
     "metadata": {},
     "output_type": "execute_result"
    }
   ],
   "source": [
    "reg_meta"
   ]
  },
  {
   "cell_type": "code",
   "execution_count": null,
   "metadata": {},
   "outputs": [],
   "source": [
    "regulons = nx.to_pandas_edgelist(meta_network_compressed)\n",
    "regulons.rename(columns={\"sign\": \"mor\"}, inplace=True)\n",
    "regulons = regulons[~regulons[\"source\"].isin(downstream_input.keys())]\n",
    "\n",
    "decoupler_mat = pd.DataFrame(\n",
    "    list(downstream_input.values()),\n",
    "    index=downstream_input.keys()).T\n",
    "\n",
    "if \"wmean\" in statistic:\n",
    "    estimate, norm, corr, pvals = dc.run_wmean(\n",
    "        mat=decoupler_mat,\n",
    "        net=regulons,\n",
    "        times=n_perm,\n",
    "        weight=None,\n",
    "        min_n=1\n",
    "    )\n",
    "    if statistic == \"norm_wmean\":\n",
    "        estimate = norm\n",
    "elif statistic == \"ulm\":\n",
    "    estimate, pvals = dc.run_ulm(\n",
    "        mat=decoupler_mat,\n",
    "        net=regulons,\n",
    "        weight=None,\n",
    "        min_n=1\n",
    "    )\n",
    "\n",
    "n_plus_one = estimate.T\n",
    "n_plus_one.columns = [\"score\"]\n",
    "n_plus_one[\"level\"] = 1\n",
    "\n",
    "res_list = [n_plus_one]\n",
    "i = 1\n",
    "while len(regulons) > 1 and \\\n",
    "        regulons[\"target\"].isin(res_list[i - 1].index.values).sum() > 1 and \\\n",
    "        i <= n_layers:\n",
    "\n",
    "    regulons = regulons[~regulons[\"source\"].isin(res_list[i - 1].index.values)]\n",
    "    previous_n_plus_one = res_list[i - 1].drop(columns=\"level\").T\n",
    "\n",
    "    if \"wmean\" in statistic:\n",
    "        estimate, norm, corr, pvals = dc.run_wmean(\n",
    "            mat=previous_n_plus_one,\n",
    "            net=regulons,\n",
    "            times=n_perm,\n",
    "            weight=None,\n",
    "            min_n=1\n",
    "        )\n",
    "        if statistic == \"norm_wmean\":\n",
    "            estimate = norm\n",
    "    elif statistic == \"ulm\":\n",
    "        estimate, pvals = dc.run_ulm(\n",
    "            mat=previous_n_plus_one,\n",
    "            net=regulons,\n",
    "            weight=None,\n",
    "            min_n=1\n",
    "        )\n",
    "\n",
    "    n_plus_one = estimate.T\n",
    "    regulons = regulons[~regulons[\"source\"].isin(n_plus_one.index.values)]\n",
    "    n_plus_one[\"level\"] = i + 1\n",
    "    res_list.append(n_plus_one)\n",
    "    i += 1\n",
    "\n",
    "recursive_decoupleRnival_res = pd.concat(res_list)\n",
    "\n",
    "downstream_names = pd.DataFrame.from_dict(downstream_input, orient=\"index\", columns=[\"score\"])\n",
    "downstream_names = downstream_names[abs(downstream_names[\"score\"]) > downstream_cutoff]\n",
    "downstream_names[\"level\"] = 0\n",
    "\n",
    "recursive_decoupleRnival_res = pd.concat([recursive_decoupleRnival_res, downstream_names])\n",
    "\n",
    "if upstream_input is not None:\n",
    "    upstream_input_df = pd.DataFrame.from_dict(upstream_input, orient=\"index\", columns=[\"real_score\"])\n",
    "    upstream_input_df = upstream_input_df.join(recursive_decoupleRnival_res, how='right')\n",
    "    upstream_input_df = upstream_input_df[(np.sign(upstream_input_df[\"real_score\"]) == np.sign(upstream_input_df[\"score\"])) | (np.isnan(upstream_input_df[\"real_score\"]))]\n",
    "    recursive_decoupleRnival_res = upstream_input_df.drop(columns=\"real_score\")\n"
   ]
  },
  {
   "cell_type": "code",
   "execution_count": null,
   "metadata": {},
   "outputs": [
    {
     "data": {
      "text/html": [
       "<div>\n",
       "<style scoped>\n",
       "    .dataframe tbody tr th:only-of-type {\n",
       "        vertical-align: middle;\n",
       "    }\n",
       "\n",
       "    .dataframe tbody tr th {\n",
       "        vertical-align: top;\n",
       "    }\n",
       "\n",
       "    .dataframe thead th {\n",
       "        text-align: right;\n",
       "    }\n",
       "</style>\n",
       "<table border=\"1\" class=\"dataframe\">\n",
       "  <thead>\n",
       "    <tr style=\"text-align: right;\">\n",
       "      <th></th>\n",
       "      <th>score</th>\n",
       "      <th>level</th>\n",
       "    </tr>\n",
       "  </thead>\n",
       "  <tbody>\n",
       "    <tr>\n",
       "      <th>Gene1000000003__SLC7A6</th>\n",
       "      <td>0.354939</td>\n",
       "      <td>1</td>\n",
       "    </tr>\n",
       "    <tr>\n",
       "      <th>Gene10001__SLC7A6_TRANSPORTER2</th>\n",
       "      <td>0.354939</td>\n",
       "      <td>1</td>\n",
       "    </tr>\n",
       "    <tr>\n",
       "      <th>Gene1000200002__SLC7A6</th>\n",
       "      <td>0.354939</td>\n",
       "      <td>1</td>\n",
       "    </tr>\n",
       "    <tr>\n",
       "      <th>Gene1000300003__SLC7A6</th>\n",
       "      <td>0.354939</td>\n",
       "      <td>1</td>\n",
       "    </tr>\n",
       "    <tr>\n",
       "      <th>Gene1000400002__SLC7A6</th>\n",
       "      <td>0.354939</td>\n",
       "      <td>1</td>\n",
       "    </tr>\n",
       "    <tr>\n",
       "      <th>...</th>\n",
       "      <td>...</td>\n",
       "      <td>...</td>\n",
       "    </tr>\n",
       "    <tr>\n",
       "      <th>Metab__HMDB0000167_m</th>\n",
       "      <td>-0.604629</td>\n",
       "      <td>0</td>\n",
       "    </tr>\n",
       "    <tr>\n",
       "      <th>Metab__HMDB0000725_m</th>\n",
       "      <td>0.158506</td>\n",
       "      <td>0</td>\n",
       "    </tr>\n",
       "    <tr>\n",
       "      <th>Metab__HMDB0000158_m</th>\n",
       "      <td>-0.137388</td>\n",
       "      <td>0</td>\n",
       "    </tr>\n",
       "    <tr>\n",
       "      <th>Metab__HMDB0000294_m</th>\n",
       "      <td>0.822585</td>\n",
       "      <td>0</td>\n",
       "    </tr>\n",
       "    <tr>\n",
       "      <th>Metab__HMDB0000883_m</th>\n",
       "      <td>-0.059923</td>\n",
       "      <td>0</td>\n",
       "    </tr>\n",
       "  </tbody>\n",
       "</table>\n",
       "<p>27218 rows × 2 columns</p>\n",
       "</div>"
      ],
      "text/plain": [
       "                                   score  level\n",
       "Gene1000000003__SLC7A6          0.354939      1\n",
       "Gene10001__SLC7A6_TRANSPORTER2  0.354939      1\n",
       "Gene1000200002__SLC7A6          0.354939      1\n",
       "Gene1000300003__SLC7A6          0.354939      1\n",
       "Gene1000400002__SLC7A6          0.354939      1\n",
       "...                                  ...    ...\n",
       "Metab__HMDB0000167_m           -0.604629      0\n",
       "Metab__HMDB0000725_m            0.158506      0\n",
       "Metab__HMDB0000158_m           -0.137388      0\n",
       "Metab__HMDB0000294_m            0.822585      0\n",
       "Metab__HMDB0000883_m           -0.059923      0\n",
       "\n",
       "[27218 rows x 2 columns]"
      ]
     },
     "execution_count": 41,
     "metadata": {},
     "output_type": "execute_result"
    }
   ],
   "source": [
    "recursive_decoupleRnival_res"
   ]
  },
  {
   "cell_type": "code",
   "execution_count": null,
   "metadata": {},
   "outputs": [],
   "source": [
    "regulons = nx.to_pandas_edgelist(meta_network_compressed)\n",
    "regulons.rename(columns={\"sign\": \"mor\"}, inplace=True)\n",
    "regulons = regulons[~regulons[\"source\"].isin(downstream_input.keys())]\n",
    "\n",
    "decoupler_mat = pd.DataFrame(\n",
    "    list(downstream_input.values()),\n",
    "    index=downstream_input.keys()).T"
   ]
  },
  {
   "cell_type": "code",
   "execution_count": null,
   "metadata": {},
   "outputs": [
    {
     "data": {
      "text/plain": [
       "(False, False)"
      ]
     },
     "execution_count": 42,
     "metadata": {},
     "output_type": "execute_result"
    }
   ],
   "source": [
    "import numpy as np\n",
    "# Check for inf values\n",
    "inf_values = np.isinf(decoupler_mat).any().any()\n",
    "\n",
    "# Check for NaN values\n",
    "nan_values = np.isnan(decoupler_mat).any().any()\n",
    "\n",
    "inf_values, nan_values\n"
   ]
  },
  {
   "cell_type": "code",
   "execution_count": null,
   "metadata": {},
   "outputs": [],
   "source": [
    "estimate, pvals = dc.run_ulm(\n",
    "        mat=decoupler_mat,\n",
    "        net=regulons,\n",
    "        weight=None,\n",
    "        min_n=1\n",
    "    )"
   ]
  },
  {
   "cell_type": "code",
   "execution_count": null,
   "metadata": {},
   "outputs": [
    {
     "name": "stderr",
     "output_type": "stream",
     "text": [
      "/home/victo/miniconda3/envs/networkcommons/lib/python3.10/site-packages/decoupler/method_ulm.py:29: RuntimeWarning: invalid value encountered in sqrt\n"
     ]
    },
    {
     "ename": "ValueError",
     "evalue": "mat contains non finite values (nan or inf), please set them to 0 or remove them.",
     "output_type": "error",
     "traceback": [
      "\u001b[0;31m---------------------------------------------------------------------------\u001b[0m",
      "\u001b[0;31mValueError\u001b[0m                                Traceback (most recent call last)",
      "Cell \u001b[0;32mIn[44], line 1\u001b[0m\n\u001b[0;32m----> 1\u001b[0m moon_res \u001b[38;5;241m=\u001b[39m \u001b[43mnc\u001b[49m\u001b[38;5;241;43m.\u001b[39;49m\u001b[43mrun_moon_core\u001b[49m\u001b[43m(\u001b[49m\u001b[43msig_input\u001b[49m\u001b[43m,\u001b[49m\u001b[43m \u001b[49m\u001b[43mmetab_input\u001b[49m\u001b[43m,\u001b[49m\u001b[43m \u001b[49m\u001b[43mmeta_network_compressed\u001b[49m\u001b[43m,\u001b[49m\u001b[43m \u001b[49m\u001b[43mn_layers\u001b[49m\u001b[38;5;241;43m=\u001b[39;49m\u001b[38;5;241;43m100\u001b[39;49m\u001b[43m)\u001b[49m\n",
      "File \u001b[0;32m~/networkcommons/networkcommons/moon.py:341\u001b[0m, in \u001b[0;36mrun_moon_core\u001b[0;34m(upstream_input, downstream_input, meta_network, n_layers, n_perm, downstream_cutoff, statistic)\u001b[0m\n\u001b[1;32m    339\u001b[0m         estimate \u001b[38;5;241m=\u001b[39m norm\n\u001b[1;32m    340\u001b[0m \u001b[38;5;28;01melif\u001b[39;00m statistic \u001b[38;5;241m==\u001b[39m \u001b[38;5;124m\"\u001b[39m\u001b[38;5;124mulm\u001b[39m\u001b[38;5;124m\"\u001b[39m:\n\u001b[0;32m--> 341\u001b[0m     estimate, pvals \u001b[38;5;241m=\u001b[39m \u001b[43mdc\u001b[49m\u001b[38;5;241;43m.\u001b[39;49m\u001b[43mrun_ulm\u001b[49m\u001b[43m(\u001b[49m\n\u001b[1;32m    342\u001b[0m \u001b[43m        \u001b[49m\u001b[43mmat\u001b[49m\u001b[38;5;241;43m=\u001b[39;49m\u001b[43mprevious_n_plus_one\u001b[49m\u001b[43m,\u001b[49m\n\u001b[1;32m    343\u001b[0m \u001b[43m        \u001b[49m\u001b[43mnet\u001b[49m\u001b[38;5;241;43m=\u001b[39;49m\u001b[43mregulons\u001b[49m\u001b[43m,\u001b[49m\n\u001b[1;32m    344\u001b[0m \u001b[43m        \u001b[49m\u001b[43mweight\u001b[49m\u001b[38;5;241;43m=\u001b[39;49m\u001b[38;5;28;43;01mNone\u001b[39;49;00m\u001b[43m,\u001b[49m\n\u001b[1;32m    345\u001b[0m \u001b[43m        \u001b[49m\u001b[43mmin_n\u001b[49m\u001b[38;5;241;43m=\u001b[39;49m\u001b[38;5;241;43m1\u001b[39;49m\n\u001b[1;32m    346\u001b[0m \u001b[43m    \u001b[49m\u001b[43m)\u001b[49m\n\u001b[1;32m    348\u001b[0m n_plus_one \u001b[38;5;241m=\u001b[39m estimate\u001b[38;5;241m.\u001b[39mT\n\u001b[1;32m    349\u001b[0m regulons \u001b[38;5;241m=\u001b[39m regulons[\u001b[38;5;241m~\u001b[39mregulons[\u001b[38;5;124m\"\u001b[39m\u001b[38;5;124msource\u001b[39m\u001b[38;5;124m\"\u001b[39m]\u001b[38;5;241m.\u001b[39misin(n_plus_one\u001b[38;5;241m.\u001b[39mindex\u001b[38;5;241m.\u001b[39mvalues)]\n",
      "File \u001b[0;32m~/miniconda3/envs/networkcommons/lib/python3.10/site-packages/decoupler/method_ulm.py:105\u001b[0m, in \u001b[0;36mrun_ulm\u001b[0;34m(mat, net, source, target, weight, batch_size, min_n, verbose, use_raw)\u001b[0m\n\u001b[1;32m     68\u001b[0m \u001b[38;5;250m\u001b[39m\u001b[38;5;124;03m\"\"\"\u001b[39;00m\n\u001b[1;32m     69\u001b[0m \u001b[38;5;124;03mUnivariate Linear Model (ULM).\u001b[39;00m\n\u001b[1;32m     70\u001b[0m \n\u001b[0;32m   (...)\u001b[0m\n\u001b[1;32m    101\u001b[0m \u001b[38;5;124;03m    Obtained p-values. Stored in `.obsm['ulm_pvals']` if `mat` is AnnData.\u001b[39;00m\n\u001b[1;32m    102\u001b[0m \u001b[38;5;124;03m\"\"\"\u001b[39;00m\n\u001b[1;32m    104\u001b[0m \u001b[38;5;66;03m# Extract sparse matrix and array of genes\u001b[39;00m\n\u001b[0;32m--> 105\u001b[0m m, r, c \u001b[38;5;241m=\u001b[39m \u001b[43mextract\u001b[49m\u001b[43m(\u001b[49m\u001b[43mmat\u001b[49m\u001b[43m,\u001b[49m\u001b[43m \u001b[49m\u001b[43muse_raw\u001b[49m\u001b[38;5;241;43m=\u001b[39;49m\u001b[43muse_raw\u001b[49m\u001b[43m,\u001b[49m\u001b[43m \u001b[49m\u001b[43mverbose\u001b[49m\u001b[38;5;241;43m=\u001b[39;49m\u001b[43mverbose\u001b[49m\u001b[43m)\u001b[49m\n\u001b[1;32m    107\u001b[0m \u001b[38;5;66;03m# Transform net\u001b[39;00m\n\u001b[1;32m    108\u001b[0m net \u001b[38;5;241m=\u001b[39m rename_net(net, source\u001b[38;5;241m=\u001b[39msource, target\u001b[38;5;241m=\u001b[39mtarget, weight\u001b[38;5;241m=\u001b[39mweight)\n",
      "File \u001b[0;32m~/miniconda3/envs/networkcommons/lib/python3.10/site-packages/decoupler/pre.py:106\u001b[0m, in \u001b[0;36mextract\u001b[0;34m(mat, use_raw, verbose, dtype)\u001b[0m\n\u001b[1;32m    102\u001b[0m     \u001b[38;5;28;01mraise\u001b[39;00m \u001b[38;5;167;01mValueError\u001b[39;00m(\u001b[38;5;124m\"\"\"\u001b[39m\u001b[38;5;124mmat must be a list of [matrix, samples, features], dataframe (samples x features) or an AnnData\u001b[39m\n\u001b[1;32m    103\u001b[0m \u001b[38;5;124m    instance.\u001b[39m\u001b[38;5;124m\"\"\"\u001b[39m)\n\u001b[1;32m    105\u001b[0m \u001b[38;5;66;03m# Check mat for empty or not finite values\u001b[39;00m\n\u001b[0;32m--> 106\u001b[0m m, r, c \u001b[38;5;241m=\u001b[39m \u001b[43mcheck_mat\u001b[49m\u001b[43m(\u001b[49m\u001b[43mm\u001b[49m\u001b[43m,\u001b[49m\u001b[43m \u001b[49m\u001b[43mr\u001b[49m\u001b[43m,\u001b[49m\u001b[43m \u001b[49m\u001b[43mc\u001b[49m\u001b[43m,\u001b[49m\u001b[43m \u001b[49m\u001b[43mverbose\u001b[49m\u001b[38;5;241;43m=\u001b[39;49m\u001b[43mverbose\u001b[49m\u001b[43m)\u001b[49m\n\u001b[1;32m    108\u001b[0m \u001b[38;5;66;03m# Sort genes\u001b[39;00m\n\u001b[1;32m    109\u001b[0m msk \u001b[38;5;241m=\u001b[39m np\u001b[38;5;241m.\u001b[39margsort(c)\n",
      "File \u001b[0;32m~/miniconda3/envs/networkcommons/lib/python3.10/site-packages/decoupler/pre.py:53\u001b[0m, in \u001b[0;36mcheck_mat\u001b[0;34m(m, r, c, verbose)\u001b[0m\n\u001b[1;32m     51\u001b[0m \u001b[38;5;66;03m# Check for non finite values\u001b[39;00m\n\u001b[1;32m     52\u001b[0m \u001b[38;5;28;01mif\u001b[39;00m np\u001b[38;5;241m.\u001b[39many(\u001b[38;5;241m~\u001b[39mnp\u001b[38;5;241m.\u001b[39misfinite(m\u001b[38;5;241m.\u001b[39mdata)):\n\u001b[0;32m---> 53\u001b[0m     \u001b[38;5;28;01mraise\u001b[39;00m \u001b[38;5;167;01mValueError\u001b[39;00m(\u001b[38;5;124m\"\"\"\u001b[39m\u001b[38;5;124mmat contains non finite values (nan or inf), please set them to 0 or remove them.\u001b[39m\u001b[38;5;124m\"\"\"\u001b[39m)\n\u001b[1;32m     55\u001b[0m \u001b[38;5;28;01mreturn\u001b[39;00m m, r, c\n",
      "\u001b[0;31mValueError\u001b[0m: mat contains non finite values (nan or inf), please set them to 0 or remove them."
     ]
    }
   ],
   "source": [
    "moon_res = nc.run_moon_core(sig_input, metab_input, meta_network_compressed, n_layers=100)"
   ]
  },
  {
   "cell_type": "code",
   "execution_count": 26,
   "metadata": {},
   "outputs": [
    {
     "ename": "NameError",
     "evalue": "name 'moon_res' is not defined",
     "output_type": "error",
     "traceback": [
      "\u001b[0;31m---------------------------------------------------------------------------\u001b[0m",
      "\u001b[0;31mNameError\u001b[0m                                 Traceback (most recent call last)",
      "Cell \u001b[0;32mIn[26], line 1\u001b[0m\n\u001b[0;32m----> 1\u001b[0m nc\u001b[38;5;241m.\u001b[39mfilter_incohrent_TF_target(\u001b[43mmoon_res\u001b[49m, tf_regn, meta_network_compressed, rna_input)\n",
      "\u001b[0;31mNameError\u001b[0m: name 'moon_res' is not defined"
     ]
    }
   ],
   "source": [
    "nc.filter_incohrent_TF_target(moon_res, tf_regn, meta_network_compressed, rna_input)"
   ]
  },
  {
   "cell_type": "code",
   "execution_count": null,
   "metadata": {},
   "outputs": [],
   "source": []
  }
 ],
 "metadata": {
  "kernelspec": {
   "display_name": "networkcommons",
   "language": "python",
   "name": "python3"
  },
  "language_info": {
   "codemirror_mode": {
    "name": "ipython",
    "version": 3
   },
   "file_extension": ".py",
   "mimetype": "text/x-python",
   "name": "python",
   "nbconvert_exporter": "python",
   "pygments_lexer": "ipython3",
   "version": "3.10.14"
  }
 },
 "nbformat": 4,
 "nbformat_minor": 2
}
